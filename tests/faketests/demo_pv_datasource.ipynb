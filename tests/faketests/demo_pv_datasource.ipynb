{
 "cells": [
  {
   "cell_type": "markdown",
   "metadata": {},
   "source": [
    "# Demonstration of PV datasource"
   ]
  },
  {
   "cell_type": "code",
   "execution_count": 31,
   "metadata": {
    "collapsed": true
   },
   "outputs": [],
   "source": [
    "from phantasy.library.pv import DataSource"
   ]
  },
  {
   "cell_type": "code",
   "execution_count": 32,
   "metadata": {
    "collapsed": true
   },
   "outputs": [],
   "source": [
    "db = './config/FRIB_TEST/baseline_channels.sqlite'\n",
    "url = 'https://127.0.0.1:8181/ChannelFinder'"
   ]
  },
  {
   "cell_type": "code",
   "execution_count": 33,
   "metadata": {
    "collapsed": false
   },
   "outputs": [],
   "source": [
    "ds1 = DataSource(source=db)\n",
    "ds2 = DataSource(source=url)"
   ]
  },
  {
   "cell_type": "markdown",
   "metadata": {},
   "source": [
    "Get channels' data\n",
    "=================="
   ]
  },
  {
   "cell_type": "markdown",
   "metadata": {},
   "source": [
    "Get all data from PV source\n",
    "---------------------------"
   ]
  },
  {
   "cell_type": "code",
   "execution_count": 34,
   "metadata": {
    "collapsed": false
   },
   "outputs": [],
   "source": [
    "data = ds1.get_data()"
   ]
  },
  {
   "cell_type": "code",
   "execution_count": 5,
   "metadata": {
    "collapsed": false
   },
   "outputs": [
    {
     "data": {
      "text/plain": [
       "[u'V_1:LS1_CA01:CAV1_D1127:PHA_CSET',\n",
       " [('elemHandle', u'setpoint'),\n",
       "  ('elemName', u'LS1_CA01:CAV1_D1127'),\n",
       "  ('epsilon', 0.0),\n",
       "  ('virtual', 0),\n",
       "  ('elemIndex', 3),\n",
       "  ('elemType', u'CAV'),\n",
       "  ('elemPosition', 0.4470635),\n",
       "  ('elemLength', 0.24),\n",
       "  ('archive', 0),\n",
       "  ('elemField', u'PHA'),\n",
       "  ('size', 0)],\n",
       " [u'phyutil.sub.CA01', u'phyutil.sys.LINAC', u'phyutil.sys.LS1']]"
      ]
     },
     "execution_count": 5,
     "metadata": {},
     "output_type": "execute_result"
    }
   ],
   "source": [
    "data[0]"
   ]
  },
  {
   "cell_type": "code",
   "execution_count": 47,
   "metadata": {
    "collapsed": false
   },
   "outputs": [],
   "source": [
    "data_bpm = ds1.get_data(prop_filter=[\"*\", ('elemType','BPM'),('elemField','Y')])"
   ]
  },
  {
   "cell_type": "code",
   "execution_count": 48,
   "metadata": {
    "collapsed": false
   },
   "outputs": [
    {
     "data": {
      "text/plain": [
       "[u'V_1:LS1_CA01:BPM_D1129:Y_RD',\n",
       " [('elemHandle', u'readback'),\n",
       "  ('elemName', u'LS1_CA01:BPM_D1129'),\n",
       "  ('epsilon', 0.0),\n",
       "  ('virtual', 0),\n",
       "  ('elemIndex', 6),\n",
       "  ('elemType', u'BPM'),\n",
       "  ('elemPosition', 0.51132684),\n",
       "  ('elemLength', 0.0),\n",
       "  ('archive', 0),\n",
       "  ('elemField', u'Y'),\n",
       "  ('size', 0)],\n",
       " [u'phyutil.sub.CA01', u'phyutil.sys.LINAC', u'phyutil.sys.LS1']]"
      ]
     },
     "execution_count": 48,
     "metadata": {},
     "output_type": "execute_result"
    }
   ],
   "source": [
    "data_bpm[0]"
   ]
  },
  {
   "cell_type": "markdown",
   "metadata": {},
   "source": [
    "Filter property names (OR logical)\n",
    "----------------------------------"
   ]
  },
  {
   "cell_type": "code",
   "execution_count": 6,
   "metadata": {
    "collapsed": true
   },
   "outputs": [],
   "source": [
    "data = ds1.get_data(prop_filter='elem*')"
   ]
  },
  {
   "cell_type": "code",
   "execution_count": 7,
   "metadata": {
    "collapsed": false
   },
   "outputs": [
    {
     "data": {
      "text/plain": [
       "[u'V_1:LS1_CA01:CAV1_D1127:PHA_CSET',\n",
       " [('elemHandle', u'setpoint'),\n",
       "  ('elemName', u'LS1_CA01:CAV1_D1127'),\n",
       "  ('elemIndex', 3),\n",
       "  ('elemType', u'CAV'),\n",
       "  ('elemPosition', 0.4470635),\n",
       "  ('elemLength', 0.24),\n",
       "  ('elemField', u'PHA')],\n",
       " [u'phyutil.sub.CA01', u'phyutil.sys.LINAC', u'phyutil.sys.LS1']]"
      ]
     },
     "execution_count": 7,
     "metadata": {},
     "output_type": "execute_result"
    }
   ],
   "source": [
    "data[0]"
   ]
  },
  {
   "cell_type": "markdown",
   "metadata": {},
   "source": [
    "Filter property configuration (AND logical)\n",
    "-------------------------------------------"
   ]
  },
  {
   "cell_type": "code",
   "execution_count": 8,
   "metadata": {
    "collapsed": true
   },
   "outputs": [],
   "source": [
    "data = ds1.get_data(prop_filter=[('elemHandle', 'readback')])"
   ]
  },
  {
   "cell_type": "code",
   "execution_count": 9,
   "metadata": {
    "collapsed": false
   },
   "outputs": [
    {
     "data": {
      "text/plain": [
       "[u'V_1:LS1_CA01:CAV1_D1127:PHA_RD',\n",
       " [('elemHandle', u'readback')],\n",
       " [u'phyutil.sub.CA01', u'phyutil.sys.LINAC', u'phyutil.sys.LS1']]"
      ]
     },
     "execution_count": 9,
     "metadata": {},
     "output_type": "execute_result"
    }
   ],
   "source": [
    "data[0]"
   ]
  },
  {
   "cell_type": "markdown",
   "metadata": {},
   "source": [
    "Filter properties (mixed)\n",
    "-------------------------"
   ]
  },
  {
   "cell_type": "code",
   "execution_count": 10,
   "metadata": {
    "collapsed": true
   },
   "outputs": [],
   "source": [
    "data = ds1.get_data(prop_filter=['elem*', ('elemHandle', 'readback')])"
   ]
  },
  {
   "cell_type": "code",
   "execution_count": 11,
   "metadata": {
    "collapsed": false
   },
   "outputs": [
    {
     "data": {
      "text/plain": [
       "[u'V_1:LS1_CA01:CAV1_D1127:PHA_RD',\n",
       " [('elemHandle', u'readback'),\n",
       "  ('elemName', u'LS1_CA01:CAV1_D1127'),\n",
       "  ('elemIndex', 3),\n",
       "  ('elemType', u'CAV'),\n",
       "  ('elemPosition', 0.4470635),\n",
       "  ('elemLength', 0.24),\n",
       "  ('elemField', u'PHA')],\n",
       " [u'phyutil.sub.CA01', u'phyutil.sys.LINAC', u'phyutil.sys.LS1']]"
      ]
     },
     "execution_count": 11,
     "metadata": {},
     "output_type": "execute_result"
    }
   ],
   "source": [
    "data[0]"
   ]
  },
  {
   "cell_type": "markdown",
   "metadata": {},
   "source": [
    "Filter tags (AND logical)\n",
    "-------------------------"
   ]
  },
  {
   "cell_type": "code",
   "execution_count": 17,
   "metadata": {
    "collapsed": true
   },
   "outputs": [],
   "source": [
    "data = ds1.get_data(prop_filter=['elem*', ('elemHandle', 'readback')], tag_filter='phyutil.sys.LS1')"
   ]
  },
  {
   "cell_type": "code",
   "execution_count": 18,
   "metadata": {
    "collapsed": false
   },
   "outputs": [
    {
     "data": {
      "text/plain": [
       "621"
      ]
     },
     "execution_count": 18,
     "metadata": {},
     "output_type": "execute_result"
    }
   ],
   "source": [
    "len(data)"
   ]
  },
  {
   "cell_type": "code",
   "execution_count": 19,
   "metadata": {
    "collapsed": true
   },
   "outputs": [],
   "source": [
    "data = ds1.get_data(prop_filter=['elem*', ('elemHandle', 'readback')], tag_filter='phyutil.sys.FS1')"
   ]
  },
  {
   "cell_type": "code",
   "execution_count": 21,
   "metadata": {
    "collapsed": false
   },
   "outputs": [
    {
     "data": {
      "text/plain": [
       "222"
      ]
     },
     "execution_count": 21,
     "metadata": {},
     "output_type": "execute_result"
    }
   ],
   "source": [
    "len(data)"
   ]
  },
  {
   "cell_type": "markdown",
   "metadata": {},
   "source": [
    "Change source\n",
    "-------------"
   ]
  },
  {
   "cell_type": "code",
   "execution_count": 25,
   "metadata": {
    "collapsed": false
   },
   "outputs": [
    {
     "name": "stdout",
     "output_type": "stream",
     "text": [
      "Current PV source address is ./config/FRIB_TEST/baseline_channels.sqlite, source type is sql\n"
     ]
    }
   ],
   "source": [
    "print(\"Current PV source address is {}, source type is {}\".format(ds1.source, ds1.source_type))"
   ]
  },
  {
   "cell_type": "code",
   "execution_count": 26,
   "metadata": {
    "collapsed": true
   },
   "outputs": [],
   "source": [
    "ds1.source = url"
   ]
  },
  {
   "cell_type": "code",
   "execution_count": 27,
   "metadata": {
    "collapsed": false
   },
   "outputs": [
    {
     "name": "stdout",
     "output_type": "stream",
     "text": [
      "Now PV source address is https://127.0.0.1:8181/ChannelFinder, source type is cfs\n"
     ]
    }
   ],
   "source": [
    "print(\"Now PV source address is {}, source type is {}\".format(ds1.source, ds1.source_type))"
   ]
  },
  {
   "cell_type": "code",
   "execution_count": 28,
   "metadata": {
    "collapsed": true
   },
   "outputs": [],
   "source": [
    "data = ds1.get_data(prop_filter=['elem*', ('elemHandle', 'readback')], tag_filter='phyutil.sys.LS1')"
   ]
  },
  {
   "cell_type": "code",
   "execution_count": 29,
   "metadata": {
    "collapsed": false
   },
   "outputs": [
    {
     "data": {
      "text/plain": [
       "621"
      ]
     },
     "execution_count": 29,
     "metadata": {},
     "output_type": "execute_result"
    }
   ],
   "source": [
    "len(data)"
   ]
  },
  {
   "cell_type": "code",
   "execution_count": 30,
   "metadata": {
    "collapsed": false
   },
   "outputs": [
    {
     "data": {
      "text/plain": [
       "{u'name': u'V2:LS1_CA01:BPM_D1129:X_RD',\n",
       " u'owner': u'tong',\n",
       " u'properties': [{u'name': u'elemHandle',\n",
       "   u'owner': u'tong',\n",
       "   u'value': u'readback'},\n",
       "  {u'name': u'elemName', u'owner': u'tong', u'value': u'LS1_CA01:BPM_D1129'},\n",
       "  {u'name': u'elemType', u'owner': u'tong', u'value': u'BPM'},\n",
       "  {u'name': u'elemIndex', u'owner': u'tong', u'value': u'6'},\n",
       "  {u'name': u'elemPosition', u'owner': u'tong', u'value': u'0.51132684'},\n",
       "  {u'name': u'elemLength', u'owner': u'tong', u'value': u'0.0'},\n",
       "  {u'name': u'elemField', u'owner': u'tong', u'value': u'X'}],\n",
       " u'tags': [{u'name': u'phyutil.sys.LS1', u'owner': u'tong'},\n",
       "  {u'name': u'phyutil.sub.CA01', u'owner': u'tong'},\n",
       "  {u'name': u'T_A', u'owner': u'tong'},\n",
       "  {u'name': u'T_B', u'owner': u'tong'}]}"
      ]
     },
     "execution_count": 30,
     "metadata": {},
     "output_type": "execute_result"
    }
   ],
   "source": [
    "data[0]"
   ]
  },
  {
   "cell_type": "code",
   "execution_count": null,
   "metadata": {
    "collapsed": true
   },
   "outputs": [],
   "source": []
  }
 ],
 "metadata": {
  "kernelspec": {
   "display_name": "Python 2",
   "language": "python",
   "name": "python2"
  },
  "language_info": {
   "codemirror_mode": {
    "name": "ipython",
    "version": 2
   },
   "file_extension": ".py",
   "mimetype": "text/x-python",
   "name": "python",
   "nbconvert_exporter": "python",
   "pygments_lexer": "ipython2",
   "version": "2.7.12"
  }
 },
 "nbformat": 4,
 "nbformat_minor": 0
}

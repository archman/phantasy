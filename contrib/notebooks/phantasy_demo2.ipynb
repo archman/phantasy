{
 "cells": [
  {
   "cell_type": "markdown",
   "metadata": {},
   "source": [
    "# Cavity Tunning"
   ]
  },
  {
   "cell_type": "code",
   "execution_count": 1,
   "metadata": {
    "collapsed": true
   },
   "outputs": [],
   "source": [
    "import os\n",
    "import phantasy\n",
    "import scan\n",
    "import matplotlib.pyplot as plt\n",
    "%matplotlib inline"
   ]
  },
  {
   "cell_type": "markdown",
   "metadata": {},
   "source": [
    "## Build high-level lattice based on machine configurations"
   ]
  },
  {
   "cell_type": "code",
   "execution_count": 2,
   "metadata": {
    "collapsed": false
   },
   "outputs": [],
   "source": [
    "machine_repo = \"/home/tong1/work/FRIB/projects/machines\"\n",
    "machine = os.path.join(machine_repo, \"FRIB_FLAME\")"
   ]
  },
  {
   "cell_type": "code",
   "execution_count": 3,
   "metadata": {
    "collapsed": false
   },
   "outputs": [
    {
     "name": "stdout",
     "output_type": "stream",
     "text": [
      "/home/tong1/work/FRIB/projects/machines/FRIB_FLAME LINAC\n"
     ]
    },
    {
     "name": "stderr",
     "output_type": "stream",
     "text": [
      "/usr/lib/python2.7/dist-packages/urllib3/connectionpool.py:794: InsecureRequestWarning: Unverified HTTPS request is being made. Adding certificate verification is strongly advised. See: https://urllib3.readthedocs.org/en/latest/security.html\n",
      "  InsecureRequestWarning)\n"
     ]
    }
   ],
   "source": [
    "mp = phantasy.MachinePortal(machine=machine, segment='LINAC')"
   ]
  },
  {
   "cell_type": "markdown",
   "metadata": {},
   "source": [
    "## Select cavity needs to be tunned"
   ]
  },
  {
   "cell_type": "code",
   "execution_count": 4,
   "metadata": {
    "collapsed": false
   },
   "outputs": [
    {
     "name": "stdout",
     "output_type": "stream",
     "text": [
      "3 LS1_CA01:CAV1_D1127 CAV 0.2070635 0.24 None None None None (0, 0)\n"
     ]
    }
   ],
   "source": [
    "all_cavities = mp.get_elements(type='CAV')\n",
    "cav = all_cavities[0]\n",
    "print(cav)"
   ]
  },
  {
   "cell_type": "markdown",
   "metadata": {},
   "source": [
    "## Get PV names from selected cavity, both set and read types"
   ]
  },
  {
   "cell_type": "code",
   "execution_count": 5,
   "metadata": {
    "collapsed": false
   },
   "outputs": [
    {
     "name": "stdout",
     "output_type": "stream",
     "text": [
      "VA:LS1_CA01:CAV1_D1127:PHA_CSET\n"
     ]
    }
   ],
   "source": [
    "device_set = str(cav.pv(field='PHA', handle='setpoint')[0])\n",
    "print(device_set)"
   ]
  },
  {
   "cell_type": "code",
   "execution_count": 6,
   "metadata": {
    "collapsed": false
   },
   "outputs": [
    {
     "name": "stdout",
     "output_type": "stream",
     "text": [
      "VA:LS1_CA01:CAV1_D1127:PHA_RD\n"
     ]
    }
   ],
   "source": [
    "device_read = str(cav.pv(field='PHA', handle='readback')[0])\n",
    "print(device_read)"
   ]
  },
  {
   "cell_type": "markdown",
   "metadata": {},
   "source": [
    "## Select monitors downstream, to record readings when cavity is tunning"
   ]
  },
  {
   "cell_type": "code",
   "execution_count": 7,
   "metadata": {
    "collapsed": false
   },
   "outputs": [
    {
     "data": {
      "text/plain": [
       "[LS1_CA01:BPM_D1129:BPM @ sb=0.511327,\n",
       " LS1_CA01:BPM_D1144:BPM @ sb=2.070634,\n",
       " LS1_WA01:BPM_D1155:BPM @ sb=3.109095,\n",
       " LS1_CA02:BPM_D1163:BPM @ sb=3.884422,\n",
       " LS1_CA02:BPM_D1178:BPM @ sb=5.443728,\n",
       " LS1_WA02:BPM_D1189:BPM @ sb=6.482189,\n",
       " LS1_CA03:BPM_D1196:BPM @ sb=7.257516,\n",
       " LS1_CA03:BPM_D1212:BPM @ sb=8.816823,\n",
       " LS1_WA03:BPM_D1222:BPM @ sb=9.855284,\n",
       " LS1_CB01:BPM_D1231:BPM @ sb=10.762191]"
      ]
     },
     "execution_count": 7,
     "metadata": {},
     "output_type": "execute_result"
    }
   ],
   "source": [
    "mp.next_elements(cav, count=10, type='BPM', range='0::1')"
   ]
  },
  {
   "cell_type": "code",
   "execution_count": 8,
   "metadata": {
    "collapsed": false
   },
   "outputs": [],
   "source": [
    "bpm1, bpm2 = mp.next_elements(cav, count=10, type='BPM', range='0::1')[2:5:2]"
   ]
  },
  {
   "cell_type": "code",
   "execution_count": 9,
   "metadata": {
    "collapsed": false
   },
   "outputs": [
    {
     "data": {
      "text/plain": [
       "(LS1_WA01:BPM_D1155:BPM @ sb=3.109095, LS1_CA02:BPM_D1178:BPM @ sb=5.443728)"
      ]
     },
     "execution_count": 9,
     "metadata": {},
     "output_type": "execute_result"
    }
   ],
   "source": [
    "bpm1, bpm2"
   ]
  },
  {
   "cell_type": "markdown",
   "metadata": {},
   "source": [
    "## Select all cavities between the selected cavity and the second selected BPM"
   ]
  },
  {
   "cell_type": "code",
   "execution_count": 10,
   "metadata": {
    "collapsed": false
   },
   "outputs": [
    {
     "data": {
      "text/plain": [
       "[LS1_CA01:BPM_D1129:BPM @ sb=0.511327,\n",
       " LS1_CA01:SOL1_D1131:SOL @ sb=0.643330,\n",
       " LS1_CA01:DCH_D1131:HCOR @ sb=0.743330,\n",
       " LS1_CA01:DCV_D1131:VCOR @ sb=0.743330,\n",
       " LS1_CA01:CAV2_D1135:CAV @ sb=0.986724,\n",
       " LS1_CA01:CAV3_D1143:CAV @ sb=1.766370,\n",
       " LS1_CA01:BPM_D1144:BPM @ sb=2.070634,\n",
       " LS1_CA01:SOL2_D1147:SOL @ sb=2.202637,\n",
       " LS1_CA01:DCH_D1147:HCOR @ sb=2.302637,\n",
       " LS1_CA01:DCV_D1147:VCOR @ sb=2.302637,\n",
       " LS1_CA01:CAV4_D1150:CAV @ sb=2.546031,\n",
       " LS1_WA01:BPM_D1155:BPM @ sb=3.109095,\n",
       " LS1_CA02:CAV1_D1161:CAV @ sb=3.580158,\n",
       " LS1_CA02:BPM_D1163:BPM @ sb=3.884422,\n",
       " LS1_CA02:SOL1_D1165:SOL @ sb=4.016425,\n",
       " LS1_CA02:DCV_D1165:VCOR @ sb=4.116425,\n",
       " LS1_CA02:DCH_D1165:HCOR @ sb=4.116425,\n",
       " LS1_CA02:CAV2_D1169:CAV @ sb=4.359819,\n",
       " LS1_CA02:CAV3_D1176:CAV @ sb=5.139465,\n",
       " LS1_CA02:BPM_D1178:BPM @ sb=5.443728]"
      ]
     },
     "execution_count": 10,
     "metadata": {},
     "output_type": "execute_result"
    }
   ],
   "source": [
    "mp.get_elements(srange=(cav.se, bpm2.sb))"
   ]
  },
  {
   "cell_type": "code",
   "execution_count": 11,
   "metadata": {
    "collapsed": false
   },
   "outputs": [],
   "source": [
    "cavs_to_turn_off = mp.get_elements(type='CAV', srange=(cav.se, bpm2.sb))"
   ]
  },
  {
   "cell_type": "code",
   "execution_count": 12,
   "metadata": {
    "collapsed": false
   },
   "outputs": [
    {
     "data": {
      "text/plain": [
       "[LS1_CA01:CAV2_D1135:CAV @ sb=0.986724,\n",
       " LS1_CA01:CAV3_D1143:CAV @ sb=1.766370,\n",
       " LS1_CA01:CAV4_D1150:CAV @ sb=2.546031,\n",
       " LS1_CA02:CAV1_D1161:CAV @ sb=3.580158,\n",
       " LS1_CA02:CAV2_D1169:CAV @ sb=4.359819,\n",
       " LS1_CA02:CAV3_D1176:CAV @ sb=5.139465]"
      ]
     },
     "execution_count": 12,
     "metadata": {},
     "output_type": "execute_result"
    }
   ],
   "source": [
    "cavs_to_turn_off"
   ]
  },
  {
   "cell_type": "markdown",
   "metadata": {},
   "source": [
    "## Get PV names (phase and amplitude) of these cavities, save present settings then shut them off"
   ]
  },
  {
   "cell_type": "code",
   "execution_count": 13,
   "metadata": {
    "collapsed": true
   },
   "outputs": [],
   "source": [
    "cavs_pv_amp = [str(c.pv(field='AMP', handle='setpoint')[0]) for c in cavs_to_turn_off]\n",
    "cavs_pv_pha = [str(c.pv(field='PHA', handle='setpoint')[0]) for c in cavs_to_turn_off]"
   ]
  },
  {
   "cell_type": "code",
   "execution_count": 14,
   "metadata": {
    "collapsed": false
   },
   "outputs": [],
   "source": [
    "cavs_settings0 = phantasy.caget(cavs_pv_amp + cavs_pv_pha)"
   ]
  },
  {
   "cell_type": "code",
   "execution_count": 15,
   "metadata": {
    "collapsed": false
   },
   "outputs": [
    {
     "data": {
      "text/plain": [
       "[0.7, 0.76, 0.82, 0.88, 0.94, 1.0, 325.0, 325.0, 325.0, 325.0, 325.0, 325.0]"
      ]
     },
     "execution_count": 15,
     "metadata": {},
     "output_type": "execute_result"
    }
   ],
   "source": [
    "cavs_settings0"
   ]
  },
  {
   "cell_type": "markdown",
   "metadata": {},
   "source": [
    "## set them to 0"
   ]
  },
  {
   "cell_type": "code",
   "execution_count": 16,
   "metadata": {
    "collapsed": false
   },
   "outputs": [
    {
     "data": {
      "text/plain": [
       "[cothread.catools.ca_nothing(),\n",
       " cothread.catools.ca_nothing(),\n",
       " cothread.catools.ca_nothing(),\n",
       " cothread.catools.ca_nothing(),\n",
       " cothread.catools.ca_nothing(),\n",
       " cothread.catools.ca_nothing(),\n",
       " cothread.catools.ca_nothing(),\n",
       " cothread.catools.ca_nothing(),\n",
       " cothread.catools.ca_nothing(),\n",
       " cothread.catools.ca_nothing(),\n",
       " cothread.catools.ca_nothing(),\n",
       " cothread.catools.ca_nothing()]"
      ]
     },
     "execution_count": 16,
     "metadata": {},
     "output_type": "execute_result"
    }
   ],
   "source": [
    "phantasy.caput(cavs_pv_amp + cavs_pv_pha, [0.0]*len(cavs_pv_amp+cavs_pv_pha), wait=True)"
   ]
  },
  {
   "cell_type": "markdown",
   "metadata": {},
   "source": [
    "## Setup scan task"
   ]
  },
  {
   "cell_type": "markdown",
   "metadata": {},
   "source": [
    "Scan tasks are globally managed by SCAN SERVER, what the users have to do is create task by using classes from ``phantasy``, then submit to SERVER. Scan procedure state could be checked interactively in python terminal or in Scan Monitor of CSS; SCAN SERVER also can respond specific request comes from scan client, i.e. python terminal or CSS."
   ]
  },
  {
   "cell_type": "markdown",
   "metadata": {},
   "source": [
    "### Save initial settings of cavity"
   ]
  },
  {
   "cell_type": "code",
   "execution_count": 17,
   "metadata": {
    "collapsed": true
   },
   "outputs": [],
   "source": [
    "device_set_setting0 = phantasy.caget(device_set)"
   ]
  },
  {
   "cell_type": "code",
   "execution_count": 18,
   "metadata": {
    "collapsed": false
   },
   "outputs": [
    {
     "name": "stdout",
     "output_type": "stream",
     "text": [
      "325.0\n"
     ]
    }
   ],
   "source": [
    "print(device_set_setting0)"
   ]
  },
  {
   "cell_type": "markdown",
   "metadata": {},
   "source": [
    "### Prepare PV names so as to record readings when scan routine is processing"
   ]
  },
  {
   "cell_type": "code",
   "execution_count": 19,
   "metadata": {
    "collapsed": true
   },
   "outputs": [],
   "source": [
    "log_devices = [str(bpm1.pv(field='PHA', handle='readback')[0]), str(bpm2.pv(field='PHA', handle='readback')[0]),\n",
    "               str(bpm1.pv(field='ENG', handle='readback')[0]), str(bpm2.pv(field='ENG', handle='readback')[0]),\n",
    "               device_read]"
   ]
  },
  {
   "cell_type": "code",
   "execution_count": 20,
   "metadata": {
    "collapsed": false
   },
   "outputs": [
    {
     "name": "stdout",
     "output_type": "stream",
     "text": [
      "['VA:LS1_WA01:BPM_D1155:PHA_RD', 'VA:LS1_CA02:BPM_D1178:PHA_RD', 'VA:LS1_WA01:BPM_D1155:ENG_RD', 'VA:LS1_CA02:BPM_D1178:ENG_RD', 'VA:LS1_CA01:CAV1_D1127:PHA_RD']\n"
     ]
    }
   ],
   "source": [
    "print(log_devices)"
   ]
  },
  {
   "cell_type": "markdown",
   "metadata": {},
   "source": [
    "### Build one-dimensional scan task"
   ]
  },
  {
   "cell_type": "code",
   "execution_count": 21,
   "metadata": {
    "collapsed": true
   },
   "outputs": [],
   "source": [
    "scantask = phantasy.ScanClient1D()"
   ]
  },
  {
   "cell_type": "code",
   "execution_count": 22,
   "metadata": {
    "collapsed": false
   },
   "outputs": [
    {
     "data": {
      "text/plain": [
       "ScanClient1D at http://localhost:4810"
      ]
     },
     "execution_count": 22,
     "metadata": {},
     "output_type": "execute_result"
    }
   ],
   "source": [
    "scantask"
   ]
  },
  {
   "cell_type": "code",
   "execution_count": 23,
   "metadata": {
    "collapsed": false
   },
   "outputs": [
    {
     "data": {
      "text/plain": [
       "[Set('VA:LS1_CA01:CAV1_D1127:PHA_CSET', 0.0, completion=True, readback='VA:LS1_CA01:CAV1_D1127:PHA_RD', timeout=5.0),\n",
       " Loop('VA:LS1_CA01:CAV1_D1127:PHA_CSET', 0, 360, 10, [ Loop('loc://i(0)', 1, 5, 1, [ Delay(1), Log('VA:LS1_WA01:BPM_D1155:PHA_RD', 'VA:LS1_CA02:BPM_D1178:PHA_RD', 'VA:LS1_WA01:BPM_D1155:ENG_RD', 'VA:LS1_CA02:BPM_D1178:ENG_RD', 'VA:LS1_CA01:CAV1_D1127:PHA_RD', 'loc://i(0)') ]) ], completion=True, readback='VA:LS1_CA01:CAV1_D1127:PHA_RD', tolerance=0.5, timeout=5),\n",
       " Set('VA:LS1_CA01:CAV1_D1127:PHA_CSET', 325.0),\n",
       " Set('VA:LS1_CA01:CAV2_D1135:AMPL_CSET', 0.7),\n",
       " Set('VA:LS1_CA01:CAV3_D1143:AMPL_CSET', 0.76),\n",
       " Set('VA:LS1_CA01:CAV4_D1150:AMPL_CSET', 0.82),\n",
       " Set('VA:LS1_CA02:CAV1_D1161:AMPL_CSET', 0.88),\n",
       " Set('VA:LS1_CA02:CAV2_D1169:AMPL_CSET', 0.94),\n",
       " Set('VA:LS1_CA02:CAV3_D1176:AMPL_CSET', 1.0),\n",
       " Set('VA:LS1_CA01:CAV2_D1135:PHA_CSET', 325.0),\n",
       " Set('VA:LS1_CA01:CAV3_D1143:PHA_CSET', 325.0),\n",
       " Set('VA:LS1_CA01:CAV4_D1150:PHA_CSET', 325.0),\n",
       " Set('VA:LS1_CA02:CAV1_D1161:PHA_CSET', 325.0),\n",
       " Set('VA:LS1_CA02:CAV2_D1169:PHA_CSET', 325.0),\n",
       " Set('VA:LS1_CA02:CAV3_D1176:PHA_CSET', 325.0)]"
      ]
     },
     "execution_count": 23,
     "metadata": {},
     "output_type": "execute_result"
    }
   ],
   "source": [
    "scantask.device_set = device_set\n",
    "scantask.device_read = device_read\n",
    "scantask.log_devices = log_devices\n",
    "scantask.timeout = 5.0\n",
    "scantask.tolerance = 0.5\n",
    "scantask.scan_start = 0.0\n",
    "scantask.scan_stop = 360.0\n",
    "scantask.scan_step = 10.0\n",
    "scantask.delay = 1.0\n",
    "scantask.n_sample = 5\n",
    "scantask.name = 'Cavity Tunning Demo'\n",
    "\n",
    "scantask.pre_scan = []\n",
    "post_cmds = [scan.Set(device_set, device_set_setting0)]\n",
    "for k,v in zip(cavs_pv_amp + cavs_pv_pha, cavs_settings0):\n",
    "    post_cmds.append(scan.Set(k, v))\n",
    "scantask.post_scan = post_cmds\n",
    "\n",
    "scantask.build_scan(completion=True)"
   ]
  },
  {
   "cell_type": "code",
   "execution_count": 24,
   "metadata": {
    "collapsed": false
   },
   "outputs": [],
   "source": [
    "#print(scantask.simulate_scan())"
   ]
  },
  {
   "cell_type": "markdown",
   "metadata": {},
   "source": [
    "### submit task"
   ]
  },
  {
   "cell_type": "code",
   "execution_count": 25,
   "metadata": {
    "collapsed": false
   },
   "outputs": [
    {
     "data": {
      "text/plain": [
       "54"
      ]
     },
     "execution_count": 25,
     "metadata": {},
     "output_type": "execute_result"
    }
   ],
   "source": [
    "scantask.submit_scan()"
   ]
  },
  {
   "cell_type": "code",
   "execution_count": 26,
   "metadata": {
    "collapsed": false
   },
   "outputs": [
    {
     "name": "stdout",
     "output_type": "stream",
     "text": [
      "'Cavity Tunning Demo' [54]: Running, 0 %\n"
     ]
    }
   ],
   "source": [
    "print(scantask)"
   ]
  },
  {
   "cell_type": "markdown",
   "metadata": {},
   "source": [
    "#### Data visualization"
   ]
  },
  {
   "cell_type": "code",
   "execution_count": 32,
   "metadata": {
    "collapsed": true
   },
   "outputs": [],
   "source": [
    "scan_id = 54\n",
    "n = 5\n",
    "client = phantasy.ScanClient1D()"
   ]
  },
  {
   "cell_type": "code",
   "execution_count": 33,
   "metadata": {
    "collapsed": false
   },
   "outputs": [],
   "source": [
    "scandata = client.get_data(scan_id, n)"
   ]
  },
  {
   "cell_type": "code",
   "execution_count": 34,
   "metadata": {
    "collapsed": false
   },
   "outputs": [
    {
     "data": {
      "text/plain": [
       "['VA:LS1_CA01:CAV1_D1127:PHA_RD',\n",
       " 'loc://i(0)',\n",
       " 'VA:LS1_WA01:BPM_D1155:ENG_RD',\n",
       " 'VA:LS1_WA01:BPM_D1155:PHA_RD',\n",
       " 'VA:LS1_CA02:BPM_D1178:ENG_RD',\n",
       " 'VA:LS1_CA02:BPM_D1178:PHA_RD']"
      ]
     },
     "execution_count": 34,
     "metadata": {},
     "output_type": "execute_result"
    }
   ],
   "source": [
    "scandata.get_all_names()"
   ]
  },
  {
   "cell_type": "code",
   "execution_count": 37,
   "metadata": {
    "collapsed": false
   },
   "outputs": [],
   "source": [
    "ks = scandata.get_all_names()                                               \n",
    "idx = 4                                                                  \n",
    "mean_data1= scandata.get_average(ks[0])                                    \n",
    "mean_data2 = scandata.get_average(ks[idx])                                  \n",
    "std_data1 = scandata.get_errorbar(ks[0])                                    \n",
    "std_data2 = scandata.get_errorbar(ks[idx]) "
   ]
  },
  {
   "cell_type": "code",
   "execution_count": 38,
   "metadata": {
    "collapsed": false
   },
   "outputs": [
    {
     "data": {
      "text/plain": [
       "<matplotlib.text.Text at 0x7f90fc23db90>"
      ]
     },
     "execution_count": 38,
     "metadata": {},
     "output_type": "execute_result"
    },
    {
     "data": {
      "image/png": "[encoded data removed]",
      "text/plain": [
       "<matplotlib.figure.Figure at 0x7f90fbe2f190>"
      ]
     },
     "metadata": {},
     "output_type": "display_data"
    }
   ],
   "source": [
    "fig = plt.figure()                                                             \n",
    "ax = fig.add_subplot(111)                                                      \n",
    "ebplt = ax.errorbar(mean_data1, mean_data2, xerr=std_data1, yerr=std_data2)\n",
    "ax.set_xlabel(ks[1])                                                           \n",
    "ax.set_ylabel(ks[idx]) "
   ]
  }
 ],
 "metadata": {
  "kernelspec": {
   "display_name": "Python 2",
   "language": "python",
   "name": "python2"
  },
  "language_info": {
   "codemirror_mode": {
    "name": "ipython",
    "version": 2
   },
   "file_extension": ".py",
   "mimetype": "text/x-python",
   "name": "python",
   "nbconvert_exporter": "python",
   "pygments_lexer": "ipython2",
   "version": "2.7.12"
  }
 },
 "nbformat": 4,
 "nbformat_minor": 0
}

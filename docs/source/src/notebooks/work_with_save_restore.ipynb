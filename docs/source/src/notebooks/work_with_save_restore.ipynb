{
 "cells": [
  {
   "cell_type": "markdown",
   "metadata": {},
   "source": [
    "# Work with Save and Restore Application"
   ]
  },
  {
   "cell_type": "code",
   "execution_count": 29,
   "metadata": {
    "collapsed": false,
    "deletable": true,
    "editable": true
   },
   "outputs": [],
   "source": [
    "from phantasy import MachinePortal\n",
    "from phantasy import generate_settings"
   ]
  },
  {
   "cell_type": "code",
   "execution_count": 31,
   "metadata": {
    "collapsed": false,
    "deletable": true,
    "editable": true
   },
   "outputs": [
    {
     "name": "stderr",
     "output_type": "stream",
     "text": [
      "WARNING: 2018-04-05 10:25:48,072: phantasy.library.operation.core: Load new machine: FRIB segment: DEFAULT\n",
      "INFO: 2018-04-05 10:25:48,074: phantasy.library.parser.config: Searching configuration in relative or absolute path: 'FRIB'\n",
      "INFO: 2018-04-05 10:25:48,077: phantasy.library.parser.config: Searching configuration under path: '/home/tong/Dropbox/FRIB/work/machines' 'FRIB'\n",
      "INFO: 2018-04-05 10:25:48,080: phantasy.library.parser.config: Importing 'FRIB' from '/home/tong/Dropbox/FRIB/work/machines/FRIB'\n",
      "INFO: 2018-04-05 10:25:48,083: phantasy.library.parser.config: Using config file: phantasy.ini\n",
      "INFO: 2018-04-05 10:25:48,086: phantasy.library.operation.lattice: Using CSV/SQLite instead of CFS '/home/tong/Dropbox/FRIB/work/machines/FRIB/channels.csv'\n",
      "INFO: 2018-04-05 10:25:48,087: phantasy.library.pv.datasource: Set source to be CSV table: channels.csv.\n",
      "INFO: 2018-04-05 10:25:48,116: phantasy.library.operation.lattice: Found 342 PVs in LEBT.\n",
      "INFO: 2018-04-05 10:25:48,199: phantasy.library.operation.lattice: 'LEBT' has 77 elements\n",
      "INFO: 2018-04-05 10:25:48,200: phantasy.library.operation.lattice: Temp model data directory: /home/tong/phantasy_data/20180405/model_data/data_I0Yl2S\n"
     ]
    }
   ],
   "source": [
    "mp = MachinePortal(machine='FRIB')"
   ]
  },
  {
   "cell_type": "code",
   "execution_count": 32,
   "metadata": {
    "collapsed": true,
    "deletable": true,
    "editable": true
   },
   "outputs": [],
   "source": [
    "lat = mp.work_lattice_conf"
   ]
  },
  {
   "cell_type": "code",
   "execution_count": 33,
   "metadata": {
    "collapsed": false,
    "deletable": true,
    "editable": true
   },
   "outputs": [],
   "source": [
    "# Initial settings of lat\n",
    "settings0 = lat.settings"
   ]
  },
  {
   "cell_type": "code",
   "execution_count": 35,
   "metadata": {
    "collapsed": false,
    "deletable": true,
    "editable": true
   },
   "outputs": [
    {
     "data": {
      "text/plain": [
       "Settings([(u'FE_SCS1:SOLR_D0704', OrderedDict([(u'B', 0.0)])),\n",
       "          (u'FE_SCS1:DCH_D0709', OrderedDict([(u'ANG', 0.0)])),\n",
       "          (u'FE_SCS1:DCV_D0709', OrderedDict([(u'ANG', 0.0)])),\n",
       "          (u'FE_SCS1:DH_D0717',\n",
       "           OrderedDict([(u'B', 0.005069595145057),\n",
       "                        (u'ANG', 90.0),\n",
       "                        (u'ENTANG', 0.0),\n",
       "                        (u'EXTANG', 0.0)])),\n",
       "          (u'FE_SCS1:DCH_D0723', OrderedDict([(u'ANG', 0.0)])),\n",
       "          (u'FE_SCS1:DCV_D0723', OrderedDict([(u'ANG', 0.0)])),\n",
       "          (u'FE_SCS1:QHE_D0726', OrderedDict([(u'V', 3985.557698574019)])),\n",
       "          (u'FE_SCS1:QVE_D0730', OrderedDict([(u'V', -7496.754159419324)])),\n",
       "          (u'FE_SCS1:QHE_D0733', OrderedDict([(u'V', 3609.394645802154)])),\n",
       "          (u'FE_SCS1:QHE_D0743', OrderedDict([(u'V', 3609.394645802154)])),\n",
       "          (u'FE_SCS1:QVE_D0746', OrderedDict([(u'V', -7496.754159419324)])),\n",
       "          (u'FE_SCS1:QHE_D0749', OrderedDict([(u'V', 3985.557698574019)])),\n",
       "          (u'FE_LEBT:DH_D0759',\n",
       "           OrderedDict([(u'B', 0.005069595145057),\n",
       "                        (u'ANG', 90.0),\n",
       "                        (u'ENTANG', 0.0),\n",
       "                        (u'EXTANG', 0.0)])),\n",
       "          (u'FE_LEBT:QVE_D0767', OrderedDict([(u'V', -358.57410325172594)])),\n",
       "          (u'FE_LEBT:QHE_D0770', OrderedDict([(u'V', 1266.990920778001)])),\n",
       "          (u'FE_LEBT:DCH_D0773', OrderedDict([(u'ANG', 0.0)])),\n",
       "          (u'FE_LEBT:DCV_D0773', OrderedDict([(u'ANG', 0.0)])),\n",
       "          (u'FE_LEBT:QHE_D0776', OrderedDict([(u'V', -2199.8199619835445)])),\n",
       "          (u'FE_LEBT:QVE_D0780', OrderedDict([(u'V', 1372.0968065382303)])),\n",
       "          (u'FE_LEBT:SOLR_D0787', OrderedDict([(u'B', 0.3040285511386972)])),\n",
       "          (u'FE_LEBT:DCH_D0790', OrderedDict([(u'ANG', 0.0)])),\n",
       "          (u'FE_LEBT:DCV_D0790', OrderedDict([(u'ANG', 0.0)])),\n",
       "          (u'FE_LEBT:SOLR_D0802', OrderedDict([(u'B', 0.44305782431840635)])),\n",
       "          (u'FE_LEBT:DCH_D0805', OrderedDict([(u'ANG', 0.0)])),\n",
       "          (u'FE_LEBT:DCV_D0805', OrderedDict([(u'ANG', 0.0)])),\n",
       "          (u'FE_LEBT:SOLR_D0818', OrderedDict([(u'B', 0.48168337823334434)])),\n",
       "          (u'FE_LEBT:DCH_D0821', OrderedDict([(u'ANG', 0.0)])),\n",
       "          (u'FE_LEBT:DCV_D0821', OrderedDict([(u'ANG', 0.0)])),\n",
       "          (u'FE_LEBT:DVE_D0833', OrderedDict([(u'V', 0.00506953)])),\n",
       "          (u'FE_LEBT:DCH_D0840', OrderedDict([(u'ANG', 0.0)])),\n",
       "          (u'FE_LEBT:DCV_D0840', OrderedDict([(u'ANG', 0.0)])),\n",
       "          (u'FE_LEBT:QHE_D0844', OrderedDict([(u'V', -3122.833147554361)])),\n",
       "          (u'FE_LEBT:QVE_D0848', OrderedDict([(u'V', 6341.753468879626)])),\n",
       "          (u'FE_LEBT:QHE_D0851', OrderedDict([(u'V', -4804.358688545171)])),\n",
       "          (u'FE_LEBT:DCH_D0868', OrderedDict([(u'ANG', 0.0)])),\n",
       "          (u'FE_LEBT:DCV_D0868', OrderedDict([(u'ANG', 0.0)])),\n",
       "          (u'FE_LEBT:QVE_D0871', OrderedDict([(u'V', 3920.620939862057)])),\n",
       "          (u'FE_LEBT:QHE_D0874', OrderedDict([(u'V', -6497.729916372941)])),\n",
       "          (u'FE_LEBT:QVE_D0878', OrderedDict([(u'V', 1931.649669556872)])),\n",
       "          (u'FE_LEBT:DCH_D0880', OrderedDict([(u'ANG', 0.0)])),\n",
       "          (u'FE_LEBT:DCV_D0880', OrderedDict([(u'ANG', 0.0)])),\n",
       "          (u'FE_LEBT:QVE_D0891', OrderedDict([(u'V', 1931.649669556872)])),\n",
       "          (u'FE_LEBT:QHE_D0895', OrderedDict([(u'V', -6497.729916372941)])),\n",
       "          (u'FE_LEBT:QVE_D0898', OrderedDict([(u'V', 3920.620939862057)])),\n",
       "          (u'FE_LEBT:DCH_D0901', OrderedDict([(u'ANG', 0.0)])),\n",
       "          (u'FE_LEBT:DCV_D0901', OrderedDict([(u'ANG', 0.0)])),\n",
       "          (u'FE_LEBT:QHE_D0918', OrderedDict([(u'V', -4804.358688545171)])),\n",
       "          (u'FE_LEBT:QVE_D0921', OrderedDict([(u'V', 6341.753468879626)])),\n",
       "          (u'FE_LEBT:QHE_D0924', OrderedDict([(u'V', -3122.833147554361)])),\n",
       "          (u'FE_LEBT:DCH_D0929', OrderedDict([(u'ANG', 0.0)])),\n",
       "          (u'FE_LEBT:DCV_D0929', OrderedDict([(u'ANG', 0.0)])),\n",
       "          (u'FE_LEBT:DVE_D0936', OrderedDict([(u'V', 0.00506953)])),\n",
       "          (u'FE_LEBT:DCH_D0948', OrderedDict([(u'ANG', 0.0)])),\n",
       "          (u'FE_LEBT:DCV_D0948', OrderedDict([(u'ANG', 0.0)])),\n",
       "          (u'FE_LEBT:SOLR_D0951', OrderedDict([(u'B', 0.48168337823334434)])),\n",
       "          (u'FE_LEBT:DCH_D0964', OrderedDict([(u'ANG', 0.0)])),\n",
       "          (u'FE_LEBT:DCV_D0964', OrderedDict([(u'ANG', 0.0)])),\n",
       "          (u'FE_LEBT:SOLR_D0967', OrderedDict([(u'B', 0.44305782431840635)])),\n",
       "          (u'FE_LEBT:DCH_D0979', OrderedDict([(u'ANG', 0.0)])),\n",
       "          (u'FE_LEBT:DCV_D0979', OrderedDict([(u'ANG', 0.0)])),\n",
       "          (u'FE_LEBT:SOLR_D0982', OrderedDict([(u'B', 0.6965125106383836)])),\n",
       "          (u'FE_LEBT:DCH_D0992', OrderedDict([(u'ANG', 0.0)])),\n",
       "          (u'FE_LEBT:DCV_D0992', OrderedDict([(u'ANG', 0.0)])),\n",
       "          (u'FE_LEBT:SOLR_D0995', OrderedDict([(u'B', 0.0)]))])"
      ]
     },
     "execution_count": 35,
     "metadata": {},
     "output_type": "execute_result"
    }
   ],
   "source": [
    "settings0"
   ]
  },
  {
   "cell_type": "code",
   "execution_count": null,
   "metadata": {
    "collapsed": true
   },
   "outputs": [],
   "source": [
    "# Print out element settings"
   ]
  },
  {
   "cell_type": "code",
   "execution_count": null,
   "metadata": {
    "collapsed": true
   },
   "outputs": [],
   "source": [
    "sol0 = mp.get_elements(type='SOL')[0]\n",
    "equad0 = mp.get_elements(type='EQUAD')[0]\n",
    "print(\"Design settings:\")\n",
    "print(\"-\"*20)\n",
    "print('{0:<20s}: {1},{2}'.format(equad0.name, equad0.design_settings, settings0.get(equad0.name)))\n",
    "print('{0:<20s}: {1},{2}'.format(sol0.name, sol0.design_settings, settings0.get(sol0.name)))\n",
    "print(\"\\nCurrent settings:\")\n",
    "print(\"-\"*20)\n",
    "print('{0:<20s}: {1}'.format(equad0.name, equad0.V))\n",
    "print('{0:<20s}: {1}'.format(sol0.name, sol0.B))"
   ]
  },
  {
   "cell_type": "code",
   "execution_count": 36,
   "metadata": {
    "collapsed": false,
    "deletable": true,
    "editable": true
   },
   "outputs": [],
   "source": [
    "# Read settings from .snp file, which is exported from Save&Restore application\n",
    "snpfile = 'Ar_LEBT_to_MEBT_20180321.snp'\n",
    "settings_read = generate_settings(snpfile, lat)"
   ]
  },
  {
   "cell_type": "code",
   "execution_count": 37,
   "metadata": {
    "collapsed": false,
    "deletable": true,
    "editable": true
   },
   "outputs": [
    {
     "data": {
      "text/plain": [
       "Settings([('FE_SCS1:SOLR_D0704', {u'B': 0.0}),\n",
       "          ('FE_SCS1:DCV_D0709', {u'ANG': 0.9191657377879457}),\n",
       "          ('FE_SCS1:DCH_D0709', {u'ANG': -0.285603088180429}),\n",
       "          ('FE_SCS1:DH_D0717',\n",
       "           {u'ANG': 90.0, u'B': 72.68, u'ENTANG': 0.0, u'EXTANG': 0.0}),\n",
       "          ('FE_SCS1:DCV_D0723', {u'ANG': -0.39896351593871726}),\n",
       "          ('FE_SCS1:DCH_D0723', {u'ANG': -0.21248419258867687}),\n",
       "          ('FE_SCS1:QHE_D0726', {u'V': 3072.0}),\n",
       "          ('FE_SCS1:QVE_D0730', {u'V': -1864.0}),\n",
       "          ('FE_SCS1:QHE_D0733', {u'V': 49.0}),\n",
       "          ('FE_SCS1:QHE_D0743', {u'V': 49.0}),\n",
       "          ('FE_SCS1:QVE_D0746', {u'V': -1864.0}),\n",
       "          ('FE_SCS1:QHE_D0749', {u'V': 3072.0}),\n",
       "          ('FE_LEBT:DH_D0759',\n",
       "           {u'ANG': 90.0, u'B': 71.5, u'ENTANG': 0.0, u'EXTANG': 0.0}),\n",
       "          ('FE_LEBT:QVE_D0767', {u'V': -50.0}),\n",
       "          ('FE_LEBT:QHE_D0770', {u'V': 3833.0}),\n",
       "          ('FE_LEBT:DCV_D0773', {u'ANG': 0.0}),\n",
       "          ('FE_LEBT:DCH_D0773', {u'ANG': -0.5}),\n",
       "          ('FE_LEBT:QHE_D0776', {u'V': -4142.0}),\n",
       "          ('FE_LEBT:QVE_D0780', {u'V': 2600.0}),\n",
       "          ('FE_LEBT:SOLR_D0787', {u'B': 79.92}),\n",
       "          ('FE_LEBT:DCV_D0790', {u'ANG': 0.0}),\n",
       "          ('FE_LEBT:DCH_D0790', {u'ANG': 0.0}),\n",
       "          ('FE_LEBT:SOLR_D0802', {u'B': 71.52}),\n",
       "          ('FE_LEBT:DCV_D0805', {u'ANG': 0.0}),\n",
       "          ('FE_LEBT:DCH_D0805', {u'ANG': 0.0}),\n",
       "          ('FE_LEBT:SOLR_D0818', {u'B': 74.84}),\n",
       "          ('FE_LEBT:DCV_D0821', {u'ANG': 0.0}),\n",
       "          ('FE_LEBT:DCH_D0821', {u'ANG': 0.0}),\n",
       "          ('FE_LEBT:DVE_D0833', {u'V': -6771.0}),\n",
       "          ('FE_LEBT:DCV_D0840', {u'ANG': 0.0}),\n",
       "          ('FE_LEBT:DCH_D0840', {u'ANG': 0.0}),\n",
       "          ('FE_LEBT:QHE_D0844', {u'V': -1948.0}),\n",
       "          ('FE_LEBT:QVE_D0848', {u'V': 3956.0}),\n",
       "          ('FE_LEBT:QHE_D0851', {u'V': -2997.0}),\n",
       "          ('FE_LEBT:DCV_D0868', {u'ANG': 0.0}),\n",
       "          ('FE_LEBT:DCH_D0868', {u'ANG': 0.0}),\n",
       "          ('FE_LEBT:QVE_D0871', {u'V': 2446.0}),\n",
       "          ('FE_LEBT:QHE_D0874', {u'V': -4053.0}),\n",
       "          ('FE_LEBT:QVE_D0878', {u'V': 1205.0}),\n",
       "          ('FE_LEBT:DCV_D0880', {u'ANG': 0.0}),\n",
       "          ('FE_LEBT:DCH_D0880', {u'ANG': 0.0}),\n",
       "          ('FE_LEBT:QVE_D0891', {u'V': 1205.0}),\n",
       "          ('FE_LEBT:QHE_D0895', {u'V': -4053.0}),\n",
       "          ('FE_LEBT:QVE_D0898', {u'V': 2446.0}),\n",
       "          ('FE_LEBT:DCV_D0901', {u'ANG': 0.0}),\n",
       "          ('FE_LEBT:DCH_D0901', {u'ANG': 0.0}),\n",
       "          ('FE_LEBT:QHE_D0918', {u'V': -2997.0}),\n",
       "          ('FE_LEBT:QVE_D0921', {u'V': 3956.0}),\n",
       "          ('FE_LEBT:QHE_D0924', {u'V': -1948.0}),\n",
       "          ('FE_LEBT:DCV_D0929', {u'ANG': 0.0}),\n",
       "          ('FE_LEBT:DCH_D0929', {u'ANG': 0.0}),\n",
       "          ('FE_LEBT:DVE_D0936', {u'V': -6771.0}),\n",
       "          ('FE_LEBT:DCV_D0948', {u'ANG': -2.0}),\n",
       "          ('FE_LEBT:DCH_D0948', {u'ANG': 1.8}),\n",
       "          ('FE_LEBT:SOLR_D0951', {u'B': 90.7}),\n",
       "          ('FE_LEBT:DCV_D0964', {u'ANG': 4.0}),\n",
       "          ('FE_LEBT:DCH_D0964', {u'ANG': -0.0}),\n",
       "          ('FE_LEBT:SOLR_D0967', {u'B': 98.5}),\n",
       "          ('FE_LEBT:DCV_D0979', {u'ANG': 1.5}),\n",
       "          ('FE_LEBT:DCH_D0979', {u'ANG': 1.0}),\n",
       "          ('FE_LEBT:SOLR_D0982', {u'B': 131.259}),\n",
       "          ('FE_LEBT:DCV_D0992', {u'ANG': 0.1}),\n",
       "          ('FE_LEBT:DCH_D0992', {u'ANG': 1.1}),\n",
       "          ('FE_LEBT:SOLR_D0995', {u'B': 150.339})])"
      ]
     },
     "execution_count": 37,
     "metadata": {},
     "output_type": "execute_result"
    }
   ],
   "source": [
    "settings_read"
   ]
  },
  {
   "cell_type": "code",
   "execution_count": 38,
   "metadata": {
    "collapsed": false,
    "deletable": true,
    "editable": true
   },
   "outputs": [
    {
     "name": "stderr",
     "output_type": "stream",
     "text": [
      "INFO: 2018-04-05 10:29:50,261: flame.machine: Constructing Machine w/ sim_type='MomentMatrix\n",
      "WARNING: 2018-04-05 10:29:50,272: flame_utils.core.model: ModelFlame: Lattice file is not valid, do it manually.\n",
      "WARNING: 2018-04-05 10:29:50,273: flame_utils.core.state: BeamState: Zeros initial states, get true values by parameter '_latfile' or '_machine'.\n",
      "WARNING: 2018-04-05 10:29:50,273: flame_utils.core.state: BeamState: Zeros initial states, get true values by parameter '_latfile' or '_machine'.\n"
     ]
    }
   ],
   "source": [
    "# Generate lattice file\n",
    "latfile1, fm1 = lat.run()"
   ]
  },
  {
   "cell_type": "code",
   "execution_count": 39,
   "metadata": {
    "collapsed": false,
    "deletable": true,
    "editable": true
   },
   "outputs": [
    {
     "name": "stderr",
     "output_type": "stream",
     "text": [
      "INFO: 2018-04-05 10:30:17,365: flame.machine: Constructing Machine w/ sim_type='MomentMatrix\n",
      "WARNING: 2018-04-05 10:30:17,375: flame_utils.core.model: ModelFlame: Lattice file is not valid, do it manually.\n",
      "WARNING: 2018-04-05 10:30:17,376: flame_utils.core.state: BeamState: Zeros initial states, get true values by parameter '_latfile' or '_machine'.\n",
      "WARNING: 2018-04-05 10:30:17,377: flame_utils.core.state: BeamState: Zeros initial states, get true values by parameter '_latfile' or '_machine'.\n"
     ]
    }
   ],
   "source": [
    "# Change lat settings, and generate new lattice file\n",
    "lat.settings = settings_read\n",
    "latfile2, fm2 = lat.run()"
   ]
  }
 ],
 "metadata": {
  "kernelspec": {
   "display_name": "Python 2",
   "language": "python",
   "name": "python2"
  },
  "language_info": {
   "codemirror_mode": {
    "name": "ipython",
    "version": 2
   },
   "file_extension": ".py",
   "mimetype": "text/x-python",
   "name": "python",
   "nbconvert_exporter": "python",
   "pygments_lexer": "ipython2",
   "version": "2.7.12"
  }
 },
 "nbformat": 4,
 "nbformat_minor": 2
}

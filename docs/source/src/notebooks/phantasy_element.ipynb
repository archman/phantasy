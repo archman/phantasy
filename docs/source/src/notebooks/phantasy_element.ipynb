{
 "cells": [
  {
   "cell_type": "markdown",
   "metadata": {
    "deletable": true,
    "editable": true
   },
   "source": [
    "## Element"
   ]
  },
  {
   "cell_type": "markdown",
   "metadata": {
    "deletable": true,
    "editable": true
   },
   "source": [
    "### Import modules/packages"
   ]
  },
  {
   "cell_type": "code",
   "execution_count": 1,
   "metadata": {
    "collapsed": true,
    "deletable": true,
    "editable": true
   },
   "outputs": [],
   "source": [
    "import phantasy"
   ]
  },
  {
   "cell_type": "markdown",
   "metadata": {
    "deletable": true,
    "editable": true
   },
   "source": [
    "### Model Machine"
   ]
  },
  {
   "cell_type": "code",
   "execution_count": 2,
   "metadata": {
    "collapsed": false,
    "deletable": true,
    "editable": true
   },
   "outputs": [
    {
     "name": "stderr",
     "output_type": "stream",
     "text": [
      "WARNING: 2018-06-21 11:00:21,871: phantasy.library.operation.core: Load new machine: VA_LEBT segment: LEBT\n",
      "INFO: 2018-06-21 11:00:21,873: phantasy.library.parser.config: Searching configuration in relative or absolute path: 'VA_LEBT'\n",
      "INFO: 2018-06-21 11:00:21,874: phantasy.library.parser.config: Searching configuration under path: '/home/tong/Dropbox/FRIB/work/phantasy-project/phantasy-machines' 'VA_LEBT'\n",
      "INFO: 2018-06-21 11:00:21,875: phantasy.library.parser.config: Importing 'VA_LEBT' from '/home/tong/Dropbox/FRIB/work/phantasy-project/phantasy-machines/VA_LEBT'\n",
      "INFO: 2018-06-21 11:00:21,909: phantasy.library.parser.config: Using config file: phantasy.ini\n",
      "INFO: 2018-06-21 11:00:21,914: phantasy.library.operation.lattice: Using CSV/SQLite instead of CFS '/home/tong/Dropbox/FRIB/work/phantasy-project/phantasy-machines/VA_LEBT/channels.csv'\n",
      "INFO: 2018-06-21 11:00:21,923: phantasy.library.pv.datasource: Set source to be CSV table: channels.csv.\n",
      "INFO: 2018-06-21 11:00:21,954: phantasy.library.operation.lattice: Found 281 PVs in LEBT.\n",
      "INFO: 2018-06-21 11:00:22,564: phantasy.library.operation.lattice: 'LEBT' has 77 elements\n",
      "INFO: 2018-06-21 11:00:22,566: phantasy.library.operation.lattice: Temp model data directory: /home/tong/phantasy_data/20180621/model_data/data_JbHU02\n"
     ]
    }
   ],
   "source": [
    "mp = phantasy.MachinePortal(machine='VA_LEBT', segment='LEBT')"
   ]
  },
  {
   "cell_type": "markdown",
   "metadata": {
    "collapsed": true,
    "deletable": true,
    "editable": true
   },
   "source": [
    "### Get Element by *type*"
   ]
  },
  {
   "cell_type": "code",
   "execution_count": 3,
   "metadata": {
    "collapsed": false,
    "deletable": true,
    "editable": true
   },
   "outputs": [
    {
     "data": {
      "text/plain": [
       "['EQUAD', 'HCOR', 'SOL', 'CAV', 'VCOR', 'BEND', 'EBEND', 'PM']"
      ]
     },
     "execution_count": 3,
     "metadata": {},
     "output_type": "execute_result"
    }
   ],
   "source": [
    "mp.get_all_types()"
   ]
  },
  {
   "cell_type": "markdown",
   "metadata": {
    "deletable": true,
    "editable": true
   },
   "source": [
    "#### Example: Electric static Quadrupole"
   ]
  },
  {
   "cell_type": "markdown",
   "metadata": {
    "deletable": true,
    "editable": true
   },
   "source": [
    "##### Get the first equad"
   ]
  },
  {
   "cell_type": "code",
   "execution_count": 4,
   "metadata": {
    "collapsed": true,
    "deletable": true,
    "editable": true
   },
   "outputs": [],
   "source": [
    "equads = mp.get_elements(type='EQUAD')"
   ]
  },
  {
   "cell_type": "code",
   "execution_count": 5,
   "metadata": {
    "collapsed": false,
    "deletable": true,
    "editable": true
   },
   "outputs": [
    {
     "data": {
      "text/plain": [
       "[FE_SCS1:QHE_D0726 [EQUAD] @ sb=2.555154,\n",
       " FE_SCS1:QVE_D0730 [EQUAD] @ sb=2.890154,\n",
       " FE_SCS1:QHE_D0733 [EQUAD] @ sb=3.225154,\n",
       " FE_SCS1:QHE_D0743 [EQUAD] @ sb=4.185154,\n",
       " FE_SCS1:QVE_D0746 [EQUAD] @ sb=4.520154,\n",
       " FE_SCS1:QHE_D0749 [EQUAD] @ sb=4.855154,\n",
       " FE_LEBT:QVE_D0767 [EQUAD] @ sb=6.630154,\n",
       " FE_LEBT:QHE_D0770 [EQUAD] @ sb=6.965154,\n",
       " FE_LEBT:QHE_D0776 [EQUAD] @ sb=7.560154,\n",
       " FE_LEBT:QVE_D0780 [EQUAD] @ sb=7.895154,\n",
       " FE_LEBT:QHE_D0844 [EQUAD] @ sb=14.370455,\n",
       " FE_LEBT:QVE_D0848 [EQUAD] @ sb=14.705455,\n",
       " FE_LEBT:QHE_D0851 [EQUAD] @ sb=15.040455,\n",
       " FE_LEBT:QVE_D0871 [EQUAD] @ sb=17.019205,\n",
       " FE_LEBT:QHE_D0874 [EQUAD] @ sb=17.354205,\n",
       " FE_LEBT:QVE_D0878 [EQUAD] @ sb=17.689205,\n",
       " FE_LEBT:QVE_D0891 [EQUAD] @ sb=19.049205,\n",
       " FE_LEBT:QHE_D0895 [EQUAD] @ sb=19.384205,\n",
       " FE_LEBT:QVE_D0898 [EQUAD] @ sb=19.719205,\n",
       " FE_LEBT:QHE_D0918 [EQUAD] @ sb=21.697955,\n",
       " FE_LEBT:QVE_D0921 [EQUAD] @ sb=22.032955,\n",
       " FE_LEBT:QHE_D0924 [EQUAD] @ sb=22.367955]"
      ]
     },
     "execution_count": 5,
     "metadata": {},
     "output_type": "execute_result"
    }
   ],
   "source": [
    "equads"
   ]
  },
  {
   "cell_type": "code",
   "execution_count": 6,
   "metadata": {
    "collapsed": false,
    "deletable": true,
    "editable": true
   },
   "outputs": [
    {
     "data": {
      "text/plain": [
       "FE_SCS1:QHE_D0726 [EQUAD] @ sb=2.555154"
      ]
     },
     "execution_count": 6,
     "metadata": {},
     "output_type": "execute_result"
    }
   ],
   "source": [
    "# first equad\n",
    "equad0 = equads[0]\n",
    "equad0"
   ]
  },
  {
   "cell_type": "markdown",
   "metadata": {
    "deletable": true,
    "editable": true
   },
   "source": [
    "##### Investigate the equad"
   ]
  },
  {
   "cell_type": "code",
   "execution_count": 7,
   "metadata": {
    "collapsed": false,
    "deletable": true,
    "editable": true
   },
   "outputs": [
    {
     "name": "stdout",
     "output_type": "stream",
     "text": [
      "Index    : 15\n",
      "Name     : FE_SCS1:QHE_D0726\n",
      "Family   : EQUAD\n",
      "Location : (begin) 2.555154 (end) 2.760354\n",
      "Length   : 0.205200\n",
      "Groups   : set(['EQUAD'])\n",
      "PVs      : ['VA:FE_SCS1:QE_D0726:V_CSET', 'VA:FE_SCS1:QE_D0726:V_RSET', 'VA:FE_SCS1:QE_D0726:V_RD']\n",
      "Tags     : {'VA:FE_SCS1:QE_D0726:V_CSET': set(['phantasy.sub.SCS1', 'LEBT', 'phantasy.sys.FE']), 'VA:FE_SCS1:QE_D0726:V_RSET': set(['phantasy.sub.SCS1', 'LEBT', 'phantasy.sys.FE']), 'VA:FE_SCS1:QE_D0726:V_RD': set(['phantasy.sub.SCS1', 'LEBT', 'phantasy.sys.FE'])}\n",
      "Fields   : ['V']\n"
     ]
    }
   ],
   "source": [
    "print(\"Index    : %d\" % equad0.index)\n",
    "print(\"Name     : %s\" % equad0.name)\n",
    "print(\"Family   : %s\" % equad0.family)\n",
    "print(\"Location : (begin) %f (end) %f\" % (equad0.sb, equad0.se))\n",
    "print(\"Length   : %f\" % equad0.length)\n",
    "print(\"Groups   : %s\" % equad0.group)\n",
    "print(\"PVs      : %s\" % equad0.pv())\n",
    "print(\"Tags     : %s\" % equad0.tags)\n",
    "print(\"Fields   : %s\" % equad0.fields)"
   ]
  },
  {
   "cell_type": "markdown",
   "metadata": {
    "deletable": true,
    "editable": true
   },
   "source": [
    "##### Dynamic field: V\n",
    "All available dynamic fields could be retrieved by ``equad0.fields`` (for ``equad0`` here, there is only one field, i.e. ``V``)."
   ]
  },
  {
   "cell_type": "code",
   "execution_count": 12,
   "metadata": {
    "collapsed": false,
    "deletable": true,
    "editable": true
   },
   "outputs": [
    {
     "data": {
      "text/plain": [
       "3996.081549949997"
      ]
     },
     "execution_count": 12,
     "metadata": {},
     "output_type": "execute_result"
    }
   ],
   "source": [
    "equad0.V"
   ]
  },
  {
   "cell_type": "markdown",
   "metadata": {
    "deletable": true,
    "editable": true
   },
   "source": [
    "**Get values**\n",
    "\n",
    "If only *readback* value is of interest, **Approach 1** is recommanded and most natural."
   ]
  },
  {
   "cell_type": "code",
   "execution_count": 13,
   "metadata": {
    "collapsed": false,
    "deletable": true,
    "editable": true
   },
   "outputs": [
    {
     "name": "stdout",
     "output_type": "stream",
     "text": [
      "Readback: 4014.940573\n"
     ]
    }
   ],
   "source": [
    "# Approach 1: dynamic field feature (readback PV)\n",
    "print(\"Readback: %f\" % equad0.V)"
   ]
  },
  {
   "cell_type": "code",
   "execution_count": 28,
   "metadata": {
    "collapsed": false,
    "deletable": true,
    "editable": true
   },
   "outputs": [
    {
     "name": "stdout",
     "output_type": "stream",
     "text": [
      "Readback: [3965.050176377885]\n"
     ]
    }
   ],
   "source": [
    "# Approach 2: caget(pv_name)\n",
    "pv_rdbk = equad0.pv(field='V', handle='readback')\n",
    "print(\"Readback: %s\" % [phantasy.caget(pv) for pv in pv_rdbk])"
   ]
  },
  {
   "cell_type": "code",
   "execution_count": 23,
   "metadata": {
    "collapsed": false,
    "deletable": true,
    "editable": true
   },
   "outputs": [
    {
     "name": "stdout",
     "output_type": "stream",
     "text": [
      "Readback: [3938.4574878178664]\n",
      "Setpoint: [3985.56]\n",
      "Readset : [3985.56]\n"
     ]
    }
   ],
   "source": [
    "# Approach 3: CaField\n",
    "v_field = equad0.get_field('V')\n",
    "print(\"Readback: %s\" % v_field.get(handle='readback'))\n",
    "print(\"Setpoint: %s\" % v_field.get(handle='setpoint'))\n",
    "print(\"Readset : %s\" % v_field.get(handle='readset'))"
   ]
  },
  {
   "cell_type": "markdown",
   "metadata": {
    "deletable": true,
    "editable": true
   },
   "source": [
    "**Set values**\n",
    "\n",
    "Always **Approach 1** is recommanded."
   ]
  },
  {
   "cell_type": "code",
   "execution_count": 30,
   "metadata": {
    "collapsed": true,
    "deletable": true,
    "editable": true
   },
   "outputs": [],
   "source": [
    "# Save orignal set value for 'V' field\n",
    "v0 = equad0.get_field('V').get(handle='setpoint')"
   ]
  },
  {
   "cell_type": "code",
   "execution_count": 31,
   "metadata": {
    "collapsed": false,
    "deletable": true,
    "editable": true
   },
   "outputs": [
    {
     "name": "stderr",
     "output_type": "stream",
     "text": [
      "WARNING: 2018-06-21 11:07:34,914: phantasy.library.lattice.element: Field 'V' of 'FE_SCS1:QHE_D0726' reached: 1986.48531774.\n"
     ]
    }
   ],
   "source": [
    "# Approach 1: dynamic field feature (setpoint PV)\n",
    "equad0.V = 2000"
   ]
  },
  {
   "cell_type": "code",
   "execution_count": 33,
   "metadata": {
    "collapsed": true,
    "deletable": true,
    "editable": true
   },
   "outputs": [],
   "source": [
    "# Approach 2: CaField\n",
    "v_field = equad0.get_field('V')\n",
    "v_field.set(handle='setpoint', value=1500)"
   ]
  },
  {
   "cell_type": "code",
   "execution_count": 34,
   "metadata": {
    "collapsed": false
   },
   "outputs": [
    {
     "data": {
      "text/plain": [
       "1486.876024843452"
      ]
     },
     "execution_count": 34,
     "metadata": {},
     "output_type": "execute_result"
    }
   ],
   "source": [
    "v_field.value"
   ]
  }
 ],
 "metadata": {
  "kernelspec": {
   "display_name": "Python 2",
   "language": "python",
   "name": "python2"
  },
  "language_info": {
   "codemirror_mode": {
    "name": "ipython",
    "version": 2
   },
   "file_extension": ".py",
   "mimetype": "text/x-python",
   "name": "python",
   "nbconvert_exporter": "python",
   "pygments_lexer": "ipython2",
   "version": "2.7.12"
  }
 },
 "nbformat": 4,
 "nbformat_minor": 2
}

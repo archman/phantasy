{
 "cells": [
  {
   "cell_type": "markdown",
   "metadata": {},
   "source": [
    "# Synchronize settings from accelerator\n",
    "Here the **accelerator** could be virtual accelerator or real accelerator. It is expected that lattice for model could be generated based on the runtime configurations of all devices which physicists are interested.\n",
    "\n",
    "This notebook shows how to get FLAME lattice file with device configurations from LEBT virtual accelerator."
   ]
  },
  {
   "cell_type": "markdown",
   "metadata": {},
   "source": [
    "## Model accelerator\n",
    "`mp` is the instance of `MachinePortal`, from which bunch of functionality could be reached by hitting double TAB followed by '`.`'.\n",
    "`lat` is the high-level modeled lattice object, lots of methods regarding to lattice operation attached to it. "
   ]
  },
  {
   "cell_type": "code",
   "execution_count": 2,
   "metadata": {
    "collapsed": true
   },
   "outputs": [],
   "source": [
    "import phantasy"
   ]
  },
  {
   "cell_type": "code",
   "execution_count": 3,
   "metadata": {
    "collapsed": false
   },
   "outputs": [
    {
     "name": "stderr",
     "output_type": "stream",
     "text": [
      "WARNING: 2018-06-21 09:46:54,923: phantasy.library.operation.core: Load new machine: VA_LEBT segment: LEBT\n",
      "INFO: 2018-06-21 09:46:54,931: phantasy.library.parser.config: Searching configuration in relative or absolute path: 'VA_LEBT'\n",
      "INFO: 2018-06-21 09:46:54,939: phantasy.library.parser.config: Searching configuration under path: '/home/tong/Dropbox/FRIB/work/phantasy-project/phantasy-machines' 'VA_LEBT'\n",
      "INFO: 2018-06-21 09:46:54,940: phantasy.library.parser.config: Importing 'VA_LEBT' from '/home/tong/Dropbox/FRIB/work/phantasy-project/phantasy-machines/VA_LEBT'\n",
      "INFO: 2018-06-21 09:46:54,943: phantasy.library.parser.config: Using config file: phantasy.ini\n",
      "INFO: 2018-06-21 09:46:54,945: phantasy.library.operation.lattice: Using CSV/SQLite instead of CFS '/home/tong/Dropbox/FRIB/work/phantasy-project/phantasy-machines/VA_LEBT/channels.csv'\n",
      "INFO: 2018-06-21 09:46:54,947: phantasy.library.pv.datasource: Set source to be CSV table: channels.csv.\n",
      "INFO: 2018-06-21 09:46:54,994: phantasy.library.operation.lattice: Found 281 PVs in LEBT.\n",
      "INFO: 2018-06-21 09:46:55,474: phantasy.library.operation.lattice: 'LEBT' has 77 elements\n",
      "INFO: 2018-06-21 09:46:55,475: phantasy.library.operation.lattice: Temp model data directory: /home/tong/phantasy_data/20180621/model_data/data_Nk6ATZ\n"
     ]
    }
   ],
   "source": [
    "mp = phantasy.MachinePortal(machine='VA_LEBT', segment='LEBT')\n",
    "# since only one segment (i.e. LEBT) in 'VA_LEBT' machine, `segment` parameter is optional"
   ]
  },
  {
   "cell_type": "code",
   "execution_count": 4,
   "metadata": {
    "collapsed": true
   },
   "outputs": [],
   "source": [
    "lat = mp.work_lattice_conf # this is the selected lattice from MachinePortal instance"
   ]
  },
  {
   "cell_type": "code",
   "execution_count": 5,
   "metadata": {
    "collapsed": false
   },
   "outputs": [
    {
     "data": {
      "text/plain": [
       "Settings([(u'FE_SCS1:SOLR_D0704', OrderedDict([(u'B', 0.0)])),\n",
       "          (u'FE_SCS1:DCH_D0709', OrderedDict([(u'ANG', 0.0)])),\n",
       "          (u'FE_SCS1:DCV_D0709', OrderedDict([(u'ANG', 0.0)])),\n",
       "          (u'FE_SCS1:DH_D0717',\n",
       "           OrderedDict([(u'B', 0.0050696),\n",
       "                        (u'ANG', 90.0),\n",
       "                        (u'ENTANG', 0.0),\n",
       "                        (u'EXTANG', 0.0)])),\n",
       "          (u'FE_SCS1:DCH_D0723', OrderedDict([(u'ANG', 0.0)])),\n",
       "          (u'FE_SCS1:DCV_D0723', OrderedDict([(u'ANG', 0.0)])),\n",
       "          (u'FE_SCS1:QHE_D0726', OrderedDict([(u'V', 3985.56)])),\n",
       "          (u'FE_SCS1:QVE_D0730', OrderedDict([(u'V', -7496.75)])),\n",
       "          (u'FE_SCS1:QHE_D0733', OrderedDict([(u'V', 3609.39)])),\n",
       "          (u'FE_SCS1:QHE_D0743', OrderedDict([(u'V', 3609.39)])),\n",
       "          (u'FE_SCS1:QVE_D0746', OrderedDict([(u'V', -7496.75)])),\n",
       "          (u'FE_SCS1:QHE_D0749', OrderedDict([(u'V', 3985.56)])),\n",
       "          (u'FE_LEBT:DH_D0759',\n",
       "           OrderedDict([(u'B', 0.0050696),\n",
       "                        (u'ANG', 90.0),\n",
       "                        (u'ENTANG', 0.0),\n",
       "                        (u'EXTANG', 0.0)])),\n",
       "          (u'FE_LEBT:QVE_D0767', OrderedDict([(u'V', -358.574)])),\n",
       "          (u'FE_LEBT:QHE_D0770', OrderedDict([(u'V', 1266.99)])),\n",
       "          (u'FE_LEBT:DCH_D0773', OrderedDict([(u'ANG', 0.0)])),\n",
       "          (u'FE_LEBT:DCV_D0773', OrderedDict([(u'ANG', 0.0)])),\n",
       "          (u'FE_LEBT:QHE_D0776', OrderedDict([(u'V', -2199.82)])),\n",
       "          (u'FE_LEBT:QVE_D0780', OrderedDict([(u'V', 1372.1)])),\n",
       "          (u'FE_LEBT:SOLR_D0787', OrderedDict([(u'B', 0.304029)])),\n",
       "          (u'FE_LEBT:DCH_D0790', OrderedDict([(u'ANG', 0.0)])),\n",
       "          (u'FE_LEBT:DCV_D0790', OrderedDict([(u'ANG', 0.0)])),\n",
       "          (u'FE_LEBT:SOLR_D0802', OrderedDict([(u'B', 0.443058)])),\n",
       "          (u'FE_LEBT:DCH_D0805', OrderedDict([(u'ANG', 0.0)])),\n",
       "          (u'FE_LEBT:DCV_D0805', OrderedDict([(u'ANG', 0.0)])),\n",
       "          (u'FE_LEBT:SOLR_D0818', OrderedDict([(u'B', 0.481683)])),\n",
       "          (u'FE_LEBT:DCH_D0821', OrderedDict([(u'ANG', 0.0)])),\n",
       "          (u'FE_LEBT:DCV_D0821', OrderedDict([(u'ANG', 0.0)])),\n",
       "          (u'FE_LEBT:DVE_D0833', OrderedDict([(u'V', 0.00506953)])),\n",
       "          (u'FE_LEBT:DCH_D0840', OrderedDict([(u'ANG', 0.0)])),\n",
       "          (u'FE_LEBT:DCV_D0840', OrderedDict([(u'ANG', 0.0)])),\n",
       "          (u'FE_LEBT:QHE_D0844', OrderedDict([(u'V', -3122.83)])),\n",
       "          (u'FE_LEBT:QVE_D0848', OrderedDict([(u'V', 6341.75)])),\n",
       "          (u'FE_LEBT:QHE_D0851', OrderedDict([(u'V', -4804.36)])),\n",
       "          (u'FE_LEBT:DCH_D0868', OrderedDict([(u'ANG', 0.0)])),\n",
       "          (u'FE_LEBT:DCV_D0868', OrderedDict([(u'ANG', 0.0)])),\n",
       "          (u'FE_LEBT:QVE_D0871', OrderedDict([(u'V', 3920.62)])),\n",
       "          (u'FE_LEBT:QHE_D0874', OrderedDict([(u'V', -6497.73)])),\n",
       "          (u'FE_LEBT:QVE_D0878', OrderedDict([(u'V', 1931.65)])),\n",
       "          (u'FE_LEBT:DCH_D0880', OrderedDict([(u'ANG', 0.0)])),\n",
       "          (u'FE_LEBT:DCV_D0880', OrderedDict([(u'ANG', 0.0)])),\n",
       "          (u'FE_LEBT:QVE_D0891', OrderedDict([(u'V', 1931.65)])),\n",
       "          (u'FE_LEBT:QHE_D0895', OrderedDict([(u'V', -6497.73)])),\n",
       "          (u'FE_LEBT:QVE_D0898', OrderedDict([(u'V', 3920.62)])),\n",
       "          (u'FE_LEBT:DCH_D0901', OrderedDict([(u'ANG', 0.0)])),\n",
       "          (u'FE_LEBT:DCV_D0901', OrderedDict([(u'ANG', 0.0)])),\n",
       "          (u'FE_LEBT:QHE_D0918', OrderedDict([(u'V', -4804.36)])),\n",
       "          (u'FE_LEBT:QVE_D0921', OrderedDict([(u'V', 6341.75)])),\n",
       "          (u'FE_LEBT:QHE_D0924', OrderedDict([(u'V', -3122.83)])),\n",
       "          (u'FE_LEBT:DCH_D0929', OrderedDict([(u'ANG', 0.0)])),\n",
       "          (u'FE_LEBT:DCV_D0929', OrderedDict([(u'ANG', 0.0)])),\n",
       "          (u'FE_LEBT:DVE_D0936', OrderedDict([(u'V', 0.00506953)])),\n",
       "          (u'FE_LEBT:DCH_D0948', OrderedDict([(u'ANG', 0.0)])),\n",
       "          (u'FE_LEBT:DCV_D0948', OrderedDict([(u'ANG', 0.0)])),\n",
       "          (u'FE_LEBT:SOLR_D0951', OrderedDict([(u'B', 0.481683)])),\n",
       "          (u'FE_LEBT:DCH_D0964', OrderedDict([(u'ANG', 0.0)])),\n",
       "          (u'FE_LEBT:DCV_D0964', OrderedDict([(u'ANG', 0.0)])),\n",
       "          (u'FE_LEBT:SOLR_D0967', OrderedDict([(u'B', 0.443058)])),\n",
       "          (u'FE_LEBT:DCH_D0979', OrderedDict([(u'ANG', 0.0)])),\n",
       "          (u'FE_LEBT:DCV_D0979', OrderedDict([(u'ANG', 0.0)])),\n",
       "          (u'FE_LEBT:SOLR_D0982', OrderedDict([(u'B', 0.696513)])),\n",
       "          (u'FE_LEBT:DCH_D0992', OrderedDict([(u'ANG', 0.0)])),\n",
       "          (u'FE_LEBT:DCV_D0992', OrderedDict([(u'ANG', 0.0)])),\n",
       "          (u'FE_LEBT:SOLR_D0995', OrderedDict([(u'B', 0.0)]))])"
      ]
     },
     "execution_count": 5,
     "metadata": {},
     "output_type": "execute_result"
    }
   ],
   "source": [
    "lat.settings # this is the default loaded device settings from VA_LEBT machine, LEBT segment"
   ]
  },
  {
   "cell_type": "markdown",
   "metadata": {},
   "source": [
    "## Synchronize devices' settings\n",
    "we need to synchronize the model settings (lat.settings) with the ones read from accelerator, which is running as a virtual acclerator instance here. Again check the help of `sync_settings` method:\n",
    "```shell\n",
    "Signature: lat.sync_settings(data_source=None)\n",
    "Docstring:\n",
    "Synchronize lattice settings between model and control environment.\n",
    "\n",
    "Parameters\n",
    "----------\n",
    "data_source : str\n",
    "    Data source of synchronization, if 'model' is defined, will update \n",
    "    data of control environment with data from 'model'; if 'control'\n",
    "    is defined, model data will be synchronized; *data_source* is\n",
    "    'control' by default.\n",
    "```"
   ]
  },
  {
   "cell_type": "code",
   "execution_count": 7,
   "metadata": {
    "collapsed": false
   },
   "outputs": [
    {
     "name": "stderr",
     "output_type": "stream",
     "text": [
      "INFO: 2018-06-21 09:51:48,565: phantasy.library.lattice.lattice: Sync settings from 'control' to 'model'.\n"
     ]
    }
   ],
   "source": [
    "lat.sync_settings(data_source='control')"
   ]
  },
  {
   "cell_type": "markdown",
   "metadata": {},
   "source": [
    "Check the new settings, since we applied noise to the virtual accelerator, for non-zero settings, the synced settings should have changed a little."
   ]
  },
  {
   "cell_type": "code",
   "execution_count": 8,
   "metadata": {
    "collapsed": false
   },
   "outputs": [
    {
     "data": {
      "text/plain": [
       "Settings([(u'FE_SCS1:SOLR_D0704', OrderedDict([(u'B', 0.0)])),\n",
       "          (u'FE_SCS1:DCH_D0709', OrderedDict([(u'ANG', 0.0)])),\n",
       "          (u'FE_SCS1:DCV_D0709', OrderedDict([(u'ANG', 0.0)])),\n",
       "          (u'FE_SCS1:DH_D0717',\n",
       "           OrderedDict([(u'B', 0.005016694538216879),\n",
       "                        (u'ANG', 90.0),\n",
       "                        (u'ENTANG', 0.0),\n",
       "                        (u'EXTANG', 0.0)])),\n",
       "          (u'FE_SCS1:DCH_D0723', OrderedDict([(u'ANG', 0.0)])),\n",
       "          (u'FE_SCS1:DCV_D0723', OrderedDict([(u'ANG', 0.0)])),\n",
       "          (u'FE_SCS1:QHE_D0726', OrderedDict([(u'V', 3996.4044773219102)])),\n",
       "          (u'FE_SCS1:QVE_D0730', OrderedDict([(u'V', -7404.0333237562245)])),\n",
       "          (u'FE_SCS1:QHE_D0733', OrderedDict([(u'V', 3582.1049404487294)])),\n",
       "          (u'FE_SCS1:QHE_D0743', OrderedDict([(u'V', 3639.0441993330223)])),\n",
       "          (u'FE_SCS1:QVE_D0746', OrderedDict([(u'V', -7561.539249904124)])),\n",
       "          (u'FE_SCS1:QHE_D0749', OrderedDict([(u'V', 4026.8756359163976)])),\n",
       "          (u'FE_LEBT:DH_D0759',\n",
       "           OrderedDict([(u'B', 0.005135186794604835),\n",
       "                        (u'ANG', 90.0),\n",
       "                        (u'ENTANG', 0.0),\n",
       "                        (u'EXTANG', 0.0)])),\n",
       "          (u'FE_LEBT:QVE_D0767', OrderedDict([(u'V', -358.5925120063421)])),\n",
       "          (u'FE_LEBT:QHE_D0770', OrderedDict([(u'V', 1263.3871722468214)])),\n",
       "          (u'FE_LEBT:DCH_D0773', OrderedDict([(u'ANG', 0.0)])),\n",
       "          (u'FE_LEBT:DCV_D0773', OrderedDict([(u'ANG', 0.0)])),\n",
       "          (u'FE_LEBT:QHE_D0776', OrderedDict([(u'V', -2205.688617692336)])),\n",
       "          (u'FE_LEBT:QVE_D0780', OrderedDict([(u'V', 1355.3118353446712)])),\n",
       "          (u'FE_LEBT:SOLR_D0787', OrderedDict([(u'B', 0.30314027862845855)])),\n",
       "          (u'FE_LEBT:DCH_D0790', OrderedDict([(u'ANG', 0.0)])),\n",
       "          (u'FE_LEBT:DCV_D0790',\n",
       "           OrderedDict([(u'ANG', -0.001009434185703871)])),\n",
       "          (u'FE_LEBT:SOLR_D0802', OrderedDict([(u'B', 0.43914746099184127)])),\n",
       "          (u'FE_LEBT:DCH_D0805', OrderedDict([(u'ANG', 0.0)])),\n",
       "          (u'FE_LEBT:DCV_D0805', OrderedDict([(u'ANG', 0.0)])),\n",
       "          (u'FE_LEBT:SOLR_D0818', OrderedDict([(u'B', 0.4760509988842881)])),\n",
       "          (u'FE_LEBT:DCH_D0821', OrderedDict([(u'ANG', 0.0)])),\n",
       "          (u'FE_LEBT:DCV_D0821', OrderedDict([(u'ANG', 0.0)])),\n",
       "          (u'FE_LEBT:DVE_D0833', OrderedDict([(u'V', 0.005025131867296815)])),\n",
       "          (u'FE_LEBT:DCH_D0840', OrderedDict([(u'ANG', 0.0)])),\n",
       "          (u'FE_LEBT:DCV_D0840', OrderedDict([(u'ANG', 0.0)])),\n",
       "          (u'FE_LEBT:QHE_D0844', OrderedDict([(u'V', -3142.1912877935897)])),\n",
       "          (u'FE_LEBT:QVE_D0848', OrderedDict([(u'V', 6421.862766935174)])),\n",
       "          (u'FE_LEBT:QHE_D0851', OrderedDict([(u'V', -4777.256179007316)])),\n",
       "          (u'FE_LEBT:DCH_D0868', OrderedDict([(u'ANG', 0.0)])),\n",
       "          (u'FE_LEBT:DCV_D0868', OrderedDict([(u'ANG', 0.0)])),\n",
       "          (u'FE_LEBT:QVE_D0871', OrderedDict([(u'V', 3938.1827572090756)])),\n",
       "          (u'FE_LEBT:QHE_D0874', OrderedDict([(u'V', -6550.120848164523)])),\n",
       "          (u'FE_LEBT:QVE_D0878', OrderedDict([(u'V', 1928.8398849047394)])),\n",
       "          (u'FE_LEBT:DCH_D0880', OrderedDict([(u'ANG', 0.0)])),\n",
       "          (u'FE_LEBT:DCV_D0880', OrderedDict([(u'ANG', 0.0)])),\n",
       "          (u'FE_LEBT:QVE_D0891', OrderedDict([(u'V', 1939.3474158875592)])),\n",
       "          (u'FE_LEBT:QHE_D0895', OrderedDict([(u'V', -6555.941399422823)])),\n",
       "          (u'FE_LEBT:QVE_D0898', OrderedDict([(u'V', 3965.2015397227997)])),\n",
       "          (u'FE_LEBT:DCH_D0901', OrderedDict([(u'ANG', 0.0)])),\n",
       "          (u'FE_LEBT:DCV_D0901', OrderedDict([(u'ANG', 0.0)])),\n",
       "          (u'FE_LEBT:QHE_D0918', OrderedDict([(u'V', -4788.865874270844)])),\n",
       "          (u'FE_LEBT:QVE_D0921', OrderedDict([(u'V', 6292.862948193198)])),\n",
       "          (u'FE_LEBT:QHE_D0924', OrderedDict([(u'V', -3100.228816836021)])),\n",
       "          (u'FE_LEBT:DCH_D0929', OrderedDict([(u'ANG', 0.0)])),\n",
       "          (u'FE_LEBT:DCV_D0929', OrderedDict([(u'ANG', 0.0)])),\n",
       "          (u'FE_LEBT:DVE_D0936', OrderedDict([(u'V', 0.005078311645066914)])),\n",
       "          (u'FE_LEBT:DCH_D0948', OrderedDict([(u'ANG', 0.0)])),\n",
       "          (u'FE_LEBT:DCV_D0948', OrderedDict([(u'ANG', 0.0)])),\n",
       "          (u'FE_LEBT:SOLR_D0951', OrderedDict([(u'B', 0.4806226136302982)])),\n",
       "          (u'FE_LEBT:DCH_D0964', OrderedDict([(u'ANG', 0.0)])),\n",
       "          (u'FE_LEBT:DCV_D0964', OrderedDict([(u'ANG', 0.0)])),\n",
       "          (u'FE_LEBT:SOLR_D0967', OrderedDict([(u'B', 0.4426286193245654)])),\n",
       "          (u'FE_LEBT:DCH_D0979', OrderedDict([(u'ANG', 0.0)])),\n",
       "          (u'FE_LEBT:DCV_D0979', OrderedDict([(u'ANG', 0.0)])),\n",
       "          (u'FE_LEBT:SOLR_D0982', OrderedDict([(u'B', 0.698202568376094)])),\n",
       "          (u'FE_LEBT:DCH_D0992', OrderedDict([(u'ANG', 0.0)])),\n",
       "          (u'FE_LEBT:DCV_D0992', OrderedDict([(u'ANG', 0.0)])),\n",
       "          (u'FE_LEBT:SOLR_D0995', OrderedDict([(u'B', 0.0)]))])"
      ]
     },
     "execution_count": 8,
     "metadata": {},
     "output_type": "execute_result"
    }
   ],
   "source": [
    "lat.settings"
   ]
  },
  {
   "cell_type": "markdown",
   "metadata": {},
   "source": [
    "## Generate lattice file\n",
    "Generate lattice for physics study"
   ]
  },
  {
   "cell_type": "code",
   "execution_count": 9,
   "metadata": {
    "collapsed": false
   },
   "outputs": [
    {
     "name": "stderr",
     "output_type": "stream",
     "text": [
      "INFO: 2018-06-21 09:54:58,183: flame.machine: Constructing Machine w/ sim_type='MomentMatrix\n",
      "WARNING: 2018-06-21 09:54:58,191: flame_utils.core.model: ModelFlame: Lattice file is not valid, do it manually.\n",
      "WARNING: 2018-06-21 09:54:58,194: flame_utils.core.state: BeamState: Zeros initial states, get true values by parameter '_latfile' or '_machine'.\n",
      "WARNING: 2018-06-21 09:54:58,195: flame_utils.core.state: BeamState: Zeros initial states, get true values by parameter '_latfile' or '_machine'.\n"
     ]
    }
   ],
   "source": [
    "latfile1, fm1 = lat.run()"
   ]
  },
  {
   "cell_type": "markdown",
   "metadata": {},
   "source": [
    "## Apply changes to accelerator, then generate lattice file\n",
    "If the virtual accelerator has been changed, via some put actions, e.g. the first solenoid field has been changed from 0.0 to 0.1"
   ]
  },
  {
   "cell_type": "code",
   "execution_count": 15,
   "metadata": {
    "collapsed": false
   },
   "outputs": [
    {
     "name": "stderr",
     "output_type": "stream",
     "text": [
      "WARNING: 2018-06-21 09:58:36,544: phantasy.library.lattice.element: Field 'B' of 'FE_SCS1:SOLR_D0704' reached: 0.0.\n"
     ]
    }
   ],
   "source": [
    "# first locate the device to be controlled\n",
    "sol = mp.get_elements(type='SOL')[0]\n",
    "sol.B = 0.1 # if check sol.I, will get ~0.1, since the unit scaling between them is 1:1"
   ]
  },
  {
   "cell_type": "markdown",
   "metadata": {},
   "source": [
    "Check `lat.settings` again, you will not see the changes, because the change just made is to **control** environment, not **model** environment, only after applying `sync_settings()`, the model settings: `lat.settings` will be updated"
   ]
  },
  {
   "cell_type": "code",
   "execution_count": 18,
   "metadata": {
    "collapsed": false
   },
   "outputs": [
    {
     "data": {
      "text/plain": [
       "Settings([(u'FE_SCS1:SOLR_D0704', OrderedDict([(u'B', 0.0)])),\n",
       "          (u'FE_SCS1:DCH_D0709', OrderedDict([(u'ANG', 0.0)])),\n",
       "          (u'FE_SCS1:DCV_D0709', OrderedDict([(u'ANG', 0.0)])),\n",
       "          (u'FE_SCS1:DH_D0717',\n",
       "           OrderedDict([(u'B', 0.005016694538216879),\n",
       "                        (u'ANG', 90.0),\n",
       "                        (u'ENTANG', 0.0),\n",
       "                        (u'EXTANG', 0.0)])),\n",
       "          (u'FE_SCS1:DCH_D0723', OrderedDict([(u'ANG', 0.0)])),\n",
       "          (u'FE_SCS1:DCV_D0723', OrderedDict([(u'ANG', 0.0)])),\n",
       "          (u'FE_SCS1:QHE_D0726', OrderedDict([(u'V', 3996.4044773219102)])),\n",
       "          (u'FE_SCS1:QVE_D0730', OrderedDict([(u'V', -7404.0333237562245)])),\n",
       "          (u'FE_SCS1:QHE_D0733', OrderedDict([(u'V', 3582.1049404487294)])),\n",
       "          (u'FE_SCS1:QHE_D0743', OrderedDict([(u'V', 3639.0441993330223)])),\n",
       "          (u'FE_SCS1:QVE_D0746', OrderedDict([(u'V', -7561.539249904124)])),\n",
       "          (u'FE_SCS1:QHE_D0749', OrderedDict([(u'V', 4026.8756359163976)])),\n",
       "          (u'FE_LEBT:DH_D0759',\n",
       "           OrderedDict([(u'B', 0.005135186794604835),\n",
       "                        (u'ANG', 90.0),\n",
       "                        (u'ENTANG', 0.0),\n",
       "                        (u'EXTANG', 0.0)])),\n",
       "          (u'FE_LEBT:QVE_D0767', OrderedDict([(u'V', -358.5925120063421)])),\n",
       "          (u'FE_LEBT:QHE_D0770', OrderedDict([(u'V', 1263.3871722468214)])),\n",
       "          (u'FE_LEBT:DCH_D0773', OrderedDict([(u'ANG', 0.0)])),\n",
       "          (u'FE_LEBT:DCV_D0773', OrderedDict([(u'ANG', 0.0)])),\n",
       "          (u'FE_LEBT:QHE_D0776', OrderedDict([(u'V', -2205.688617692336)])),\n",
       "          (u'FE_LEBT:QVE_D0780', OrderedDict([(u'V', 1355.3118353446712)])),\n",
       "          (u'FE_LEBT:SOLR_D0787', OrderedDict([(u'B', 0.30314027862845855)])),\n",
       "          (u'FE_LEBT:DCH_D0790', OrderedDict([(u'ANG', 0.0)])),\n",
       "          (u'FE_LEBT:DCV_D0790',\n",
       "           OrderedDict([(u'ANG', -0.001009434185703871)])),\n",
       "          (u'FE_LEBT:SOLR_D0802', OrderedDict([(u'B', 0.43914746099184127)])),\n",
       "          (u'FE_LEBT:DCH_D0805', OrderedDict([(u'ANG', 0.0)])),\n",
       "          (u'FE_LEBT:DCV_D0805', OrderedDict([(u'ANG', 0.0)])),\n",
       "          (u'FE_LEBT:SOLR_D0818', OrderedDict([(u'B', 0.4760509988842881)])),\n",
       "          (u'FE_LEBT:DCH_D0821', OrderedDict([(u'ANG', 0.0)])),\n",
       "          (u'FE_LEBT:DCV_D0821', OrderedDict([(u'ANG', 0.0)])),\n",
       "          (u'FE_LEBT:DVE_D0833', OrderedDict([(u'V', 0.005025131867296815)])),\n",
       "          (u'FE_LEBT:DCH_D0840', OrderedDict([(u'ANG', 0.0)])),\n",
       "          (u'FE_LEBT:DCV_D0840', OrderedDict([(u'ANG', 0.0)])),\n",
       "          (u'FE_LEBT:QHE_D0844', OrderedDict([(u'V', -3142.1912877935897)])),\n",
       "          (u'FE_LEBT:QVE_D0848', OrderedDict([(u'V', 6421.862766935174)])),\n",
       "          (u'FE_LEBT:QHE_D0851', OrderedDict([(u'V', -4777.256179007316)])),\n",
       "          (u'FE_LEBT:DCH_D0868', OrderedDict([(u'ANG', 0.0)])),\n",
       "          (u'FE_LEBT:DCV_D0868', OrderedDict([(u'ANG', 0.0)])),\n",
       "          (u'FE_LEBT:QVE_D0871', OrderedDict([(u'V', 3938.1827572090756)])),\n",
       "          (u'FE_LEBT:QHE_D0874', OrderedDict([(u'V', -6550.120848164523)])),\n",
       "          (u'FE_LEBT:QVE_D0878', OrderedDict([(u'V', 1928.8398849047394)])),\n",
       "          (u'FE_LEBT:DCH_D0880', OrderedDict([(u'ANG', 0.0)])),\n",
       "          (u'FE_LEBT:DCV_D0880', OrderedDict([(u'ANG', 0.0)])),\n",
       "          (u'FE_LEBT:QVE_D0891', OrderedDict([(u'V', 1939.3474158875592)])),\n",
       "          (u'FE_LEBT:QHE_D0895', OrderedDict([(u'V', -6555.941399422823)])),\n",
       "          (u'FE_LEBT:QVE_D0898', OrderedDict([(u'V', 3965.2015397227997)])),\n",
       "          (u'FE_LEBT:DCH_D0901', OrderedDict([(u'ANG', 0.0)])),\n",
       "          (u'FE_LEBT:DCV_D0901', OrderedDict([(u'ANG', 0.0)])),\n",
       "          (u'FE_LEBT:QHE_D0918', OrderedDict([(u'V', -4788.865874270844)])),\n",
       "          (u'FE_LEBT:QVE_D0921', OrderedDict([(u'V', 6292.862948193198)])),\n",
       "          (u'FE_LEBT:QHE_D0924', OrderedDict([(u'V', -3100.228816836021)])),\n",
       "          (u'FE_LEBT:DCH_D0929', OrderedDict([(u'ANG', 0.0)])),\n",
       "          (u'FE_LEBT:DCV_D0929', OrderedDict([(u'ANG', 0.0)])),\n",
       "          (u'FE_LEBT:DVE_D0936', OrderedDict([(u'V', 0.005078311645066914)])),\n",
       "          (u'FE_LEBT:DCH_D0948', OrderedDict([(u'ANG', 0.0)])),\n",
       "          (u'FE_LEBT:DCV_D0948', OrderedDict([(u'ANG', 0.0)])),\n",
       "          (u'FE_LEBT:SOLR_D0951', OrderedDict([(u'B', 0.4806226136302982)])),\n",
       "          (u'FE_LEBT:DCH_D0964', OrderedDict([(u'ANG', 0.0)])),\n",
       "          (u'FE_LEBT:DCV_D0964', OrderedDict([(u'ANG', 0.0)])),\n",
       "          (u'FE_LEBT:SOLR_D0967', OrderedDict([(u'B', 0.4426286193245654)])),\n",
       "          (u'FE_LEBT:DCH_D0979', OrderedDict([(u'ANG', 0.0)])),\n",
       "          (u'FE_LEBT:DCV_D0979', OrderedDict([(u'ANG', 0.0)])),\n",
       "          (u'FE_LEBT:SOLR_D0982', OrderedDict([(u'B', 0.698202568376094)])),\n",
       "          (u'FE_LEBT:DCH_D0992', OrderedDict([(u'ANG', 0.0)])),\n",
       "          (u'FE_LEBT:DCV_D0992', OrderedDict([(u'ANG', 0.0)])),\n",
       "          (u'FE_LEBT:SOLR_D0995', OrderedDict([(u'B', 0.0)]))])"
      ]
     },
     "execution_count": 18,
     "metadata": {},
     "output_type": "execute_result"
    }
   ],
   "source": [
    "lat.settings"
   ]
  },
  {
   "cell_type": "code",
   "execution_count": 19,
   "metadata": {
    "collapsed": false
   },
   "outputs": [
    {
     "name": "stderr",
     "output_type": "stream",
     "text": [
      "INFO: 2018-06-21 10:01:38,303: phantasy.library.lattice.lattice: Sync settings from 'control' to 'model'.\n"
     ]
    }
   ],
   "source": [
    "lat.sync_settings()"
   ]
  },
  {
   "cell_type": "code",
   "execution_count": 21,
   "metadata": {
    "collapsed": false
   },
   "outputs": [
    {
     "data": {
      "text/plain": [
       "Settings([(u'FE_SCS1:SOLR_D0704', OrderedDict([(u'B', 0.10084305419622216)])),\n",
       "          (u'FE_SCS1:DCH_D0709', OrderedDict([(u'ANG', 0.0)])),\n",
       "          (u'FE_SCS1:DCV_D0709', OrderedDict([(u'ANG', 0.0)])),\n",
       "          (u'FE_SCS1:DH_D0717',\n",
       "           OrderedDict([(u'B', 0.005004776651814936),\n",
       "                        (u'ANG', 90.0),\n",
       "                        (u'ENTANG', 0.0),\n",
       "                        (u'EXTANG', 0.0)])),\n",
       "          (u'FE_SCS1:DCH_D0723', OrderedDict([(u'ANG', 0.0)])),\n",
       "          (u'FE_SCS1:DCV_D0723', OrderedDict([(u'ANG', 0.0)])),\n",
       "          (u'FE_SCS1:QHE_D0726', OrderedDict([(u'V', 4027.62803903432)])),\n",
       "          (u'FE_SCS1:QVE_D0730', OrderedDict([(u'V', -7426.6692753744355)])),\n",
       "          (u'FE_SCS1:QHE_D0733', OrderedDict([(u'V', 3602.708868470123)])),\n",
       "          (u'FE_SCS1:QHE_D0743', OrderedDict([(u'V', 3620.2912721602697)])),\n",
       "          (u'FE_SCS1:QVE_D0746', OrderedDict([(u'V', -7426.858798744354)])),\n",
       "          (u'FE_SCS1:QHE_D0749', OrderedDict([(u'V', 4022.442696715739)])),\n",
       "          (u'FE_LEBT:DH_D0759',\n",
       "           OrderedDict([(u'B', 0.0050526099221298755),\n",
       "                        (u'ANG', 90.0),\n",
       "                        (u'ENTANG', 0.0),\n",
       "                        (u'EXTANG', 0.0)])),\n",
       "          (u'FE_LEBT:QVE_D0767', OrderedDict([(u'V', -361.7220474556681)])),\n",
       "          (u'FE_LEBT:QHE_D0770', OrderedDict([(u'V', 1269.9454441404619)])),\n",
       "          (u'FE_LEBT:DCH_D0773', OrderedDict([(u'ANG', 0.0)])),\n",
       "          (u'FE_LEBT:DCV_D0773', OrderedDict([(u'ANG', 0.0)])),\n",
       "          (u'FE_LEBT:QHE_D0776', OrderedDict([(u'V', -2201.6129116589204)])),\n",
       "          (u'FE_LEBT:QVE_D0780', OrderedDict([(u'V', 1368.8847577692516)])),\n",
       "          (u'FE_LEBT:SOLR_D0787', OrderedDict([(u'B', 0.30671495301724633)])),\n",
       "          (u'FE_LEBT:DCH_D0790', OrderedDict([(u'ANG', 0.0)])),\n",
       "          (u'FE_LEBT:DCV_D0790',\n",
       "           OrderedDict([(u'ANG', -0.0010220070003873853)])),\n",
       "          (u'FE_LEBT:SOLR_D0802', OrderedDict([(u'B', 0.43833109984474333)])),\n",
       "          (u'FE_LEBT:DCH_D0805', OrderedDict([(u'ANG', 0.0)])),\n",
       "          (u'FE_LEBT:DCV_D0805', OrderedDict([(u'ANG', 0.0)])),\n",
       "          (u'FE_LEBT:SOLR_D0818', OrderedDict([(u'B', 0.4811554379991184)])),\n",
       "          (u'FE_LEBT:DCH_D0821', OrderedDict([(u'ANG', 0.0)])),\n",
       "          (u'FE_LEBT:DCV_D0821', OrderedDict([(u'ANG', 0.0)])),\n",
       "          (u'FE_LEBT:DVE_D0833', OrderedDict([(u'V', 0.005104534375536319)])),\n",
       "          (u'FE_LEBT:DCH_D0840', OrderedDict([(u'ANG', 0.0)])),\n",
       "          (u'FE_LEBT:DCV_D0840', OrderedDict([(u'ANG', 0.0)])),\n",
       "          (u'FE_LEBT:QHE_D0844', OrderedDict([(u'V', -3139.859310517071)])),\n",
       "          (u'FE_LEBT:QVE_D0848', OrderedDict([(u'V', 6376.380638901749)])),\n",
       "          (u'FE_LEBT:QHE_D0851', OrderedDict([(u'V', -4788.429891728652)])),\n",
       "          (u'FE_LEBT:DCH_D0868', OrderedDict([(u'ANG', 0.0)])),\n",
       "          (u'FE_LEBT:DCV_D0868', OrderedDict([(u'ANG', 0.0)])),\n",
       "          (u'FE_LEBT:QVE_D0871', OrderedDict([(u'V', 3909.5967612547174)])),\n",
       "          (u'FE_LEBT:QHE_D0874', OrderedDict([(u'V', -6538.808191998944)])),\n",
       "          (u'FE_LEBT:QVE_D0878', OrderedDict([(u'V', 1926.554962262304)])),\n",
       "          (u'FE_LEBT:DCH_D0880', OrderedDict([(u'ANG', 0.0)])),\n",
       "          (u'FE_LEBT:DCV_D0880', OrderedDict([(u'ANG', 0.0)])),\n",
       "          (u'FE_LEBT:QVE_D0891', OrderedDict([(u'V', 1949.2159594436755)])),\n",
       "          (u'FE_LEBT:QHE_D0895', OrderedDict([(u'V', -6549.506954214895)])),\n",
       "          (u'FE_LEBT:QVE_D0898', OrderedDict([(u'V', 3896.768973681905)])),\n",
       "          (u'FE_LEBT:DCH_D0901', OrderedDict([(u'ANG', 0.0)])),\n",
       "          (u'FE_LEBT:DCV_D0901', OrderedDict([(u'ANG', 0.0)])),\n",
       "          (u'FE_LEBT:QHE_D0918', OrderedDict([(u'V', -4839.691071982567)])),\n",
       "          (u'FE_LEBT:QVE_D0921', OrderedDict([(u'V', 6307.6402494729455)])),\n",
       "          (u'FE_LEBT:QHE_D0924', OrderedDict([(u'V', -3103.059386907724)])),\n",
       "          (u'FE_LEBT:DCH_D0929', OrderedDict([(u'ANG', 0.0)])),\n",
       "          (u'FE_LEBT:DCV_D0929', OrderedDict([(u'ANG', 0.0)])),\n",
       "          (u'FE_LEBT:DVE_D0936', OrderedDict([(u'V', 0.0050355194682848384)])),\n",
       "          (u'FE_LEBT:DCH_D0948', OrderedDict([(u'ANG', 0.0)])),\n",
       "          (u'FE_LEBT:DCV_D0948', OrderedDict([(u'ANG', 0.0)])),\n",
       "          (u'FE_LEBT:SOLR_D0951', OrderedDict([(u'B', 0.4806117558677998)])),\n",
       "          (u'FE_LEBT:DCH_D0964', OrderedDict([(u'ANG', 0.0)])),\n",
       "          (u'FE_LEBT:DCV_D0964', OrderedDict([(u'ANG', 0.0)])),\n",
       "          (u'FE_LEBT:SOLR_D0967', OrderedDict([(u'B', 0.441703593975352)])),\n",
       "          (u'FE_LEBT:DCH_D0979', OrderedDict([(u'ANG', 0.0)])),\n",
       "          (u'FE_LEBT:DCV_D0979', OrderedDict([(u'ANG', 0.0)])),\n",
       "          (u'FE_LEBT:SOLR_D0982', OrderedDict([(u'B', 0.6929912021988774)])),\n",
       "          (u'FE_LEBT:DCH_D0992', OrderedDict([(u'ANG', 0.0)])),\n",
       "          (u'FE_LEBT:DCV_D0992', OrderedDict([(u'ANG', 0.0)])),\n",
       "          (u'FE_LEBT:SOLR_D0995', OrderedDict([(u'B', 0.0)]))])"
      ]
     },
     "execution_count": 21,
     "metadata": {},
     "output_type": "execute_result"
    }
   ],
   "source": [
    "lat.settings # keep eye on the first line"
   ]
  },
  {
   "cell_type": "code",
   "execution_count": 22,
   "metadata": {
    "collapsed": true
   },
   "outputs": [],
   "source": [
    "# generate lattice file again, to see the changes"
   ]
  },
  {
   "cell_type": "code",
   "execution_count": 23,
   "metadata": {
    "collapsed": false
   },
   "outputs": [
    {
     "name": "stderr",
     "output_type": "stream",
     "text": [
      "INFO: 2018-06-21 10:02:29,461: flame.machine: Constructing Machine w/ sim_type='MomentMatrix\n",
      "WARNING: 2018-06-21 10:02:29,472: flame_utils.core.model: ModelFlame: Lattice file is not valid, do it manually.\n",
      "WARNING: 2018-06-21 10:02:29,473: flame_utils.core.state: BeamState: Zeros initial states, get true values by parameter '_latfile' or '_machine'.\n",
      "WARNING: 2018-06-21 10:02:29,475: flame_utils.core.state: BeamState: Zeros initial states, get true values by parameter '_latfile' or '_machine'.\n"
     ]
    }
   ],
   "source": [
    "latfile2, fm2 = lat.run()"
   ]
  },
  {
   "cell_type": "code",
   "execution_count": 25,
   "metadata": {
    "collapsed": false
   },
   "outputs": [
    {
     "data": {
      "text/plain": [
       "(u'/home/tong/phantasy_data/20180621/model_data/data_Nk6ATZ/model_Mfk0Na.lat',\n",
       " u'/home/tong/phantasy_data/20180621/model_data/data_Nk6ATZ/model_HaLmlk.lat')"
      ]
     },
     "execution_count": 25,
     "metadata": {},
     "output_type": "execute_result"
    }
   ],
   "source": [
    "latfile1, latfile2 # check the difference between these two file."
   ]
  },
  {
   "cell_type": "markdown",
   "metadata": {},
   "source": [
    "## Apply the same workflow to FRIB accelerator\n",
    "In this section, a soft-ioc which mimics the real power supply configurations for LEBT section is running,\n",
    "in the `develop-vmphy0-v5` virtualbox appliance, simply type `start_ioc` in the terminal, or execute: `docker run -d --name phantasy-ioc tonyzhang/phantasy-ioc:jessie`, the started ioc initialize all PV values as 0.1, with slight noise level, could be controlled by pv `fac`, e.g. `caput fac 0` will eliminate the noise level to 0."
   ]
  },
  {
   "cell_type": "code",
   "execution_count": 27,
   "metadata": {
    "collapsed": false
   },
   "outputs": [
    {
     "name": "stderr",
     "output_type": "stream",
     "text": [
      "WARNING: 2018-06-21 10:20:33,624: phantasy.library.operation.core: Load new machine: LEBT segment: DEFAULT\n",
      "INFO: 2018-06-21 10:20:33,628: phantasy.library.parser.config: Searching configuration in relative or absolute path: 'LEBT'\n",
      "INFO: 2018-06-21 10:20:33,628: phantasy.library.parser.config: Searching configuration under path: '/home/tong/Dropbox/FRIB/work/phantasy-project/phantasy-machines' 'LEBT'\n",
      "INFO: 2018-06-21 10:20:33,629: phantasy.library.parser.config: Importing 'LEBT' from '/home/tong/Dropbox/FRIB/work/phantasy-project/phantasy-machines/LEBT'\n",
      "INFO: 2018-06-21 10:20:33,632: phantasy.library.parser.config: Using config file: phantasy.ini\n",
      "INFO: 2018-06-21 10:20:33,672: phantasy.library.operation.lattice: Using CSV/SQLite instead of CFS '/home/tong/Dropbox/FRIB/work/phantasy-project/phantasy-machines/LEBT/channels.csv'\n",
      "INFO: 2018-06-21 10:20:33,674: phantasy.library.pv.datasource: Set source to be CSV table: channels.csv.\n",
      "INFO: 2018-06-21 10:20:33,710: phantasy.library.operation.lattice: Found 353 PVs in LEBT.\n",
      "INFO: 2018-06-21 10:20:34,023: phantasy.library.operation.lattice: 'LEBT' has 77 elements\n",
      "INFO: 2018-06-21 10:20:34,025: phantasy.library.operation.lattice: Temp model data directory: /home/tong/phantasy_data/20180621/model_data/data_1I_nc_\n"
     ]
    }
   ],
   "source": [
    "mp1 = phantasy.MachinePortal(machine='LEBT')"
   ]
  },
  {
   "cell_type": "code",
   "execution_count": 28,
   "metadata": {
    "collapsed": true
   },
   "outputs": [],
   "source": [
    "lat1 = mp1.work_lattice_conf"
   ]
  },
  {
   "cell_type": "code",
   "execution_count": 31,
   "metadata": {
    "collapsed": false
   },
   "outputs": [
    {
     "data": {
      "text/plain": [
       "Settings([(u'FE_SCS1:SOLR_D0704', OrderedDict([(u'B', 0.0)])),\n",
       "          (u'FE_SCS1:DCH_D0709', OrderedDict([(u'ANG', 0.0)])),\n",
       "          (u'FE_SCS1:DCV_D0709', OrderedDict([(u'ANG', 0.0)])),\n",
       "          (u'FE_SCS1:DH_D0717',\n",
       "           OrderedDict([(u'B', 0.0050696),\n",
       "                        (u'ANG', 90.0),\n",
       "                        (u'ENTANG', 0.0),\n",
       "                        (u'EXTANG', 0.0)])),\n",
       "          (u'FE_SCS1:DCH_D0723', OrderedDict([(u'ANG', 0.0)])),\n",
       "          (u'FE_SCS1:DCV_D0723', OrderedDict([(u'ANG', 0.0)])),\n",
       "          (u'FE_SCS1:QHE_D0726', OrderedDict([(u'V', 3985.56)])),\n",
       "          (u'FE_SCS1:QVE_D0730', OrderedDict([(u'V', -7496.75)])),\n",
       "          (u'FE_SCS1:QHE_D0733', OrderedDict([(u'V', 3609.39)])),\n",
       "          (u'FE_SCS1:QHE_D0743', OrderedDict([(u'V', 3609.39)])),\n",
       "          (u'FE_SCS1:QVE_D0746', OrderedDict([(u'V', -7496.75)])),\n",
       "          (u'FE_SCS1:QHE_D0749', OrderedDict([(u'V', 3985.56)])),\n",
       "          (u'FE_LEBT:DH_D0759',\n",
       "           OrderedDict([(u'B', 0.0050696),\n",
       "                        (u'ANG', 90.0),\n",
       "                        (u'ENTANG', 0.0),\n",
       "                        (u'EXTANG', 0.0)])),\n",
       "          (u'FE_LEBT:QVE_D0767', OrderedDict([(u'V', -358.574)])),\n",
       "          (u'FE_LEBT:QHE_D0770', OrderedDict([(u'V', 1266.99)])),\n",
       "          (u'FE_LEBT:DCH_D0773', OrderedDict([(u'ANG', 0.0)])),\n",
       "          (u'FE_LEBT:DCV_D0773', OrderedDict([(u'ANG', 0.0)])),\n",
       "          (u'FE_LEBT:QHE_D0776', OrderedDict([(u'V', -2199.82)])),\n",
       "          (u'FE_LEBT:QVE_D0780', OrderedDict([(u'V', 1372.1)])),\n",
       "          (u'FE_LEBT:SOLR_D0787', OrderedDict([(u'B', 0.304029)])),\n",
       "          (u'FE_LEBT:DCH_D0790', OrderedDict([(u'ANG', 0.0)])),\n",
       "          (u'FE_LEBT:DCV_D0790', OrderedDict([(u'ANG', 0.0)])),\n",
       "          (u'FE_LEBT:SOLR_D0802', OrderedDict([(u'B', 0.443058)])),\n",
       "          (u'FE_LEBT:DCH_D0805', OrderedDict([(u'ANG', 0.0)])),\n",
       "          (u'FE_LEBT:DCV_D0805', OrderedDict([(u'ANG', 0.0)])),\n",
       "          (u'FE_LEBT:SOLR_D0818', OrderedDict([(u'B', 0.481683)])),\n",
       "          (u'FE_LEBT:DCH_D0821', OrderedDict([(u'ANG', 0.0)])),\n",
       "          (u'FE_LEBT:DCV_D0821', OrderedDict([(u'ANG', 0.0)])),\n",
       "          (u'FE_LEBT:DVE_D0833', OrderedDict([(u'V', 0.00506953)])),\n",
       "          (u'FE_LEBT:DCH_D0840', OrderedDict([(u'ANG', 0.0)])),\n",
       "          (u'FE_LEBT:DCV_D0840', OrderedDict([(u'ANG', 0.0)])),\n",
       "          (u'FE_LEBT:QHE_D0844', OrderedDict([(u'V', -3122.83)])),\n",
       "          (u'FE_LEBT:QVE_D0848', OrderedDict([(u'V', 6341.75)])),\n",
       "          (u'FE_LEBT:QHE_D0851', OrderedDict([(u'V', -4804.36)])),\n",
       "          (u'FE_LEBT:DCH_D0868', OrderedDict([(u'ANG', 0.0)])),\n",
       "          (u'FE_LEBT:DCV_D0868', OrderedDict([(u'ANG', 0.0)])),\n",
       "          (u'FE_LEBT:QVE_D0871', OrderedDict([(u'V', 3920.62)])),\n",
       "          (u'FE_LEBT:QHE_D0874', OrderedDict([(u'V', -6497.73)])),\n",
       "          (u'FE_LEBT:QVE_D0878', OrderedDict([(u'V', 1931.65)])),\n",
       "          (u'FE_LEBT:DCH_D0880', OrderedDict([(u'ANG', 0.0)])),\n",
       "          (u'FE_LEBT:DCV_D0880', OrderedDict([(u'ANG', 0.0)])),\n",
       "          (u'FE_LEBT:QVE_D0891', OrderedDict([(u'V', 1931.65)])),\n",
       "          (u'FE_LEBT:QHE_D0895', OrderedDict([(u'V', -6497.73)])),\n",
       "          (u'FE_LEBT:QVE_D0898', OrderedDict([(u'V', 3920.62)])),\n",
       "          (u'FE_LEBT:DCH_D0901', OrderedDict([(u'ANG', 0.0)])),\n",
       "          (u'FE_LEBT:DCV_D0901', OrderedDict([(u'ANG', 0.0)])),\n",
       "          (u'FE_LEBT:QHE_D0918', OrderedDict([(u'V', -4804.36)])),\n",
       "          (u'FE_LEBT:QVE_D0921', OrderedDict([(u'V', 6341.75)])),\n",
       "          (u'FE_LEBT:QHE_D0924', OrderedDict([(u'V', -3122.83)])),\n",
       "          (u'FE_LEBT:DCH_D0929', OrderedDict([(u'ANG', 0.0)])),\n",
       "          (u'FE_LEBT:DCV_D0929', OrderedDict([(u'ANG', 0.0)])),\n",
       "          (u'FE_LEBT:DVE_D0936', OrderedDict([(u'V', 0.00506953)])),\n",
       "          (u'FE_LEBT:DCH_D0948', OrderedDict([(u'ANG', 0.0)])),\n",
       "          (u'FE_LEBT:DCV_D0948', OrderedDict([(u'ANG', 0.0)])),\n",
       "          (u'FE_LEBT:SOLR_D0951', OrderedDict([(u'B', 0.481683)])),\n",
       "          (u'FE_LEBT:DCH_D0964', OrderedDict([(u'ANG', 0.0)])),\n",
       "          (u'FE_LEBT:DCV_D0964', OrderedDict([(u'ANG', 0.0)])),\n",
       "          (u'FE_LEBT:SOLR_D0967', OrderedDict([(u'B', 0.443058)])),\n",
       "          (u'FE_LEBT:DCH_D0979', OrderedDict([(u'ANG', 0.0)])),\n",
       "          (u'FE_LEBT:DCV_D0979', OrderedDict([(u'ANG', 0.0)])),\n",
       "          (u'FE_LEBT:SOLR_D0982', OrderedDict([(u'B', 0.696513)])),\n",
       "          (u'FE_LEBT:DCH_D0992', OrderedDict([(u'ANG', 0.0)])),\n",
       "          (u'FE_LEBT:DCV_D0992', OrderedDict([(u'ANG', 0.0)])),\n",
       "          (u'FE_LEBT:SOLR_D0995', OrderedDict([(u'B', 0.0)]))])"
      ]
     },
     "execution_count": 31,
     "metadata": {},
     "output_type": "execute_result"
    }
   ],
   "source": [
    "lat1.settings  # the same as lat.settings, since they shares the same initial settings"
   ]
  },
  {
   "cell_type": "markdown",
   "metadata": {},
   "source": [
    "sync settings from `control` to `model`"
   ]
  },
  {
   "cell_type": "code",
   "execution_count": 34,
   "metadata": {
    "collapsed": false
   },
   "outputs": [
    {
     "name": "stderr",
     "output_type": "stream",
     "text": [
      "INFO: 2018-06-21 10:21:56,635: phantasy.library.lattice.lattice: Sync settings from 'control' to 'model'.\n"
     ]
    }
   ],
   "source": [
    "lat1.sync_settings()"
   ]
  },
  {
   "cell_type": "markdown",
   "metadata": {},
   "source": [
    "check the settings, magic happened!! Please note this settings actually maintains the **physics** settings! When we talk to the devices, we only apply the correct engineering values onto devices, no matter via engineering fields or physics fields, the latter way involed unit scaling laws! Here we can simply check it out."
   ]
  },
  {
   "cell_type": "code",
   "execution_count": 33,
   "metadata": {
    "collapsed": false
   },
   "outputs": [
    {
     "data": {
      "text/plain": [
       "Settings([(u'FE_SCS1:SOLR_D0704',\n",
       "           OrderedDict([(u'B', -0.00028900000000000003)])),\n",
       "          (u'FE_SCS1:DCH_D0709',\n",
       "           OrderedDict([(u'ANG', -3.4840000000000005e-05)])),\n",
       "          (u'FE_SCS1:DCV_D0709',\n",
       "           OrderedDict([(u'ANG', 3.4840000000000005e-05)])),\n",
       "          (u'FE_SCS1:DH_D0717',\n",
       "           OrderedDict([(u'B', 0.1),\n",
       "                        (u'ANG', 90.0),\n",
       "                        (u'ENTANG', 0.0),\n",
       "                        (u'EXTANG', 0.0)])),\n",
       "          (u'FE_SCS1:DCH_D0723',\n",
       "           OrderedDict([(u'ANG', -3.4840000000000005e-05)])),\n",
       "          (u'FE_SCS1:DCV_D0723',\n",
       "           OrderedDict([(u'ANG', 3.4840000000000005e-05)])),\n",
       "          (u'FE_SCS1:QHE_D0726', OrderedDict([(u'V', 0.0)])),\n",
       "          (u'FE_SCS1:QVE_D0730', OrderedDict([(u'V', 0.0)])),\n",
       "          (u'FE_SCS1:QHE_D0733', OrderedDict([(u'V', 0.0)])),\n",
       "          (u'FE_SCS1:QHE_D0743', OrderedDict([(u'V', 0.0)])),\n",
       "          (u'FE_SCS1:QVE_D0746', OrderedDict([(u'V', 0.0)])),\n",
       "          (u'FE_SCS1:QHE_D0749', OrderedDict([(u'V', 0.0)])),\n",
       "          (u'FE_LEBT:DH_D0759',\n",
       "           OrderedDict([(u'B', 0.1),\n",
       "                        (u'ANG', 90.0),\n",
       "                        (u'ENTANG', 0.0),\n",
       "                        (u'EXTANG', 0.0)])),\n",
       "          (u'FE_LEBT:QVE_D0767', OrderedDict([(u'V', 0.0)])),\n",
       "          (u'FE_LEBT:QHE_D0770', OrderedDict([(u'V', 0.0)])),\n",
       "          (u'FE_LEBT:DCH_D0773',\n",
       "           OrderedDict([(u'ANG', -3.4840000000000005e-05)])),\n",
       "          (u'FE_LEBT:DCV_D0773',\n",
       "           OrderedDict([(u'ANG', 3.4840000000000005e-05)])),\n",
       "          (u'FE_LEBT:QHE_D0776', OrderedDict([(u'V', 0.0)])),\n",
       "          (u'FE_LEBT:QVE_D0780', OrderedDict([(u'V', 0.0)])),\n",
       "          (u'FE_LEBT:SOLR_D0787',\n",
       "           OrderedDict([(u'B', -0.00028900000000000003)])),\n",
       "          (u'FE_LEBT:DCH_D0790',\n",
       "           OrderedDict([(u'ANG', -2.5980000000000005e-05)])),\n",
       "          (u'FE_LEBT:DCV_D0790',\n",
       "           OrderedDict([(u'ANG', 2.5980000000000005e-05)])),\n",
       "          (u'FE_LEBT:SOLR_D0802',\n",
       "           OrderedDict([(u'B', -0.00028900000000000003)])),\n",
       "          (u'FE_LEBT:DCH_D0805',\n",
       "           OrderedDict([(u'ANG', -2.5980000000000005e-05)])),\n",
       "          (u'FE_LEBT:DCV_D0805',\n",
       "           OrderedDict([(u'ANG', 2.5980000000000005e-05)])),\n",
       "          (u'FE_LEBT:SOLR_D0818',\n",
       "           OrderedDict([(u'B', -0.00028900000000000003)])),\n",
       "          (u'FE_LEBT:DCH_D0821',\n",
       "           OrderedDict([(u'ANG', -2.5980000000000005e-05)])),\n",
       "          (u'FE_LEBT:DCV_D0821',\n",
       "           OrderedDict([(u'ANG', 2.5980000000000005e-05)])),\n",
       "          (u'FE_LEBT:DVE_D0833', OrderedDict([(u'V', 0.0)])),\n",
       "          (u'FE_LEBT:DCH_D0840',\n",
       "           OrderedDict([(u'ANG', -3.4840000000000005e-05)])),\n",
       "          (u'FE_LEBT:DCV_D0840',\n",
       "           OrderedDict([(u'ANG', 3.4840000000000005e-05)])),\n",
       "          (u'FE_LEBT:QHE_D0844', OrderedDict([(u'V', 0.0)])),\n",
       "          (u'FE_LEBT:QVE_D0848', OrderedDict([(u'V', 0.0)])),\n",
       "          (u'FE_LEBT:QHE_D0851', OrderedDict([(u'V', 0.0)])),\n",
       "          (u'FE_LEBT:DCH_D0868',\n",
       "           OrderedDict([(u'ANG', -3.4840000000000005e-05)])),\n",
       "          (u'FE_LEBT:DCV_D0868',\n",
       "           OrderedDict([(u'ANG', 3.4840000000000005e-05)])),\n",
       "          (u'FE_LEBT:QVE_D0871', OrderedDict([(u'V', 0.0)])),\n",
       "          (u'FE_LEBT:QHE_D0874', OrderedDict([(u'V', 0.0)])),\n",
       "          (u'FE_LEBT:QVE_D0878', OrderedDict([(u'V', 0.0)])),\n",
       "          (u'FE_LEBT:DCH_D0880',\n",
       "           OrderedDict([(u'ANG', -3.4840000000000005e-05)])),\n",
       "          (u'FE_LEBT:DCV_D0880',\n",
       "           OrderedDict([(u'ANG', 3.4840000000000005e-05)])),\n",
       "          (u'FE_LEBT:QVE_D0891', OrderedDict([(u'V', 0.0)])),\n",
       "          (u'FE_LEBT:QHE_D0895', OrderedDict([(u'V', 0.0)])),\n",
       "          (u'FE_LEBT:QVE_D0898', OrderedDict([(u'V', 0.0)])),\n",
       "          (u'FE_LEBT:DCH_D0901',\n",
       "           OrderedDict([(u'ANG', -3.4840000000000005e-05)])),\n",
       "          (u'FE_LEBT:DCV_D0901',\n",
       "           OrderedDict([(u'ANG', 3.4840000000000005e-05)])),\n",
       "          (u'FE_LEBT:QHE_D0918', OrderedDict([(u'V', 0.0)])),\n",
       "          (u'FE_LEBT:QVE_D0921', OrderedDict([(u'V', 0.0)])),\n",
       "          (u'FE_LEBT:QHE_D0924', OrderedDict([(u'V', 0.0)])),\n",
       "          (u'FE_LEBT:DCH_D0929',\n",
       "           OrderedDict([(u'ANG', -3.4840000000000005e-05)])),\n",
       "          (u'FE_LEBT:DCV_D0929',\n",
       "           OrderedDict([(u'ANG', 3.4840000000000005e-05)])),\n",
       "          (u'FE_LEBT:DVE_D0936', OrderedDict([(u'V', 0.0)])),\n",
       "          (u'FE_LEBT:DCH_D0948',\n",
       "           OrderedDict([(u'ANG', -2.5980000000000005e-05)])),\n",
       "          (u'FE_LEBT:DCV_D0948',\n",
       "           OrderedDict([(u'ANG', 2.5980000000000005e-05)])),\n",
       "          (u'FE_LEBT:SOLR_D0951',\n",
       "           OrderedDict([(u'B', -0.00028900000000000003)])),\n",
       "          (u'FE_LEBT:DCH_D0964',\n",
       "           OrderedDict([(u'ANG', -2.5980000000000005e-05)])),\n",
       "          (u'FE_LEBT:DCV_D0964',\n",
       "           OrderedDict([(u'ANG', 2.5980000000000005e-05)])),\n",
       "          (u'FE_LEBT:SOLR_D0967',\n",
       "           OrderedDict([(u'B', -0.00028900000000000003)])),\n",
       "          (u'FE_LEBT:DCH_D0979',\n",
       "           OrderedDict([(u'ANG', -2.5980000000000005e-05)])),\n",
       "          (u'FE_LEBT:DCV_D0979',\n",
       "           OrderedDict([(u'ANG', 2.5980000000000005e-05)])),\n",
       "          (u'FE_LEBT:SOLR_D0982',\n",
       "           OrderedDict([(u'B', -0.00028900000000000003)])),\n",
       "          (u'FE_LEBT:DCH_D0992',\n",
       "           OrderedDict([(u'ANG', -2.5980000000000005e-05)])),\n",
       "          (u'FE_LEBT:DCV_D0992',\n",
       "           OrderedDict([(u'ANG', 2.5980000000000005e-05)])),\n",
       "          (u'FE_LEBT:SOLR_D0995',\n",
       "           OrderedDict([(u'B', -0.00028900000000000003)]))])"
      ]
     },
     "execution_count": 33,
     "metadata": {},
     "output_type": "execute_result"
    }
   ],
   "source": [
    "lat1.settings"
   ]
  },
  {
   "cell_type": "markdown",
   "metadata": {},
   "source": [
    "Again, we take the first solenoid as an example:"
   ]
  },
  {
   "cell_type": "code",
   "execution_count": 35,
   "metadata": {
    "collapsed": true
   },
   "outputs": [],
   "source": [
    "sol0 = mp1.get_elements(type='SOL')[0]"
   ]
  },
  {
   "cell_type": "code",
   "execution_count": 37,
   "metadata": {
    "collapsed": false
   },
   "outputs": [
    {
     "data": {
      "text/plain": [
       "['I', 'B']"
      ]
     },
     "execution_count": 37,
     "metadata": {},
     "output_type": "execute_result"
    }
   ],
   "source": [
    "# check all availble dynamic fields attached to `sol0`\n",
    "sol0.fields"
   ]
  },
  {
   "cell_type": "code",
   "execution_count": 39,
   "metadata": {
    "collapsed": true
   },
   "outputs": [],
   "source": [
    "# check the reading of `I`, whose unit is [A]"
   ]
  },
  {
   "cell_type": "code",
   "execution_count": 40,
   "metadata": {
    "collapsed": false
   },
   "outputs": [
    {
     "data": {
      "text/plain": [
       "0.1"
      ]
     },
     "execution_count": 40,
     "metadata": {},
     "output_type": "execute_result"
    }
   ],
   "source": [
    "sol0.I"
   ]
  },
  {
   "cell_type": "code",
   "execution_count": 41,
   "metadata": {
    "collapsed": true
   },
   "outputs": [],
   "source": [
    "# check the reading of `B`, whose unit is [T]\n",
    "# the scaling law from I to B is: f(I) = -0.00289 * I"
   ]
  },
  {
   "cell_type": "code",
   "execution_count": 43,
   "metadata": {
    "collapsed": false
   },
   "outputs": [
    {
     "data": {
      "text/plain": [
       "-0.00028900000000000003"
      ]
     },
     "execution_count": 43,
     "metadata": {},
     "output_type": "execute_result"
    }
   ],
   "source": [
    "sol0.B"
   ]
  },
  {
   "cell_type": "markdown",
   "metadata": {},
   "source": [
    "Continue the workflow to get lattice file for physics study."
   ]
  }
 ],
 "metadata": {
  "kernelspec": {
   "display_name": "Python 2",
   "language": "python",
   "name": "python2"
  },
  "language_info": {
   "codemirror_mode": {
    "name": "ipython",
    "version": 2
   },
   "file_extension": ".py",
   "mimetype": "text/x-python",
   "name": "python",
   "nbconvert_exporter": "python",
   "pygments_lexer": "ipython2",
   "version": "2.7.12"
  }
 },
 "nbformat": 4,
 "nbformat_minor": 2
}

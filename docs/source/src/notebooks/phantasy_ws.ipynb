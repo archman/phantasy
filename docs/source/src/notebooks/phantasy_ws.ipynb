{
 "cells": [
  {
   "cell_type": "markdown",
   "metadata": {
    "deletable": true,
    "editable": true
   },
   "source": [
    "# Wire Scanner"
   ]
  },
  {
   "cell_type": "markdown",
   "metadata": {
    "deletable": true,
    "editable": true
   },
   "source": [
    "This notebook demostrates how to use *phantasy* to model a real wire-scanner device, within which measured data come from real devices, or external data files.\n",
    "\n",
    "* Build wire scanner device from scratch with data from simulation, see *ws_device.ipynb*\n",
    "* Analysis with dumped object, see *ws_data.ipynb*"
   ]
  },
  {
   "cell_type": "markdown",
   "metadata": {
    "deletable": true,
    "editable": true
   },
   "source": [
    "### Build wires from external data files (non-json)"
   ]
  },
  {
   "cell_type": "code",
   "execution_count": 1,
   "metadata": {
    "collapsed": true,
    "deletable": true,
    "editable": true
   },
   "outputs": [],
   "source": [
    "from phantasy.apps import Wire, WireScannerData\n",
    "from phantasy import Line\n",
    "import numpy as np"
   ]
  },
  {
   "cell_type": "markdown",
   "metadata": {
    "deletable": true,
    "editable": true
   },
   "source": [
    "As we know that wire AB is D_wire, wire CD is V_wire and wire EF is H_wire, build new wires with data:\n",
    "\n",
    "Please note wire created by this way:\n",
    "- users should maintain properties like *line*, *direction*, or default values would be applied, which might be not correct for the general case.\n",
    "- *xstream* and *ystream* could be assigned with data from experiments."
   ]
  },
  {
   "cell_type": "code",
   "execution_count": 2,
   "metadata": {
    "collapsed": true,
    "deletable": true,
    "editable": true
   },
   "outputs": [],
   "source": [
    "# e.g.1\n",
    "#data = np.loadtxt('data/case2/data_cor_2.dat')\n",
    "#direction = (-45, 0.2, 120)\n",
    "#h0, v0 = 15, -10\n",
    "\n",
    "# e.g.2\n",
    "data = np.loadtxt('data/case1/datafiles/demo3.dat')\n",
    "direction = (225, 0.2, 120)\n",
    "h0, v0 = 15, 10"
   ]
  },
  {
   "cell_type": "code",
   "execution_count": 3,
   "metadata": {
    "collapsed": false,
    "deletable": true,
    "editable": true
   },
   "outputs": [],
   "source": [
    "hx, hy = data[:,2], data[:,3]\n",
    "vx, vy = data[:,0], data[:,1]\n",
    "dx, dy = data[:,4], data[:,5]"
   ]
  },
  {
   "cell_type": "code",
   "execution_count": 4,
   "metadata": {
    "collapsed": false,
    "deletable": true,
    "editable": true
   },
   "outputs": [],
   "source": [
    "h_wire = Wire('H', line=Line((0,0), (1,0)))\n",
    "# NOTE: define line property to indicate wire position\n",
    "h_wire.direction = direction\n",
    "h_wire.xstream = hx\n",
    "h_wire.ystream = hy\n",
    "h_wire.line = Line((0, h0), (1, h0))"
   ]
  },
  {
   "cell_type": "code",
   "execution_count": 5,
   "metadata": {
    "collapsed": false,
    "deletable": true,
    "editable": true
   },
   "outputs": [],
   "source": [
    "v_wire = Wire('V', line=Line((0,0), (0,1)))\n",
    "v_wire.direction = direction\n",
    "v_wire.xstream = vx\n",
    "v_wire.ystream = vy\n",
    "v_wire.line = Line((v0, 0), (v0, 1))"
   ]
  },
  {
   "cell_type": "code",
   "execution_count": 6,
   "metadata": {
    "collapsed": false,
    "deletable": true,
    "editable": true
   },
   "outputs": [],
   "source": [
    "d_wire = Wire('D', line=Line((0,1),(1,0)))\n",
    "d_wire.direction = direction\n",
    "d_wire.xstream = dx\n",
    "d_wire.ystream = dy"
   ]
  },
  {
   "cell_type": "code",
   "execution_count": 7,
   "metadata": {
    "collapsed": false,
    "deletable": true,
    "editable": true
   },
   "outputs": [],
   "source": [
    "wsd = WireScannerData()\n",
    "wsd.H_wire = h_wire\n",
    "wsd.V_wire = v_wire\n",
    "wsd.D_wire = d_wire"
   ]
  },
  {
   "cell_type": "code",
   "execution_count": 8,
   "metadata": {
    "collapsed": false,
    "deletable": true,
    "editable": true
   },
   "outputs": [],
   "source": [
    "res = wsd.process(fit_model='gaussian')"
   ]
  },
  {
   "cell_type": "code",
   "execution_count": 9,
   "metadata": {
    "collapsed": false,
    "deletable": true,
    "editable": true
   },
   "outputs": [
    {
     "data": {
      "text/plain": [
       "{u'mcov': array([[ 0.03880917,  0.03907031],\n",
       "        [ 0.03907031,  0.08826835]]),\n",
       " u'rho_xy': 0.66753974951634509,\n",
       " u'sigma_x': 0.19700043450844501,\n",
       " u'sigma_y': 0.29709989444892365,\n",
       " u'x0': 0.0014580854307748581,\n",
       " u'y0': 0.00070660723706694739}"
      ]
     },
     "execution_count": 9,
     "metadata": {},
     "output_type": "execute_result"
    }
   ],
   "source": [
    "res"
   ]
  },
  {
   "cell_type": "code",
   "execution_count": 10,
   "metadata": {
    "collapsed": true,
    "deletable": true,
    "editable": true
   },
   "outputs": [],
   "source": [
    "res = wsd.process()"
   ]
  },
  {
   "cell_type": "code",
   "execution_count": 11,
   "metadata": {
    "collapsed": false,
    "deletable": true,
    "editable": true
   },
   "outputs": [
    {
     "data": {
      "text/plain": [
       "{u'mcov': array([[ 0.0384353 ,  0.04963478],\n",
       "        [ 0.04963478,  0.08485516]]),\n",
       " u'rho_xy': 0.86912414218003975,\n",
       " u'sigma_x': 0.19604922052705728,\n",
       " u'sigma_y': 0.29129908794242454,\n",
       " u'x0': 0.00077439598398676424,\n",
       " u'y0': -0.00095803655582571423}"
      ]
     },
     "execution_count": 11,
     "metadata": {},
     "output_type": "execute_result"
    }
   ],
   "source": [
    "res"
   ]
  },
  {
   "cell_type": "code",
   "execution_count": 12,
   "metadata": {
    "collapsed": false,
    "deletable": true,
    "editable": true
   },
   "outputs": [
    {
     "name": "stdout",
     "output_type": "stream",
     "text": [
      "Analysis report:\n",
      "------------------------------\n",
      "(x_0, y_0) = (0.001, -0.001)\n",
      "sigma_x = 0.196\n",
      "sigma_y = 0.291\n",
      "(x,y) correlation = 0.869\n",
      "------------------------------\n"
     ]
    }
   ],
   "source": [
    "wsd.report()"
   ]
  },
  {
   "cell_type": "code",
   "execution_count": 13,
   "metadata": {
    "collapsed": false,
    "deletable": true,
    "editable": true
   },
   "outputs": [
    {
     "data": {
      "image/png": "[encoded data removed]",
      "text/plain": [
       "<matplotlib.figure.Figure at 0x7f01eceaa190>"
      ]
     },
     "metadata": {},
     "output_type": "display_data"
    }
   ],
   "source": [
    "x,y,z = wsd.restructure(mcov=res['mcov'], p0=(res['x0'],res['y0']), fac=2, zoom=10, ngrid=500, level=100)"
   ]
  },
  {
   "cell_type": "markdown",
   "metadata": {
    "deletable": true,
    "editable": true
   },
   "source": [
    "### Build wires from external data files (json)"
   ]
  },
  {
   "cell_type": "code",
   "execution_count": 14,
   "metadata": {
    "collapsed": false,
    "deletable": true,
    "editable": true
   },
   "outputs": [],
   "source": [
    "import json\n",
    "\n",
    "with open('ws-0001.json', 'rb') as fp:\n",
    "    data = json.load(fp)\n",
    "\n",
    "direction = (225, 0.2, 120)\n",
    "h0, v0 = 15, 10"
   ]
  },
  {
   "cell_type": "code",
   "execution_count": 15,
   "metadata": {
    "collapsed": false,
    "deletable": true,
    "editable": true
   },
   "outputs": [],
   "source": [
    "h_wire = Wire('H', line=Line((0,0), (1,0)))\n",
    "h_wire.direction = direction\n",
    "h_wire.xstream = data['EF']['x']\n",
    "h_wire.ystream = data['EF']['y']\n",
    "h_wire.line = Line((0, h0), (1, h0))"
   ]
  },
  {
   "cell_type": "code",
   "execution_count": 16,
   "metadata": {
    "collapsed": false,
    "deletable": true,
    "editable": true
   },
   "outputs": [],
   "source": [
    "v_wire = Wire('V', line=Line((0,0), (0,1)))\n",
    "v_wire.direction = direction\n",
    "v_wire.xstream = data['CD']['x']\n",
    "v_wire.ystream = data['CD']['y']\n",
    "v_wire.line = Line((v0, 0), (v0, 1))"
   ]
  },
  {
   "cell_type": "code",
   "execution_count": 17,
   "metadata": {
    "collapsed": true,
    "deletable": true,
    "editable": true
   },
   "outputs": [],
   "source": [
    "d_wire = Wire('D', line=Line((0,1), (1,0)))\n",
    "d_wire.direction = direction\n",
    "d_wire.xstream = data['AB']['x']\n",
    "d_wire.ystream = data['AB']['y']"
   ]
  },
  {
   "cell_type": "code",
   "execution_count": 18,
   "metadata": {
    "collapsed": false,
    "deletable": true,
    "editable": true
   },
   "outputs": [],
   "source": [
    "wsd = WireScannerData()\n",
    "wsd.H_wire = h_wire\n",
    "wsd.V_wire = v_wire\n",
    "wsd.D_wire = d_wire"
   ]
  },
  {
   "cell_type": "code",
   "execution_count": 19,
   "metadata": {
    "collapsed": false,
    "deletable": true,
    "editable": true
   },
   "outputs": [],
   "source": [
    "res = wsd.process()"
   ]
  },
  {
   "cell_type": "code",
   "execution_count": 24,
   "metadata": {
    "collapsed": false,
    "deletable": true,
    "editable": true
   },
   "outputs": [
    {
     "name": "stdout",
     "output_type": "stream",
     "text": [
      "Analysis report:\n",
      "------------------------------\n",
      "(x_0, y_0) = (0.001, -0.001)\n",
      "sigma_x = 0.196\n",
      "sigma_y = 0.291\n",
      "(x,y) correlation = 1.000\n",
      "------------------------------\n"
     ]
    }
   ],
   "source": [
    "wsd.report()"
   ]
  },
  {
   "cell_type": "code",
   "execution_count": 23,
   "metadata": {
    "collapsed": false,
    "deletable": true,
    "editable": true
   },
   "outputs": [
    {
     "data": {
      "image/png": "[encoded data removed]",
      "text/plain": [
       "<matplotlib.figure.Figure at 0x7f01b1a88e10>"
      ]
     },
     "metadata": {},
     "output_type": "display_data"
    }
   ],
   "source": [
    "x,y,z = wsd.restructure(mcov=res['mcov'], p0=(res['x0'],res['y0']), fac=2, zoom=10, ngrid=500, level=100)"
   ]
  },
  {
   "cell_type": "code",
   "execution_count": null,
   "metadata": {
    "collapsed": true,
    "deletable": true,
    "editable": true
   },
   "outputs": [],
   "source": []
  }
 ],
 "metadata": {
  "kernelspec": {
   "display_name": "Python 2",
   "language": "python",
   "name": "python2"
  },
  "language_info": {
   "codemirror_mode": {
    "name": "ipython",
    "version": 2
   },
   "file_extension": ".py",
   "mimetype": "text/x-python",
   "name": "python",
   "nbconvert_exporter": "python",
   "pygments_lexer": "ipython2",
   "version": "2.7.12"
  }
 },
 "nbformat": 4,
 "nbformat_minor": 2
}

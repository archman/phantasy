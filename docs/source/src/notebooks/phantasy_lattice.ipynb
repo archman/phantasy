{
 "cells": [
  {
   "cell_type": "markdown",
   "metadata": {},
   "source": [
    "## Lattice\n",
    "\n",
    "PS: Since ``phantasy`` is still under development, this notebook might be updated frequently."
   ]
  },
  {
   "cell_type": "markdown",
   "metadata": {},
   "source": [
    "### Import modules/packages"
   ]
  },
  {
   "cell_type": "code",
   "execution_count": 1,
   "metadata": {
    "collapsed": true
   },
   "outputs": [],
   "source": [
    "import phantasy\n",
    "import matplotlib.pyplot as plt\n",
    "%matplotlib inline"
   ]
  },
  {
   "cell_type": "markdown",
   "metadata": {},
   "source": [
    "### Model Machine"
   ]
  },
  {
   "cell_type": "code",
   "execution_count": 2,
   "metadata": {
    "collapsed": false
   },
   "outputs": [
    {
     "name": "stderr",
     "output_type": "stream",
     "text": [
      "WARNING: 2017-05-31 14:16:58,149: phantasy.library.operation.core: Load new machine: FRIB_FLAME segment: LINAC\n"
     ]
    }
   ],
   "source": [
    "mp = phantasy.MachinePortal(machine='FRIB_FLAME', segment='LINAC')"
   ]
  },
  {
   "cell_type": "markdown",
   "metadata": {},
   "source": [
    "### Inspect mp"
   ]
  },
  {
   "cell_type": "code",
   "execution_count": 3,
   "metadata": {
    "collapsed": false
   },
   "outputs": [
    {
     "name": "stdout",
     "output_type": "stream",
     "text": [
      "machine config path  : /home/tong/FRIB/projects/machines/FRIB_FLAME/phyutil.ini\n",
      "----------------------\n",
      "machine name         : FRIB_FLAME\n",
      "----------------------\n",
      "All valid lattices   : LINAC LS1\n",
      "----------------------\n",
      "Section - COMMON\n",
      "----------------------\n",
      "root_data_dir        : ~/phantasy_data\n",
      "segments             : LINAC LS1\n",
      "default_segment      : LINAC\n",
      "----------------------\n",
      "Section - LINAC\n",
      "----------------------\n",
      "controls_protocol    : EPICS\n",
      "s_end                : 158.094\n",
      "config_file          : phyutil.cfg\n",
      "impact_map           : ls1_fs1.map\n",
      "s_begin              : 0.0\n",
      "settings_file        : baseline_settings.json\n",
      "model_data_dir       : model_data\n",
      "cfs_tag              : FRIB.LINAC\n",
      "cfs_property_names   : elem*\n",
      "model                : flame\n",
      "layout_file          : baseline_layout.csv\n",
      "ss_url               : http://localhost:4810\n",
      "loop                 : 0\n",
      "cfs_url              : https://localhost:8181/ChannelFinder\n",
      "----------------------\n",
      "Section - LS1\n",
      "----------------------\n",
      "controls_protocol    : EPICS\n",
      "s_end                : 80.000\n",
      "config_file          : phyutil.cfg\n",
      "s_begin              : 0.0\n",
      "settings_file        : baseline_settings.json\n",
      "cfs_tag              : phyutil.sys.LS1\n",
      "cfs_property_names   : elem*\n",
      "model                : flame\n",
      "layout_file          : baseline_layout.csv\n",
      "ss_url               : None\n",
      "loop                 : 0\n",
      "cfs_url              : https://localhost:8181/ChannelFinder\n"
     ]
    },
    {
     "data": {
      "text/plain": [
       "{u'config': {'COMMON': {'default_segment': 'LINAC',\n",
       "   'root_data_dir': '~/phantasy_data',\n",
       "   'segments': 'LINAC LS1'},\n",
       "  'LINAC': {'cfs_property_names': 'elem*',\n",
       "   'cfs_tag': 'FRIB.LINAC',\n",
       "   'cfs_url': 'https://localhost:8181/ChannelFinder',\n",
       "   'config_file': 'phyutil.cfg',\n",
       "   'controls_protocol': 'EPICS',\n",
       "   'impact_map': 'ls1_fs1.map',\n",
       "   'layout_file': 'baseline_layout.csv',\n",
       "   'loop': '0',\n",
       "   'model': 'flame',\n",
       "   'model_data_dir': 'model_data',\n",
       "   's_begin': '0.0',\n",
       "   's_end': '158.094',\n",
       "   'settings_file': 'baseline_settings.json',\n",
       "   'ss_url': 'http://localhost:4810'},\n",
       "  'LS1': {'cfs_property_names': 'elem*',\n",
       "   'cfs_tag': 'phyutil.sys.LS1',\n",
       "   'cfs_url': 'https://localhost:8181/ChannelFinder',\n",
       "   'config_file': 'phyutil.cfg',\n",
       "   'controls_protocol': 'EPICS',\n",
       "   'layout_file': 'baseline_layout.csv',\n",
       "   'loop': '0',\n",
       "   'model': 'flame',\n",
       "   's_begin': '0.0',\n",
       "   's_end': '80.000',\n",
       "   'settings_file': 'baseline_settings.json',\n",
       "   'ss_url': 'None'}},\n",
       " u'lattices': ['LINAC', 'LS1'],\n",
       " u'machine': u'FRIB_FLAME',\n",
       " u'path': u'/home/tong/FRIB/projects/machines/FRIB_FLAME/phyutil.ini'}"
      ]
     },
     "execution_count": 3,
     "metadata": {},
     "output_type": "execute_result"
    }
   ],
   "source": [
    "mp.inspect_mconf()"
   ]
  },
  {
   "cell_type": "markdown",
   "metadata": {},
   "source": [
    "### Load another lattice (segment)"
   ]
  },
  {
   "cell_type": "code",
   "execution_count": 4,
   "metadata": {
    "collapsed": false
   },
   "outputs": [
    {
     "name": "stderr",
     "output_type": "stream",
     "text": [
      "WARNING: 2017-05-31 14:16:59,526: phantasy.library.operation.core: Load new machine: FRIB_FLAME segment: LS1\n"
     ]
    },
    {
     "data": {
      "text/plain": [
       "{u'lat0name': 'LS1', u'lattices': {'LS1': #name of segment: LS1\n",
       "  #index         name         family     position   length    \n",
       "  0   LS1_CA01:CAV1_D1127 CAV  0.2071     0.2400    \n",
       "  1   LS1_CA01:BPM_D1129  BPM  0.5113     0.0000    \n",
       "  2   LS1_CA01:SOL1_D1131 SOL  0.6433     0.2000    \n",
       "  3   LS1_CA01:DCV_D1131  VCOR 0.7433     0.0000    \n",
       "  4   LS1_CA01:DCH_D1131  HCOR 0.7433     0.0000    \n",
       "  5   LS1_CA01:CAV2_D1135 CAV  0.9867     0.2400    \n",
       "  6   LS1_CA01:CAV3_D1143 CAV  1.7664     0.2400    \n",
       "  7   LS1_CA01:BPM_D1144  BPM  2.0706     0.0000    \n",
       "  8   LS1_CA01:SOL2_D1147 SOL  2.2026     0.2000    \n",
       "  9   LS1_CA01:DCH_D1147  HCOR 2.3026     0.0000    \n",
       "  10  LS1_CA01:DCV_D1147  VCOR 2.3026     0.0000    \n",
       "  11  LS1_CA01:CAV4_D1150 CAV  2.5460     0.2400    \n",
       "  12  LS1_WA01:BPM_D1155  BPM  3.1091     0.0000    \n",
       "  13  LS1_CA02:CAV1_D1161 CAV  3.5802     0.2400    \n",
       "  14  LS1_CA02:BPM_D1163  BPM  3.8844     0.0000    \n",
       "  15  LS1_CA02:SOL1_D1165 SOL  4.0164     0.2000    \n",
       "  16  LS1_CA02:DCV_D1165  VCOR 4.1164     0.0000    \n",
       "  17  LS1_CA02:DCH_D1165  HCOR 4.1164     0.0000    \n",
       "  18  LS1_CA02:CAV2_D1169 CAV  4.3598     0.2400    \n",
       "  19  LS1_CA02:CAV3_D1176 CAV  5.1395     0.2400    \n",
       "  20  LS1_CA02:BPM_D1178  BPM  5.4437     0.0000    \n",
       "  21  LS1_CA02:SOL2_D1180 SOL  5.5757     0.2000    \n",
       "  22  LS1_CA02:DCV_D1180  VCOR 5.6757     0.0000    \n",
       "  23  LS1_CA02:DCH_D1180  HCOR 5.6757     0.0000    \n",
       "  24  LS1_CA02:CAV4_D1184 CAV  5.9191     0.2400    \n",
       "  25  LS1_WA02:BPM_D1189  BPM  6.4822     0.0000    \n",
       "  26  LS1_CA03:CAV1_D1194 CAV  6.9533     0.2400    \n",
       "  27  LS1_CA03:BPM_D1196  BPM  7.2575     0.0000    \n",
       "  28  LS1_CA03:SOL1_D1199 SOL  7.3895     0.2000    \n",
       "  29  LS1_CA03:DCV_D1199  VCOR 7.4895     0.0000    \n",
       "  30  LS1_CA03:DCH_D1199  HCOR 7.4895     0.0000    \n",
       "  31  LS1_CA03:CAV2_D1202 CAV  7.7329     0.2400    \n",
       "  32  LS1_CA03:CAV3_D1210 CAV  8.5126     0.2400    \n",
       "  33  LS1_CA03:BPM_D1212  BPM  8.8168     0.0000    \n",
       "  34  LS1_CA03:SOL2_D1214 SOL  8.9488     0.2000    \n",
       "  35  LS1_CA03:DCH_D1214  HCOR 9.0488     0.0000    \n",
       "  36  LS1_CA03:DCV_D1214  VCOR 9.0488     0.0000    \n",
       "  37  LS1_CA03:CAV4_D1218 CAV  9.2922     0.2400    \n",
       "  38  LS1_WA03:BPM_D1222  BPM  9.8553     0.0000    \n",
       "  39  LS1_WA03:PM_D1223   PM   9.9293     0.0000    \n",
       "  40  LS1_CB01:CAV1_D1229 CAV  10.3666    0.3000    \n",
       "  41  LS1_CB01:BPM_D1231  BPM  10.7622    0.0000    \n",
       "  42  LS1_CB01:SOL1_D1235 SOL  10.8942    0.5000    \n",
       "  43  LS1_CB01:DCV_D1235  VCOR 11.1442    0.0000    \n",
       "  44  LS1_CB01:DCH_D1235  HCOR 11.1442    0.0000    \n",
       "  45  LS1_CB01:CAV2_D1241 CAV  11.5689    0.3000    \n",
       "  46  LS1_CB01:CAV3_D1245 CAV  11.9666    0.3000    \n",
       "  47  LS1_CB01:CAV4_D1249 CAV  12.3643    0.3000    \n",
       "  48  LS1_CB01:BPM_D1251  BPM  12.7599    0.0000    \n",
       "  49  LS1_CB01:SOL2_D1255 SOL  12.8919    0.5000    \n",
       "  50  LS1_CB01:DCV_D1255  VCOR 13.1419    0.0000    \n",
       "  51  LS1_CB01:DCH_D1255  HCOR 13.1419    0.0000    \n",
       "  52  LS1_CB01:CAV5_D1261 CAV  13.5667    0.3000    \n",
       "  53  LS1_CB01:CAV6_D1265 CAV  13.9644    0.3000    \n",
       "  54  LS1_CB01:CAV7_D1269 CAV  14.3620    0.3000    \n",
       "  55  LS1_CB01:BPM_D1271  BPM  14.7576    0.0000    \n",
       "  56  LS1_CB01:SOL3_D1275 SOL  14.8897    0.5000    \n",
       "  57  LS1_CB01:DCH_D1275  HCOR 15.1397    0.0000    \n",
       "  58  LS1_CB01:DCV_D1275  VCOR 15.1397    0.0000    \n",
       "  59  LS1_CB01:CAV8_D1281 CAV  15.5644    0.3000    \n",
       "  60  LS1_WB01:BPM_D1286  BPM  16.2277    0.0000    \n",
       "  61  LS1_WB01:PM_D1287   PM   16.3017    0.0000    \n",
       "  62  LS1_CB02:CAV1_D1293 CAV  16.7390    0.3000    \n",
       "  63  LS1_CB02:BPM_D1295  BPM  17.1346    0.0000    \n",
       "  64  LS1_CB02:SOL1_D1299 SOL  17.2666    0.5000    \n",
       "  65  LS1_CB02:DCV_D1299  VCOR 17.5166    0.0000    \n",
       "  66  LS1_CB02:DCH_D1299  HCOR 17.5166    0.0000    \n",
       "  67  LS1_CB02:CAV2_D1305 CAV  17.9414    0.3000    \n",
       "  68  LS1_CB02:CAV3_D1309 CAV  18.3391    0.3000    \n",
       "  69  LS1_CB02:CAV4_D1313 CAV  18.7367    0.3000    \n",
       "  70  LS1_CB02:BPM_D1315  BPM  19.1323    0.0000    \n",
       "  71  LS1_CB02:SOL2_D1319 SOL  19.2644    0.5000    \n",
       "  72  LS1_CB02:DCH_D1319  HCOR 19.5144    0.0000    \n",
       "  73  LS1_CB02:DCV_D1319  VCOR 19.5144    0.0000    \n",
       "  74  LS1_CB02:CAV5_D1325 CAV  19.9391    0.3000    \n",
       "  75  LS1_CB02:CAV6_D1329 CAV  20.3368    0.3000    \n",
       "  76  LS1_CB02:CAV7_D1333 CAV  20.7345    0.3000    \n",
       "  77  LS1_CB02:BPM_D1335  BPM  21.1301    0.0000    \n",
       "  78  LS1_CB02:SOL3_D1339 SOL  21.2621    0.5000    \n",
       "  79  LS1_CB02:DCV_D1339  VCOR 21.5121    0.0000    \n",
       "  80  LS1_CB02:DCH_D1339  HCOR 21.5121    0.0000    \n",
       "  81  LS1_CB02:CAV8_D1345 CAV  21.9368    0.3000    \n",
       "  82  LS1_WB02:BPM_D1350  BPM  22.6001    0.0000    \n",
       "  83  LS1_WB02:PM_D1350   PM   22.6741    0.0000    \n",
       "  84  LS1_CB03:CAV1_D1356 CAV  23.1114    0.3000    \n",
       "  85  LS1_CB03:BPM_D1359  BPM  23.5070    0.0000    \n",
       "  86  LS1_CB03:SOL1_D1363 SOL  23.6391    0.5000    \n",
       "  87  LS1_CB03:DCH_D1363  HCOR 23.8891    0.0000    \n",
       "  88  LS1_CB03:DCV_D1363  VCOR 23.8891    0.0000    \n",
       "  89  LS1_CB03:CAV2_D1368 CAV  24.3138    0.3000    \n",
       "  90  LS1_CB03:CAV3_D1372 CAV  24.7115    0.3000    \n",
       "  91  LS1_CB03:CAV4_D1376 CAV  25.1092    0.3000    \n",
       "  92  LS1_CB03:BPM_D1379  BPM  25.5048    0.0000    \n",
       "  93  LS1_CB03:SOL2_D1383 SOL  25.6368    0.5000    \n",
       "  94  LS1_CB03:DCH_D1383  HCOR 25.8868    0.0000    \n",
       "  95  LS1_CB03:DCV_D1383  VCOR 25.8868    0.0000    \n",
       "  96  LS1_CB03:CAV5_D1388 CAV  26.3115    0.3000    \n",
       "  97  LS1_CB03:CAV6_D1392 CAV  26.7092    0.3000    \n",
       "  98  LS1_CB03:CAV7_D1396 CAV  27.1069    0.3000    \n",
       "  99  LS1_CB03:BPM_D1399  BPM  27.5025    0.0000    \n",
       "  100 LS1_CB03:SOL3_D1403 SOL  27.6345    0.5000    \n",
       "  101 LS1_CB03:DCV_D1403  VCOR 27.8845    0.0000    \n",
       "  102 LS1_CB03:DCH_D1403  HCOR 27.8845    0.0000    \n",
       "  103 LS1_CB03:CAV8_D1408 CAV  28.3092    0.3000    \n",
       "  104 LS1_WB03:BPM_D1413  BPM  28.9726    0.0000    \n",
       "  105 LS1_WB03:PM_D1414   PM   29.0466    0.0000    \n",
       "  106 LS1_CB04:CAV1_D1420 CAV  29.4839    0.3000    \n",
       "  107 LS1_CB04:BPM_D1423  BPM  29.8795    0.0000    \n",
       "  108 LS1_CB04:SOL1_D1426 SOL  30.0115    0.5000    \n",
       "  109 LS1_CB04:DCH_D1426  HCOR 30.2615    0.0000    \n",
       "  110 LS1_CB04:DCV_D1426  VCOR 30.2615    0.0000    \n",
       "  111 LS1_CB04:CAV2_D1432 CAV  30.6862    0.3000    \n",
       "  112 LS1_CB04:CAV3_D1436 CAV  31.0839    0.3000    \n",
       "  113 LS1_CB04:CAV4_D1440 CAV  31.4816    0.3000    \n",
       "  114 LS1_CB04:BPM_D1442  BPM  31.8772    0.0000    \n",
       "  115 LS1_CB04:SOL2_D1446 SOL  32.0092    0.5000    \n",
       "  116 LS1_CB04:DCH_D1446  HCOR 32.2592    0.0000    \n",
       "  117 LS1_CB04:DCV_D1446  VCOR 32.2592    0.0000    \n",
       "  118 LS1_CB04:CAV5_D1452 CAV  32.6839    0.3000    \n",
       "  119 LS1_CB04:CAV6_D1456 CAV  33.0816    0.3000    \n",
       "  120 LS1_CB04:CAV7_D1460 CAV  33.4793    0.3000    \n",
       "  121 LS1_CB04:BPM_D1462  BPM  33.8749    0.0000    \n",
       "  122 LS1_CB04:SOL3_D1466 SOL  34.0069    0.5000    \n",
       "  123 LS1_CB04:DCV_D1466  VCOR 34.2569    0.0000    \n",
       "  124 LS1_CB04:DCH_D1466  HCOR 34.2569    0.0000    \n",
       "  125 LS1_CB04:CAV8_D1472 CAV  34.6817    0.3000    \n",
       "  126 LS1_WB04:BPM_D1477  BPM  35.3450    0.0000    \n",
       "  127 LS1_CB05:CAV1_D1484 CAV  35.8563    0.3000    \n",
       "  128 LS1_CB05:BPM_D1486  BPM  36.2519    0.0000    \n",
       "  129 LS1_CB05:SOL1_D1490 SOL  36.3839    0.5000    \n",
       "  130 LS1_CB05:DCV_D1490  VCOR 36.6339    0.0000    \n",
       "  131 LS1_CB05:DCH_D1490  HCOR 36.6339    0.0000    \n",
       "  132 LS1_CB05:CAV2_D1496 CAV  37.0586    0.3000    \n",
       "  133 LS1_CB05:CAV3_D1500 CAV  37.4563    0.3000    \n",
       "  134 LS1_CB05:CAV4_D1504 CAV  37.8540    0.3000    \n",
       "  135 LS1_CB05:BPM_D1506  BPM  38.2496    0.0000    \n",
       "  136 LS1_CB05:SOL2_D1510 SOL  38.3816    0.5000    \n",
       "  137 LS1_CB05:DCH_D1510  HCOR 38.6316    0.0000    \n",
       "  138 LS1_CB05:DCV_D1510  VCOR 38.6316    0.0000    \n",
       "  139 LS1_CB05:CAV5_D1516 CAV  39.0564    0.3000    \n",
       "  140 LS1_CB05:CAV6_D1520 CAV  39.4541    0.3000    \n",
       "  141 LS1_CB05:CAV7_D1524 CAV  39.8517    0.3000    \n",
       "  142 LS1_CB05:BPM_D1526  BPM  40.2473    0.0000    \n",
       "  143 LS1_CB05:SOL3_D1530 SOL  40.3794    0.5000    \n",
       "  144 LS1_CB05:DCH_D1530  HCOR 40.6294    0.0000    \n",
       "  145 LS1_CB05:DCV_D1530  VCOR 40.6294    0.0000    \n",
       "  146 LS1_CB05:CAV8_D1536 CAV  41.0541    0.3000    \n",
       "  147 LS1_WB05:BPM_D1541  BPM  41.7174    0.0000    \n",
       "  148 LS1_CB06:CAV1_D1548 CAV  42.2287    0.3000    \n",
       "  149 LS1_CB06:BPM_D1550  BPM  42.6243    0.0000    \n",
       "  150 LS1_CB06:SOL1_D1554 SOL  42.7563    0.5000    \n",
       "  151 LS1_CB06:DCV_D1554  VCOR 43.0063    0.0000    \n",
       "  152 LS1_CB06:DCH_D1554  HCOR 43.0063    0.0000    \n",
       "  153 LS1_CB06:CAV2_D1560 CAV  43.4311    0.3000    \n",
       "  154 LS1_CB06:CAV3_D1564 CAV  43.8288    0.3000    \n",
       "  155 LS1_CB06:CAV4_D1567 CAV  44.2264    0.3000    \n",
       "  156 LS1_CB06:BPM_D1570  BPM  44.6220    0.0000    \n",
       "  157 LS1_CB06:SOL2_D1574 SOL  44.7541    0.5000    \n",
       "  158 LS1_CB06:DCH_D1574  HCOR 45.0041    0.0000    \n",
       "  159 LS1_CB06:DCV_D1574  VCOR 45.0041    0.0000    \n",
       "  160 LS1_CB06:CAV5_D1580 CAV  45.4288    0.3000    \n",
       "  161 LS1_CB06:CAV6_D1583 CAV  45.8265    0.3000    \n",
       "  162 LS1_CB06:CAV7_D1587 CAV  46.2242    0.3000    \n",
       "  163 LS1_CB06:BPM_D1590  BPM  46.6198    0.0000    \n",
       "  164 LS1_CB06:SOL3_D1594 SOL  46.7518    0.5000    \n",
       "  165 LS1_CB06:DCH_D1594  HCOR 47.0018    0.0000    \n",
       "  166 LS1_CB06:DCV_D1594  VCOR 47.0018    0.0000    \n",
       "  167 LS1_CB06:CAV8_D1599 CAV  47.4265    0.3000    \n",
       "  168 LS1_WB06:BPM_D1605  BPM  48.0898    0.0000    \n",
       "  169 LS1_CB07:CAV1_D1611 CAV  48.6011    0.3000    \n",
       "  170 LS1_CB07:BPM_D1614  BPM  48.9967    0.0000    \n",
       "  171 LS1_CB07:SOL1_D1618 SOL  49.1288    0.5000    \n",
       "  172 LS1_CB07:DCH_D1618  HCOR 49.3788    0.0000    \n",
       "  173 LS1_CB07:DCV_D1618  VCOR 49.3788    0.0000    \n",
       "  174 LS1_CB07:CAV2_D1623 CAV  49.8035    0.3000    \n",
       "  175 LS1_CB07:CAV3_D1627 CAV  50.2012    0.3000    \n",
       "  176 LS1_CB07:CAV4_D1631 CAV  50.5989    0.3000    \n",
       "  177 LS1_CB07:BPM_D1634  BPM  50.9945    0.0000    \n",
       "  178 LS1_CB07:SOL2_D1637 SOL  51.1265    0.5000    \n",
       "  179 LS1_CB07:DCH_D1637  HCOR 51.3765    0.0000    \n",
       "  180 LS1_CB07:DCV_D1637  VCOR 51.3765    0.0000    \n",
       "  181 LS1_CB07:CAV5_D1643 CAV  51.8012    0.3000    \n",
       "  182 LS1_CB07:CAV6_D1647 CAV  52.1989    0.3000    \n",
       "  183 LS1_CB07:CAV7_D1651 CAV  52.5966    0.3000    \n",
       "  184 LS1_CB07:BPM_D1654  BPM  52.9922    0.0000    \n",
       "  185 LS1_CB07:SOL3_D1657 SOL  53.1242    0.5000    \n",
       "  186 LS1_CB07:DCH_D1657  HCOR 53.3742    0.0000    \n",
       "  187 LS1_CB07:DCV_D1657  VCOR 53.3742    0.0000    \n",
       "  188 LS1_CB07:CAV8_D1663 CAV  53.7989    0.3000    \n",
       "  189 LS1_WB07:BPM_D1668  BPM  54.4623    0.0000    \n",
       "  190 LS1_CB08:CAV1_D1675 CAV  54.9736    0.3000    \n",
       "  191 LS1_CB08:BPM_D1677  BPM  55.3692    0.0000    \n",
       "  192 LS1_CB08:SOL1_D1681 SOL  55.5012    0.5000    \n",
       "  193 LS1_CB08:DCH_D1681  HCOR 55.7512    0.0000    \n",
       "  194 LS1_CB08:DCV_D1681  VCOR 55.7512    0.0000    \n",
       "  195 LS1_CB08:CAV2_D1687 CAV  56.1759    0.3000    \n",
       "  196 LS1_CB08:CAV3_D1691 CAV  56.5736    0.3000    \n",
       "  197 LS1_CB08:CAV4_D1695 CAV  56.9713    0.3000    \n",
       "  198 LS1_CB08:BPM_D1697  BPM  57.3669    0.0000    \n",
       "  199 LS1_CB08:SOL2_D1701 SOL  57.4989    0.5000    \n",
       "  200 LS1_CB08:DCV_D1701  VCOR 57.7489    0.0000    \n",
       "  201 LS1_CB08:DCH_D1701  HCOR 57.7489    0.0000    \n",
       "  202 LS1_CB08:CAV5_D1707 CAV  58.1736    0.3000    \n",
       "  203 LS1_CB08:CAV6_D1711 CAV  58.5713    0.3000    \n",
       "  204 LS1_CB08:CAV7_D1715 CAV  58.9690    0.3000    \n",
       "  205 LS1_CB08:BPM_D1717  BPM  59.3646    0.0000    \n",
       "  206 LS1_CB08:SOL3_D1721 SOL  59.4966    0.5000    \n",
       "  207 LS1_CB08:DCH_D1721  HCOR 59.7466    0.0000    \n",
       "  208 LS1_CB08:DCV_D1721  VCOR 59.7466    0.0000    \n",
       "  209 LS1_CB08:CAV8_D1727 CAV  60.1714    0.3000    \n",
       "  210 LS1_WB08:BPM_D1732  BPM  60.8347    0.0000    \n",
       "  211 LS1_CB09:CAV1_D1739 CAV  61.3460    0.3000    \n",
       "  212 LS1_CB09:BPM_D1741  BPM  61.7416    0.0000    \n",
       "  213 LS1_CB09:SOL1_D1745 SOL  61.8736    0.5000    \n",
       "  214 LS1_CB09:DCV_D1745  VCOR 62.1236    0.0000    \n",
       "  215 LS1_CB09:DCH_D1745  HCOR 62.1236    0.0000    \n",
       "  216 LS1_CB09:CAV2_D1751 CAV  62.5483    0.3000    \n",
       "  217 LS1_CB09:CAV3_D1755 CAV  62.9460    0.3000    \n",
       "  218 LS1_CB09:CAV4_D1759 CAV  63.3437    0.3000    \n",
       "  219 LS1_CB09:BPM_D1761  BPM  63.7393    0.0000    \n",
       "  220 LS1_CB09:SOL2_D1765 SOL  63.8713    0.5000    \n",
       "  221 LS1_CB09:DCH_D1765  HCOR 64.1213    0.0000    \n",
       "  222 LS1_CB09:DCV_D1765  VCOR 64.1213    0.0000    \n",
       "  223 LS1_CB09:CAV5_D1771 CAV  64.5461    0.3000    \n",
       "  224 LS1_CB09:CAV6_D1775 CAV  64.9438    0.3000    \n",
       "  225 LS1_CB09:CAV7_D1779 CAV  65.3414    0.3000    \n",
       "  226 LS1_CB09:BPM_D1781  BPM  65.7370    0.0000    \n",
       "  227 LS1_CB09:SOL3_D1785 SOL  65.8691    0.5000    \n",
       "  228 LS1_CB09:DCV_D1785  VCOR 66.1191    0.0000    \n",
       "  229 LS1_CB09:DCH_D1785  HCOR 66.1191    0.0000    \n",
       "  230 LS1_CB09:CAV8_D1791 CAV  66.5438    0.3000    \n",
       "  231 LS1_WB09:BPM_D1796  BPM  67.2071    0.0000    \n",
       "  232 LS1_CB10:CAV1_D1802 CAV  67.7184    0.3000    \n",
       "  233 LS1_CB10:BPM_D1805  BPM  68.1140    0.0000    \n",
       "  234 LS1_CB10:SOL1_D1809 SOL  68.2460    0.5000    \n",
       "  235 LS1_CB10:DCH_D1809  HCOR 68.4960    0.0000    \n",
       "  236 LS1_CB10:DCV_D1809  VCOR 68.4960    0.0000    \n",
       "  237 LS1_CB10:CAV2_D1814 CAV  68.9208    0.3000    \n",
       "  238 LS1_CB10:CAV3_D1818 CAV  69.3185    0.3000    \n",
       "  239 LS1_CB10:CAV4_D1822 CAV  69.7161    0.3000    \n",
       "  240 LS1_CB10:BPM_D1825  BPM  70.1117    0.0000    \n",
       "  241 LS1_CB10:SOL2_D1829 SOL  70.2438    0.5000    \n",
       "  242 LS1_CB10:DCH_D1829  HCOR 70.4938    0.0000    \n",
       "  243 LS1_CB10:DCV_D1829  VCOR 70.4938    0.0000    \n",
       "  244 LS1_CB10:CAV5_D1834 CAV  70.9185    0.3000    \n",
       "  245 LS1_CB10:CAV6_D1838 CAV  71.3162    0.3000    \n",
       "  246 LS1_CB10:CAV7_D1842 CAV  71.7139    0.3000    \n",
       "  247 LS1_CB10:BPM_D1845  BPM  72.1095    0.0000    \n",
       "  248 LS1_CB10:SOL3_D1849 SOL  72.2415    0.5000    \n",
       "  249 LS1_CB10:DCV_D1849  VCOR 72.4915    0.0000    \n",
       "  250 LS1_CB10:DCH_D1849  HCOR 72.4915    0.0000    \n",
       "  251 LS1_CB10:CAV8_D1854 CAV  72.9162    0.3000    \n",
       "  252 LS1_WB10:BPM_D1860  BPM  73.5795    0.0000    \n",
       "  253 LS1_CB11:CAV1_D1866 CAV  74.0908    0.3000    \n",
       "  254 LS1_CB11:BPM_D1869  BPM  74.4864    0.0000    \n",
       "  255 LS1_CB11:SOL1_D1872 SOL  74.6185    0.5000    \n",
       "  256 LS1_CB11:DCH_D1872  HCOR 74.8685    0.0000    \n",
       "  257 LS1_CB11:DCV_D1872  VCOR 74.8685    0.0000    \n",
       "  258 LS1_CB11:CAV2_D1878 CAV  75.2932    0.3000    \n",
       "  259 LS1_CB11:CAV3_D1882 CAV  75.6909    0.3000    \n",
       "  260 LS1_CB11:CAV4_D1886 CAV  76.0886    0.3000    \n",
       "  261 LS1_CB11:BPM_D1889  BPM  76.4842    0.0000    \n",
       "  262 LS1_CB11:SOL2_D1892 SOL  76.6162    0.5000    \n",
       "  263 LS1_CB11:DCH_D1892  HCOR 76.8662    0.0000    \n",
       "  264 LS1_CB11:DCV_D1892  VCOR 76.8662    0.0000    \n",
       "  265 LS1_CB11:CAV5_D1898 CAV  77.2909    0.3000    \n",
       "  266 LS1_CB11:CAV6_D1902 CAV  77.6886    0.3000    \n",
       "  267 LS1_CB11:CAV7_D1906 CAV  78.0863    0.3000    \n",
       "  268 LS1_CB11:BPM_D1909  BPM  78.4819    0.0000    \n",
       "  269 LS1_CB11:SOL3_D1912 SOL  78.6139    0.5000    \n",
       "  270 LS1_CB11:DCV_D1912  VCOR 78.8639    0.0000    \n",
       "  271 LS1_CB11:DCH_D1912  HCOR 78.8639    0.0000    \n",
       "  272 LS1_CB11:CAV8_D1918 CAV  79.2886    0.3000    \n",
       "  273 LS1_WB11:BPM_D1923  BPM  79.9520    0.0000    \n",
       "  274 LS1_BTS:DCH_D1937   HCOR 81.3660    0.0000    \n",
       "  275 LS1_BTS:DCV_D1937   VCOR 81.3660    0.0000    \n",
       "  276 LS1_BTS:QH_D1942    QUAD 81.7160    0.2500    \n",
       "  277 LS1_BTS:QV_D1950    QUAD 82.4660    0.2500    \n",
       "  278 LS1_BTS:DCH_D1964   HCOR 84.0140    0.0000    \n",
       "  279 LS1_BTS:DCV_D1964   VCOR 84.0140    0.0000    \n",
       "  280 LS1_BTS:BPM_D1966   BPM  84.1830    0.1370    \n",
       "  281 LS1_BTS:QH_D1969    QUAD 84.3640    0.2500    \n",
       "  282 LS1_BTS:QV_D1976    QUAD 85.1140    0.2500    \n",
       "  283 LS1_BTS:BPM_D1980   BPM  85.6000    0.0000    \n",
       "  284 LS1_BTS:DCV_D1997   VCOR 87.3490    0.0000    \n",
       "  285 LS1_BTS:DCH_D1997   HCOR 87.3490    0.0000    \n",
       "  286 LS1_BTS:QH_D2002    QUAD 87.6990    0.2500    \n",
       "  287 LS1_BTS:QV_D2013    QUAD 88.8352    0.2500    \n",
       "  288 LS1_BTS:DCV_D2024   VCOR 90.0552    0.0000    \n",
       "  289 LS1_BTS:DCH_D2024   HCOR 90.0552    0.0000    \n",
       "  290 LS1_BTS:BPM_D2027   BPM  90.2242    0.1370    \n",
       "  291 LS1_BTS:QH_D2029    QUAD 90.4052    0.2500    \n",
       "  292 LS1_BTS:QV_D2042    QUAD 91.7414    0.2500    \n",
       "  293 LS1_BTS:BPM_D2049   BPM  92.5674    0.0000    \n",
       "  294 LS1_BTS:PM_D2050    PM   92.6414    0.0000    \n",
       "  295 LS1_BTS:DCV_D2061   VCOR 93.7105    0.0000    \n",
       "  296 LS1_BTS:DCH_D2061   HCOR 93.7105    0.0000    \n",
       "  297 LS1_BTS:QV_D2066    QUAD 94.0605    0.2500    \n",
       "  298 LS1_BTS:QH_D2073    QUAD 94.8105    0.2500    \n",
       "  299 LS1_CH01:CAV1_D2085 CAV  96.0075    0.3000    \n",
       "  300 LS1_CH01:CAV2_D2089 CAV  96.4052    0.3000    \n",
       "  301 LS1_CH01:CAV3_D2096 CAV  97.1003    0.3000    \n",
       "  302 LS1_CH01:CAV4_D2100 CAV  97.4980    0.3000    \n",
       "  303 LS1_BTS:DCV_D2114   VCOR 98.9856    0.0000    \n",
       "  304 LS1_BTS:DCH_D2114   HCOR 98.9856    0.0000    \n",
       "  305 LS1_BTS:BPM_D2116   BPM  99.1546    0.1370    \n",
       "  306 LS1_BTS:QV_D2118    QUAD 99.3356    0.2500    \n",
       "  307 LS1_BTS:QH_D2126    QUAD 100.0856   0.2500    \n",
       "  308 LS1_BTS:BPM_D2132   BPM  100.8670   0.0000    \n",
       "  309 LS1_BTS:PM_D2133    PM   100.9410   0.0000    }, u'machconf': <phantasy.library.parser.config.Configuration instance at 0x7f0d14d017a0>, u'machname': 'FRIB_FLAME', u'machpath': '/home/tong/FRIB/projects/machines/FRIB_FLAME'}"
      ]
     },
     "execution_count": 4,
     "metadata": {},
     "output_type": "execute_result"
    }
   ],
   "source": [
    "mp.load_lattice('LS1')\n",
    "# Please note: 'LS1' maybe not consistent with the real configuration, just for demonstration.\n",
    "# The configuration for 'LS1' segment should be updated."
   ]
  },
  {
   "cell_type": "markdown",
   "metadata": {},
   "source": [
    "### List all loaded lattices"
   ]
  },
  {
   "cell_type": "code",
   "execution_count": 5,
   "metadata": {
    "collapsed": false
   },
   "outputs": [
    {
     "data": {
      "text/plain": [
       "['LINAC', 'LS1']"
      ]
     },
     "execution_count": 5,
     "metadata": {},
     "output_type": "execute_result"
    }
   ],
   "source": [
    "mp.lattice_names"
   ]
  },
  {
   "cell_type": "code",
   "execution_count": 6,
   "metadata": {
    "collapsed": false
   },
   "outputs": [
    {
     "data": {
      "text/plain": [
       "'LS1'"
      ]
     },
     "execution_count": 6,
     "metadata": {},
     "output_type": "execute_result"
    }
   ],
   "source": [
    "# Current working lattice:\n",
    "mp.work_lattice_name"
   ]
  },
  {
   "cell_type": "code",
   "execution_count": 7,
   "metadata": {
    "collapsed": false
   },
   "outputs": [
    {
     "data": {
      "text/plain": [
       "'LINAC'"
      ]
     },
     "execution_count": 7,
     "metadata": {},
     "output_type": "execute_result"
    }
   ],
   "source": [
    "# Switch lattice to 'LINAC'\n",
    "mp.use_lattice('LINAC')"
   ]
  },
  {
   "cell_type": "code",
   "execution_count": 8,
   "metadata": {
    "collapsed": false
   },
   "outputs": [
    {
     "data": {
      "text/plain": [
       "'LINAC'"
      ]
     },
     "execution_count": 8,
     "metadata": {},
     "output_type": "execute_result"
    }
   ],
   "source": [
    "# Current working lattice now:\n",
    "mp.work_lattice_name"
   ]
  },
  {
   "cell_type": "markdown",
   "metadata": {},
   "source": [
    "Currently (``phantasy`` of version 0.5.0), one can operate lattice by explicitly getting working lattice,\n",
    "The future plan is most operation should be able to reach through ``MachinePortal``."
   ]
  },
  {
   "cell_type": "markdown",
   "metadata": {},
   "source": [
    "### Get working lattice"
   ]
  },
  {
   "cell_type": "code",
   "execution_count": 9,
   "metadata": {
    "collapsed": true
   },
   "outputs": [],
   "source": [
    "lat = mp.work_lattice_conf"
   ]
  },
  {
   "cell_type": "markdown",
   "metadata": {},
   "source": [
    "### Inspect lattice"
   ]
  },
  {
   "cell_type": "code",
   "execution_count": 10,
   "metadata": {
    "collapsed": false
   },
   "outputs": [
    {
     "name": "stdout",
     "output_type": "stream",
     "text": [
      "Lattice name   : LINAC\n",
      "Machine name   : FRIB_FLAME\n",
      "Lattice groups : [u'BPM', u'HCOR', u'CAV', u'SOL', u'VCOR', u'SEXT', u'BEND', u'QUAD', u'PM']\n"
     ]
    }
   ],
   "source": [
    "print(\"Lattice name   : %s\" % lat.name)\n",
    "print(\"Machine name   : %s\" % lat.mname)\n",
    "print(\"Lattice groups : %s\" % lat.group.keys())\n",
    "## more to be shown, not final version."
   ]
  },
  {
   "cell_type": "markdown",
   "metadata": {},
   "source": [
    "### Locate Elements\n",
    "Two methods (to date) could be used to locate elements: ``get_elements()`` and ``next_elements()``."
   ]
  },
  {
   "cell_type": "markdown",
   "metadata": {},
   "source": [
    "#### get_elements()"
   ]
  },
  {
   "cell_type": "code",
   "execution_count": 11,
   "metadata": {
    "collapsed": false
   },
   "outputs": [
    {
     "data": {
      "text/plain": [
       "[]"
      ]
     },
     "execution_count": 11,
     "metadata": {},
     "output_type": "execute_result"
    }
   ],
   "source": [
    "# Invalid name:\n",
    "lat.get_elements(name='NOEXISTS')"
   ]
  },
  {
   "cell_type": "code",
   "execution_count": 12,
   "metadata": {
    "collapsed": false
   },
   "outputs": [
    {
     "data": {
      "text/plain": [
       "[FS1_BMS:DCV_D2662 [VCOR] @ sb=153.794690]"
      ]
     },
     "execution_count": 12,
     "metadata": {},
     "output_type": "execute_result"
    }
   ],
   "source": [
    "# name:\n",
    "lat.get_elements(name='FS1_BMS:DCV_D2662')"
   ]
  },
  {
   "cell_type": "code",
   "execution_count": 13,
   "metadata": {
    "collapsed": false
   },
   "outputs": [
    {
     "data": {
      "text/plain": [
       "[LS1_BTS:DCV_D1937 [VCOR] @ sb=81.365954,\n",
       " LS1_BTS:DCV_D1964 [VCOR] @ sb=84.013954,\n",
       " LS1_BTS:DCV_D1997 [VCOR] @ sb=87.348954,\n",
       " LS1_BTS:DCV_D2024 [VCOR] @ sb=90.055166,\n",
       " LS1_BTS:DCV_D2061 [VCOR] @ sb=93.710487,\n",
       " LS1_BTS:DCV_D2114 [VCOR] @ sb=98.985556,\n",
       " FS1_BMS:DCH_D2662 [HCOR] @ sb=153.794690,\n",
       " FS1_BMS:DCV_D2662 [VCOR] @ sb=153.794690,\n",
       " FS1_BMS:BPM_D2664 [BPM] @ sb=153.963690,\n",
       " FS1_BMS:QH_D2666 [QUAD] @ sb=154.144690]"
      ]
     },
     "execution_count": 13,
     "metadata": {},
     "output_type": "execute_result"
    }
   ],
   "source": [
    "# name pattern\n",
    "lat.get_elements(name=['FS1_B?*D266?', 'LS1_B*DCV*'])"
   ]
  },
  {
   "cell_type": "code",
   "execution_count": 14,
   "metadata": {
    "collapsed": false
   },
   "outputs": [],
   "source": [
    "# multiple filters, e.g. type:\n",
    "lat.get_elements(name=['FS1_B?*D266?', 'LS1_B*DCV*'], type='BPM')\n",
    "assert lat.get_elements(name=['FS1_B?*D266?', 'LS1_B*DCV*'], type='BPM') == \\\n",
    "       lat.get_elements(name=['FS1_B?*D266?', 'LS1_B*DCV*'], type='BP?')"
   ]
  },
  {
   "cell_type": "code",
   "execution_count": 15,
   "metadata": {
    "collapsed": false
   },
   "outputs": [
    {
     "data": {
      "text/plain": [
       "[FS1_BMS:BPM_D2664 [BPM] @ sb=153.963690,\n",
       " FS1_BMS:QH_D2666 [QUAD] @ sb=154.144690]"
      ]
     },
     "execution_count": 15,
     "metadata": {},
     "output_type": "execute_result"
    }
   ],
   "source": [
    "# with hybrid types:\n",
    "lat.get_elements(name=['FS1_B?*D266?', 'LS1_B*DCV*'], type=['BPM', 'QUAD'])"
   ]
  },
  {
   "cell_type": "code",
   "execution_count": 16,
   "metadata": {
    "collapsed": false
   },
   "outputs": [
    {
     "data": {
      "text/plain": [
       "[LS1_CB01:CAV1_D1229 [CAV] @ sb=10.366596,\n",
       " LS1_CB01:BPM_D1231 [BPM] @ sb=10.762191,\n",
       " LS1_CB01:SOL1_D1235 [SOL] @ sb=10.894207]"
      ]
     },
     "execution_count": 16,
     "metadata": {},
     "output_type": "execute_result"
    }
   ],
   "source": [
    "# get sub-lattice regarding to s-position range:\n",
    "lat.get_elements(srange=(10, 11))"
   ]
  },
  {
   "cell_type": "code",
   "execution_count": 17,
   "metadata": {
    "collapsed": false
   },
   "outputs": [
    {
     "data": {
      "text/plain": [
       "[FS1_BMS:QH_D2666 [QUAD] @ sb=154.144690]"
      ]
     },
     "execution_count": 17,
     "metadata": {},
     "output_type": "execute_result"
    }
   ],
   "source": [
    "# multiple filters with srange:\n",
    "lat.get_elements(name=['FS1_B?*D266?', 'LS1_B*DCV*'], type=['BPM', 'QUAD'], srange=(154, 155))"
   ]
  },
  {
   "cell_type": "markdown",
   "metadata": {},
   "source": [
    "#### next_elements()"
   ]
  },
  {
   "cell_type": "code",
   "execution_count": 18,
   "metadata": {
    "collapsed": true
   },
   "outputs": [],
   "source": [
    "# locate reference element:\n",
    "ref_elem = lat.get_elements(name='*')[6]"
   ]
  },
  {
   "cell_type": "code",
   "execution_count": 19,
   "metadata": {
    "collapsed": false
   },
   "outputs": [
    {
     "data": {
      "text/plain": [
       "LS1_CA01:CAV3_D1143 [CAV] @ sb=1.766370"
      ]
     },
     "execution_count": 19,
     "metadata": {},
     "output_type": "execute_result"
    }
   ],
   "source": [
    "ref_elem"
   ]
  },
  {
   "cell_type": "code",
   "execution_count": 20,
   "metadata": {
    "collapsed": false
   },
   "outputs": [
    {
     "data": {
      "text/plain": [
       "[LS1_CA01:BPM_D1144 [BPM] @ sb=2.070634]"
      ]
     },
     "execution_count": 20,
     "metadata": {},
     "output_type": "execute_result"
    }
   ],
   "source": [
    "# get the next element of ref_elem, i.e. the first element downstream\n",
    "lat.next_elements(ref_elem)"
   ]
  },
  {
   "cell_type": "code",
   "execution_count": 21,
   "metadata": {
    "collapsed": false
   },
   "outputs": [
    {
     "data": {
      "text/plain": [
       "[LS1_CA01:SOL2_D1147 [SOL] @ sb=2.202637]"
      ]
     },
     "execution_count": 21,
     "metadata": {},
     "output_type": "execute_result"
    }
   ],
   "source": [
    "# get the last one of the next two elements\n",
    "lat.next_elements(ref_elem, count=2)"
   ]
  },
  {
   "cell_type": "code",
   "execution_count": 22,
   "metadata": {
    "collapsed": false
   },
   "outputs": [
    {
     "data": {
      "text/plain": [
       "[LS1_CA01:BPM_D1144 [BPM] @ sb=2.070634,\n",
       " LS1_CA01:SOL2_D1147 [SOL] @ sb=2.202637]"
      ]
     },
     "execution_count": 22,
     "metadata": {},
     "output_type": "execute_result"
    }
   ],
   "source": [
    "# get all of the next two elements\n",
    "lat.next_elements(ref_elem, count=2, range='0::1')"
   ]
  },
  {
   "cell_type": "code",
   "execution_count": 23,
   "metadata": {
    "collapsed": false
   },
   "outputs": [
    {
     "data": {
      "text/plain": [
       "[LS1_CA01:DCH_D1131 [HCOR] @ sb=0.743330,\n",
       " LS1_CA01:CAV2_D1135 [CAV] @ sb=0.986724]"
      ]
     },
     "execution_count": 23,
     "metadata": {},
     "output_type": "execute_result"
    }
   ],
   "source": [
    "# get all of the two elements before ref_elem\n",
    "lat.next_elements(ref_elem, count=-2, range='0::1')"
   ]
  },
  {
   "cell_type": "code",
   "execution_count": 24,
   "metadata": {
    "collapsed": false
   },
   "outputs": [
    {
     "data": {
      "text/plain": [
       "[LS1_CA01:CAV3_D1143 [CAV] @ sb=1.766370,\n",
       " LS1_CA01:BPM_D1144 [BPM] @ sb=2.070634,\n",
       " LS1_WA01:BPM_D1155 [BPM] @ sb=3.109095]"
      ]
     },
     "execution_count": 24,
     "metadata": {},
     "output_type": "execute_result"
    }
   ],
   "source": [
    "# get the next two BPM elements of ref_elem,\n",
    "# return including ref_elem itself\n",
    "lat.next_elements(ref_elem, count=2, type=['BPM'], ref_include=True, range='0::1')"
   ]
  },
  {
   "cell_type": "code",
   "execution_count": 25,
   "metadata": {
    "collapsed": false
   },
   "outputs": [
    {
     "data": {
      "text/plain": [
       "[LS1_CA01:BPM_D1144 [BPM] @ sb=2.070634,\n",
       " LS1_CA01:CAV4_D1150 [CAV] @ sb=2.546031,\n",
       " LS1_WA01:BPM_D1155 [BPM] @ sb=3.109095,\n",
       " LS1_CA02:CAV1_D1161 [CAV] @ sb=3.580158]"
      ]
     },
     "execution_count": 25,
     "metadata": {},
     "output_type": "execute_result"
    }
   ],
   "source": [
    "# with hybrid types\n",
    "lat.next_elements(ref_elem, count=2, type=['BPM', 'CAV'], range='0::1')"
   ]
  }
 ],
 "metadata": {
  "kernelspec": {
   "display_name": "Python 2",
   "language": "python",
   "name": "python2"
  },
  "language_info": {
   "codemirror_mode": {
    "name": "ipython",
    "version": 2
   },
   "file_extension": ".py",
   "mimetype": "text/x-python",
   "name": "python",
   "nbconvert_exporter": "python",
   "pygments_lexer": "ipython2",
   "version": "2.7.12"
  }
 },
 "nbformat": 4,
 "nbformat_minor": 2
}

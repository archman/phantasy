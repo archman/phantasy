{
 "cells": [
  {
   "cell_type": "markdown",
   "metadata": {},
   "source": [
    "# Read Settings from .snp file"
   ]
  },
  {
   "cell_type": "markdown",
   "metadata": {},
   "source": [
    "## Import packages, modules"
   ]
  },
  {
   "cell_type": "code",
   "execution_count": 10,
   "metadata": {
    "collapsed": true
   },
   "outputs": [],
   "source": [
    "from phantasy import MachinePortal\n",
    "from phantasy import generate_settings"
   ]
  },
  {
   "cell_type": "markdown",
   "metadata": {},
   "source": [
    "## Disable all logging messages"
   ]
  },
  {
   "cell_type": "code",
   "execution_count": 11,
   "metadata": {
    "collapsed": true
   },
   "outputs": [],
   "source": [
    "from phantasy import disable_warnings\n",
    "disable_warnings()"
   ]
  },
  {
   "cell_type": "markdown",
   "metadata": {},
   "source": [
    "## Model accelerator, here just model LEBT section\n",
    "`mp` is the instance of `MachinePortal`, from which bunch of functionality could be reached by hitting double TAB followed by '`.`'.\n",
    "`lat` is the high-level modeled lattice object, lots of methods regarding to lattice operation attached to it. "
   ]
  },
  {
   "cell_type": "code",
   "execution_count": 12,
   "metadata": {
    "collapsed": false
   },
   "outputs": [],
   "source": [
    "mp = MachinePortal(machine='LEBT')\n",
    "lat = mp.work_lattice_conf"
   ]
  },
  {
   "cell_type": "markdown",
   "metadata": {},
   "source": [
    "### snapshot file is any file exported from Save & Restore application"
   ]
  },
  {
   "cell_type": "code",
   "execution_count": 13,
   "metadata": {
    "collapsed": true
   },
   "outputs": [],
   "source": [
    "snpfile = './Ar_LEBT_to_MEBT_20180321.snp'"
   ]
  },
  {
   "cell_type": "markdown",
   "metadata": {},
   "source": [
    "### Get the new settings by `generate_settings` function\n",
    "\n",
    "```Shell\n",
    "Signature: generate_settings(snpfile, lattice, **kws)\n",
    "Docstring:\n",
    "Generate settings (Settings object) from .snp file.\n",
    "##\n",
    "# The generated settings may has both PHY and ENG fields, e.g. settings\n",
    "# for solenoid should have 'I' and 'B' as keys in the returned dict.\n",
    "##\n",
    "\n",
    "Parameters\n",
    "----------\n",
    "snpfile : str\n",
    "    Filename of snp file from save&restore app.\n",
    "lattice :\n",
    "    Lattice object, usually created after `MachinePortal` instantiation.\n",
    "\n",
    "Keyword Arguments\n",
    "-----------------\n",
    "only_physics : bool\n",
    "    If True, only return physics settings, default is False.\n",
    "\n",
    "Returns\n",
    "-------\n",
    "r :\n",
    "    Settings object.\n",
    "```"
   ]
  },
  {
   "cell_type": "code",
   "execution_count": 18,
   "metadata": {
    "collapsed": true
   },
   "outputs": [],
   "source": [
    "settings_read = generate_settings(snpfile=snpfile, lattice=lat, only_physics=True)"
   ]
  },
  {
   "cell_type": "markdown",
   "metadata": {},
   "source": [
    "The generated settings could be used as the new settings attribute of `lat`."
   ]
  },
  {
   "cell_type": "code",
   "execution_count": 19,
   "metadata": {
    "collapsed": false
   },
   "outputs": [
    {
     "data": {
      "text/plain": [
       "Settings([('FE_SCS1:SOLR_D0704', {u'B': -0.0}),\n",
       "          ('FE_SCS1:DCV_D0709', {u'ANG': 0.00025618987443625624}),\n",
       "          ('FE_SCS1:DCH_D0709', {u'ANG': 7.960329273764917e-05}),\n",
       "          ('FE_SCS1:DH_D0717',\n",
       "           {u'ANG': 90.0, u'B': 72.68, u'ENTANG': 0.0, u'EXTANG': 0.0}),\n",
       "          ('FE_SCS1:DCV_D0723', {u'ANG': -0.00011119911116243927}),\n",
       "          ('FE_SCS1:DCH_D0723', {u'ANG': 5.922359415831602e-05}),\n",
       "          ('FE_SCS1:QHE_D0726', {u'V': 3985.56}),\n",
       "          ('FE_SCS1:QVE_D0730', {u'V': -7496.75}),\n",
       "          ('FE_SCS1:QHE_D0733', {u'V': 3609.39}),\n",
       "          ('FE_SCS1:QHE_D0743', {u'V': 3609.39}),\n",
       "          ('FE_SCS1:QVE_D0746', {u'V': -7496.75}),\n",
       "          ('FE_SCS1:QHE_D0749', {u'V': 3985.56}),\n",
       "          ('FE_LEBT:DH_D0759',\n",
       "           {u'ANG': 90.0, u'B': 71.5, u'ENTANG': 0.0, u'EXTANG': 0.0}),\n",
       "          ('FE_LEBT:QVE_D0767', {u'V': -358.574}),\n",
       "          ('FE_LEBT:QHE_D0770', {u'V': 1266.99}),\n",
       "          ('FE_LEBT:DCV_D0773', {u'ANG': 0.0}),\n",
       "          ('FE_LEBT:DCH_D0773', {u'ANG': 0.00013936}),\n",
       "          ('FE_LEBT:QHE_D0776', {u'V': -2199.82}),\n",
       "          ('FE_LEBT:QVE_D0780', {u'V': 1372.1}),\n",
       "          ('FE_LEBT:SOLR_D0787', {u'B': -0.23096880000000003}),\n",
       "          ('FE_LEBT:DCV_D0790', {u'ANG': 0.0}),\n",
       "          ('FE_LEBT:DCH_D0790', {u'ANG': -0.0}),\n",
       "          ('FE_LEBT:SOLR_D0802', {u'B': -0.2066928}),\n",
       "          ('FE_LEBT:DCV_D0805', {u'ANG': 0.0}),\n",
       "          ('FE_LEBT:DCH_D0805', {u'ANG': -0.0}),\n",
       "          ('FE_LEBT:SOLR_D0818', {u'B': -0.21628760000000002}),\n",
       "          ('FE_LEBT:DCV_D0821', {u'ANG': 0.0}),\n",
       "          ('FE_LEBT:DCH_D0821', {u'ANG': -0.0}),\n",
       "          ('FE_LEBT:DVE_D0833', {u'V': 0.00506953}),\n",
       "          ('FE_LEBT:DCV_D0840', {u'ANG': 0.0}),\n",
       "          ('FE_LEBT:DCH_D0840', {u'ANG': -0.0}),\n",
       "          ('FE_LEBT:QHE_D0844', {u'V': -3122.83}),\n",
       "          ('FE_LEBT:QVE_D0848', {u'V': 6341.75}),\n",
       "          ('FE_LEBT:QHE_D0851', {u'V': -4804.36}),\n",
       "          ('FE_LEBT:DCV_D0868', {u'ANG': 0.0}),\n",
       "          ('FE_LEBT:DCH_D0868', {u'ANG': -0.0}),\n",
       "          ('FE_LEBT:QVE_D0871', {u'V': 3920.62}),\n",
       "          ('FE_LEBT:QHE_D0874', {u'V': -6497.73}),\n",
       "          ('FE_LEBT:QVE_D0878', {u'V': 1931.65}),\n",
       "          ('FE_LEBT:DCV_D0880', {u'ANG': 0.0}),\n",
       "          ('FE_LEBT:DCH_D0880', {u'ANG': -0.0}),\n",
       "          ('FE_LEBT:QVE_D0891', {u'V': 1931.65}),\n",
       "          ('FE_LEBT:QHE_D0895', {u'V': -6497.73}),\n",
       "          ('FE_LEBT:QVE_D0898', {u'V': 3920.62}),\n",
       "          ('FE_LEBT:DCV_D0901', {u'ANG': 0.0}),\n",
       "          ('FE_LEBT:DCH_D0901', {u'ANG': -0.0}),\n",
       "          ('FE_LEBT:QHE_D0918', {u'V': -4804.36}),\n",
       "          ('FE_LEBT:QVE_D0921', {u'V': 6341.75}),\n",
       "          ('FE_LEBT:QHE_D0924', {u'V': -3122.83}),\n",
       "          ('FE_LEBT:DCV_D0929', {u'ANG': 0.0}),\n",
       "          ('FE_LEBT:DCH_D0929', {u'ANG': -0.0}),\n",
       "          ('FE_LEBT:DVE_D0936', {u'V': 0.00506953}),\n",
       "          ('FE_LEBT:DCV_D0948', {u'ANG': -0.00041568}),\n",
       "          ('FE_LEBT:DCH_D0948', {u'ANG': -0.000374112}),\n",
       "          ('FE_LEBT:SOLR_D0951', {u'B': -0.26212300000000005}),\n",
       "          ('FE_LEBT:DCV_D0964', {u'ANG': 0.00083136}),\n",
       "          ('FE_LEBT:DCH_D0964', {u'ANG': 0.0}),\n",
       "          ('FE_LEBT:SOLR_D0967', {u'B': -0.284665}),\n",
       "          ('FE_LEBT:DCV_D0979', {u'ANG': 0.00031176}),\n",
       "          ('FE_LEBT:DCH_D0979', {u'ANG': -0.00020784}),\n",
       "          ('FE_LEBT:SOLR_D0982', {u'B': -0.37933850999999996}),\n",
       "          ('FE_LEBT:DCV_D0992', {u'ANG': 2.0784e-05}),\n",
       "          ('FE_LEBT:DCH_D0992', {u'ANG': -0.000228624}),\n",
       "          ('FE_LEBT:SOLR_D0995', {u'B': -0.43447971})])"
      ]
     },
     "execution_count": 19,
     "metadata": {},
     "output_type": "execute_result"
    }
   ],
   "source": [
    "settings_read"
   ]
  },
  {
   "cell_type": "markdown",
   "metadata": {},
   "source": [
    "For example, the original settings of `lat` is:"
   ]
  },
  {
   "cell_type": "code",
   "execution_count": 20,
   "metadata": {
    "collapsed": false
   },
   "outputs": [
    {
     "data": {
      "text/plain": [
       "Settings([(u'FE_SCS1:SOLR_D0704', OrderedDict([(u'B', 0.0)])),\n",
       "          (u'FE_SCS1:DCH_D0709', OrderedDict([(u'ANG', 0.0)])),\n",
       "          (u'FE_SCS1:DCV_D0709', OrderedDict([(u'ANG', 0.0)])),\n",
       "          (u'FE_SCS1:DH_D0717',\n",
       "           OrderedDict([(u'B', 0.0050696),\n",
       "                        (u'ANG', 90.0),\n",
       "                        (u'ENTANG', 0.0),\n",
       "                        (u'EXTANG', 0.0)])),\n",
       "          (u'FE_SCS1:DCH_D0723', OrderedDict([(u'ANG', 0.0)])),\n",
       "          (u'FE_SCS1:DCV_D0723', OrderedDict([(u'ANG', 0.0)])),\n",
       "          (u'FE_SCS1:QHE_D0726', OrderedDict([(u'V', 3985.56)])),\n",
       "          (u'FE_SCS1:QVE_D0730', OrderedDict([(u'V', -7496.75)])),\n",
       "          (u'FE_SCS1:QHE_D0733', OrderedDict([(u'V', 3609.39)])),\n",
       "          (u'FE_SCS1:QHE_D0743', OrderedDict([(u'V', 3609.39)])),\n",
       "          (u'FE_SCS1:QVE_D0746', OrderedDict([(u'V', -7496.75)])),\n",
       "          (u'FE_SCS1:QHE_D0749', OrderedDict([(u'V', 3985.56)])),\n",
       "          (u'FE_LEBT:DH_D0759',\n",
       "           OrderedDict([(u'B', 0.0050696),\n",
       "                        (u'ANG', 90.0),\n",
       "                        (u'ENTANG', 0.0),\n",
       "                        (u'EXTANG', 0.0)])),\n",
       "          (u'FE_LEBT:QVE_D0767', OrderedDict([(u'V', -358.574)])),\n",
       "          (u'FE_LEBT:QHE_D0770', OrderedDict([(u'V', 1266.99)])),\n",
       "          (u'FE_LEBT:DCH_D0773', OrderedDict([(u'ANG', 0.0)])),\n",
       "          (u'FE_LEBT:DCV_D0773', OrderedDict([(u'ANG', 0.0)])),\n",
       "          (u'FE_LEBT:QHE_D0776', OrderedDict([(u'V', -2199.82)])),\n",
       "          (u'FE_LEBT:QVE_D0780', OrderedDict([(u'V', 1372.1)])),\n",
       "          (u'FE_LEBT:SOLR_D0787', OrderedDict([(u'B', 0.304029)])),\n",
       "          (u'FE_LEBT:DCH_D0790', OrderedDict([(u'ANG', 0.0)])),\n",
       "          (u'FE_LEBT:DCV_D0790', OrderedDict([(u'ANG', 0.0)])),\n",
       "          (u'FE_LEBT:SOLR_D0802', OrderedDict([(u'B', 0.443058)])),\n",
       "          (u'FE_LEBT:DCH_D0805', OrderedDict([(u'ANG', 0.0)])),\n",
       "          (u'FE_LEBT:DCV_D0805', OrderedDict([(u'ANG', 0.0)])),\n",
       "          (u'FE_LEBT:SOLR_D0818', OrderedDict([(u'B', 0.481683)])),\n",
       "          (u'FE_LEBT:DCH_D0821', OrderedDict([(u'ANG', 0.0)])),\n",
       "          (u'FE_LEBT:DCV_D0821', OrderedDict([(u'ANG', 0.0)])),\n",
       "          (u'FE_LEBT:DVE_D0833', OrderedDict([(u'V', 0.00506953)])),\n",
       "          (u'FE_LEBT:DCH_D0840', OrderedDict([(u'ANG', 0.0)])),\n",
       "          (u'FE_LEBT:DCV_D0840', OrderedDict([(u'ANG', 0.0)])),\n",
       "          (u'FE_LEBT:QHE_D0844', OrderedDict([(u'V', -3122.83)])),\n",
       "          (u'FE_LEBT:QVE_D0848', OrderedDict([(u'V', 6341.75)])),\n",
       "          (u'FE_LEBT:QHE_D0851', OrderedDict([(u'V', -4804.36)])),\n",
       "          (u'FE_LEBT:DCH_D0868', OrderedDict([(u'ANG', 0.0)])),\n",
       "          (u'FE_LEBT:DCV_D0868', OrderedDict([(u'ANG', 0.0)])),\n",
       "          (u'FE_LEBT:QVE_D0871', OrderedDict([(u'V', 3920.62)])),\n",
       "          (u'FE_LEBT:QHE_D0874', OrderedDict([(u'V', -6497.73)])),\n",
       "          (u'FE_LEBT:QVE_D0878', OrderedDict([(u'V', 1931.65)])),\n",
       "          (u'FE_LEBT:DCH_D0880', OrderedDict([(u'ANG', 0.0)])),\n",
       "          (u'FE_LEBT:DCV_D0880', OrderedDict([(u'ANG', 0.0)])),\n",
       "          (u'FE_LEBT:QVE_D0891', OrderedDict([(u'V', 1931.65)])),\n",
       "          (u'FE_LEBT:QHE_D0895', OrderedDict([(u'V', -6497.73)])),\n",
       "          (u'FE_LEBT:QVE_D0898', OrderedDict([(u'V', 3920.62)])),\n",
       "          (u'FE_LEBT:DCH_D0901', OrderedDict([(u'ANG', 0.0)])),\n",
       "          (u'FE_LEBT:DCV_D0901', OrderedDict([(u'ANG', 0.0)])),\n",
       "          (u'FE_LEBT:QHE_D0918', OrderedDict([(u'V', -4804.36)])),\n",
       "          (u'FE_LEBT:QVE_D0921', OrderedDict([(u'V', 6341.75)])),\n",
       "          (u'FE_LEBT:QHE_D0924', OrderedDict([(u'V', -3122.83)])),\n",
       "          (u'FE_LEBT:DCH_D0929', OrderedDict([(u'ANG', 0.0)])),\n",
       "          (u'FE_LEBT:DCV_D0929', OrderedDict([(u'ANG', 0.0)])),\n",
       "          (u'FE_LEBT:DVE_D0936', OrderedDict([(u'V', 0.00506953)])),\n",
       "          (u'FE_LEBT:DCH_D0948', OrderedDict([(u'ANG', 0.0)])),\n",
       "          (u'FE_LEBT:DCV_D0948', OrderedDict([(u'ANG', 0.0)])),\n",
       "          (u'FE_LEBT:SOLR_D0951', OrderedDict([(u'B', 0.481683)])),\n",
       "          (u'FE_LEBT:DCH_D0964', OrderedDict([(u'ANG', 0.0)])),\n",
       "          (u'FE_LEBT:DCV_D0964', OrderedDict([(u'ANG', 0.0)])),\n",
       "          (u'FE_LEBT:SOLR_D0967', OrderedDict([(u'B', 0.443058)])),\n",
       "          (u'FE_LEBT:DCH_D0979', OrderedDict([(u'ANG', 0.0)])),\n",
       "          (u'FE_LEBT:DCV_D0979', OrderedDict([(u'ANG', 0.0)])),\n",
       "          (u'FE_LEBT:SOLR_D0982', OrderedDict([(u'B', 0.696513)])),\n",
       "          (u'FE_LEBT:DCH_D0992', OrderedDict([(u'ANG', 0.0)])),\n",
       "          (u'FE_LEBT:DCV_D0992', OrderedDict([(u'ANG', 0.0)])),\n",
       "          (u'FE_LEBT:SOLR_D0995', OrderedDict([(u'B', 0.0)]))])"
      ]
     },
     "execution_count": 20,
     "metadata": {},
     "output_type": "execute_result"
    }
   ],
   "source": [
    "lat.settings"
   ]
  },
  {
   "cell_type": "code",
   "execution_count": 21,
   "metadata": {
    "collapsed": false
   },
   "outputs": [
    {
     "data": {
      "text/plain": [
       "#Name of segment: 'LEBT', unit: [m]\n",
       "#IDX         NAME         FAMILY   POSITION     LENGTH\n",
       "0    FE_SCS1:SOLR_D0704   SOL        0.2329     0.3998\n",
       "1    FE_SCS1:DCV_D0709    VCOR       0.9728     0.0000\n",
       "2    FE_SCS1:DCH_D0709    HCOR       0.9728     0.0000\n",
       "3    FE_SCS1:DH_D0717     BEND       1.2078     1.0000\n",
       "4    FE_SCS1:DCV_D0723    VCOR       2.3701     0.0000\n",
       "5    FE_SCS1:DCH_D0723    HCOR       2.3701     0.0000\n",
       "6    FE_SCS1:QHE_D0726    EQUAD      2.5552     0.2052\n",
       "7    FE_SCS1:QVE_D0730    EQUAD      2.8902     0.2052\n",
       "8    FE_SCS1:QHE_D0733    EQUAD      3.2252     0.2052\n",
       "9    FE_SCS1:QHE_D0743    EQUAD      4.1852     0.2052\n",
       "10   FE_SCS1:QVE_D0746    EQUAD      4.5202     0.2052\n",
       "11   FE_SCS1:QHE_D0749    EQUAD      4.8552     0.2052\n",
       "12   FE_LEBT:DH_D0759     BEND       5.4078     1.0000\n",
       "13   FE_LEBT:QVE_D0767    EQUAD      6.6302     0.2052\n",
       "14   FE_LEBT:QHE_D0770    EQUAD      6.9652     0.2052\n",
       "15   FE_LEBT:DCV_D0773    VCOR       7.3653     0.0000\n",
       "16   FE_LEBT:DCH_D0773    HCOR       7.3653     0.0000\n",
       "17   FE_LEBT:QHE_D0776    EQUAD      7.5602     0.2052\n",
       "18   FE_LEBT:QVE_D0780    EQUAD      7.8952     0.2052\n",
       "19   FE_LEBT:PM_D0783     PM         8.2893     0.0000\n",
       "20   FE_LEBT:SOLR_D0787   SOL        8.5079     0.3998\n",
       "21   FE_LEBT:DCV_D0790    VCOR       9.0284     0.0000\n",
       "22   FE_LEBT:DCH_D0790    HCOR       9.0284     0.0000\n",
       "23   FE_LEBT:SOLR_D0802   SOL        9.9830     0.3998\n",
       "24   FE_LEBT:DCV_D0805    VCOR      10.5036     0.0000\n",
       "25   FE_LEBT:DCH_D0805    HCOR      10.5036     0.0000\n",
       "26   FE_LEBT:PM_D0808     PM        10.8024     0.0000\n",
       "27   FE_LEBT:SOLR_D0818   SOL       11.6232     0.3998\n",
       "28   FE_LEBT:DCV_D0821    VCOR      12.1437     0.0000\n",
       "29   FE_LEBT:DCH_D0821    HCOR      12.1437     0.0000\n",
       "30   FE_LEBT:PM_D0824     PM        12.4175     0.0000\n",
       "31   FE_LEBT:DVE_D0833    EBEND     12.8231     1.0000\n",
       "32   FE_LEBT:DCV_D0840    VCOR      14.0381     0.0000\n",
       "33   FE_LEBT:DCH_D0840    HCOR      14.0381     0.0000\n",
       "34   FE_LEBT:QHE_D0844    EQUAD     14.3705     0.2052\n",
       "35   FE_LEBT:QVE_D0848    EQUAD     14.7055     0.2052\n",
       "36   FE_LEBT:QHE_D0851    EQUAD     15.0405     0.2052\n",
       "37   FE_LEBT:PM_D0856     PM        15.5861     0.0000\n",
       "38   FE_LEBT:DCV_D0868    VCOR      16.8418     0.0000\n",
       "39   FE_LEBT:DCH_D0868    HCOR      16.8418     0.0000\n",
       "40   FE_LEBT:QVE_D0871    EQUAD     17.0192     0.2052\n",
       "41   FE_LEBT:QHE_D0874    EQUAD     17.3542     0.2052\n",
       "42   FE_LEBT:QVE_D0878    EQUAD     17.6892     0.2052\n",
       "43   FE_LEBT:DCV_D0880    VCOR      18.0718     0.0000\n",
       "44   FE_LEBT:DCH_D0880    HCOR      18.0718     0.0000\n",
       "45   FE_LEBT:PM_D0885     PM        18.5465     0.0000\n",
       "46   FE_LEBT:QVE_D0891    EQUAD     19.0492     0.2052\n",
       "47   FE_LEBT:QHE_D0895    EQUAD     19.3842     0.2052\n",
       "48   FE_LEBT:QVE_D0898    EQUAD     19.7192     0.2052\n",
       "49   FE_LEBT:DCV_D0901    VCOR      20.1018     0.0000\n",
       "50   FE_LEBT:DCH_D0901    HCOR      20.1018     0.0000\n",
       "51   FE_LEBT:PM_D0912     PM        21.1953     0.0000\n",
       "52   FE_LEBT:QHE_D0918    EQUAD     21.6980     0.2052\n",
       "53   FE_LEBT:QVE_D0921    EQUAD     22.0330     0.2052\n",
       "54   FE_LEBT:QHE_D0924    EQUAD     22.3680     0.2052\n",
       "55   FE_LEBT:DCV_D0929    VCOR      22.9056     0.0000\n",
       "56   FE_LEBT:DCH_D0929    HCOR      22.9056     0.0000\n",
       "57   FE_LEBT:DVE_D0936    EBEND     23.1206     1.0000\n",
       "58   FE_LEBT:PM_D0945     PM        24.5261     0.0000\n",
       "59   FE_LEBT:DCV_D0948    VCOR      24.7999     0.0000\n",
       "60   FE_LEBT:DCH_D0948    HCOR      24.7999     0.0000\n",
       "61   FE_LEBT:SOLR_D0951   SOL       24.9207     0.3998\n",
       "62   FE_LEBT:PM_D0961     PM        26.1412     0.0000\n",
       "63   FE_LEBT:DCV_D0964    VCOR      26.4401     0.0000\n",
       "64   FE_LEBT:DCH_D0964    HCOR      26.4401     0.0000\n",
       "65   FE_LEBT:SOLR_D0967   SOL       26.5608     0.3998\n",
       "66   FE_LEBT:PM_D0972     PM        27.1793     0.0000\n",
       "67   FE_LEBT:DCV_D0979    VCOR      27.9152     0.0000\n",
       "68   FE_LEBT:DCH_D0979    HCOR      27.9152     0.0000\n",
       "69   FE_LEBT:SOLR_D0982   SOL       28.0360     0.3998\n",
       "70   FE_LEBT:PM_D0986     PM        28.6559     0.0000\n",
       "71   FE_LEBT:CAV_D0987    CAV       28.7609     0.0000\n",
       "72   FE_LEBT:DCV_D0992    VCOR      29.2252     0.0000\n",
       "73   FE_LEBT:DCH_D0992    HCOR      29.2252     0.0000\n",
       "74   FE_LEBT:SOLR_D0995   SOL       29.3460     0.3998\n",
       "75   FE_LEBT:PM_D0998     PM        29.8447     0.0000\n",
       "76   FE_LEBT:CAV_D0999    CAV       29.9209     0.0000"
      ]
     },
     "execution_count": 21,
     "metadata": {},
     "output_type": "execute_result"
    }
   ],
   "source": [
    "lat"
   ]
  }
 ],
 "metadata": {
  "kernelspec": {
   "display_name": "Python 2",
   "language": "python",
   "name": "python2"
  },
  "language_info": {
   "codemirror_mode": {
    "name": "ipython",
    "version": 2
   },
   "file_extension": ".py",
   "mimetype": "text/x-python",
   "name": "python",
   "nbconvert_exporter": "python",
   "pygments_lexer": "ipython2",
   "version": "2.7.12"
  }
 },
 "nbformat": 4,
 "nbformat_minor": 2
}
